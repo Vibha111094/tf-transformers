{
 "cells": [
  {
   "cell_type": "code",
   "execution_count": 5,
   "id": "bafff4ed",
   "metadata": {},
   "outputs": [
    {
     "name": "stdout",
     "output_type": "stream",
     "text": [
      "nameserver 172.16.0.10\n",
      "search fmr-a642163.svc.gpu-cluster.local svc.gpu-cluster.local gpu-cluster.local fmr.com\n",
      "options ndots:5\n",
      "cat: /home/jovyan/.wgetrcb: No such file or directory\n",
      "10.239.228.20:8000\n",
      "10.239.228.20:8000\n"
     ]
    }
   ],
   "source": [
    "import os\n",
    "\n",
    "os.environ['NO_PROXY'] = '169.254.169.254'\n",
    "\n",
    "os.environ['HTTP_PROXY'] = '10.239.228.20:8000'\n",
    "\n",
    "os.environ['HTTPS_PROXY'] = '10.239.228.20:8000'\n",
    "\n",
    "!cat /etc/resolv.conf\n",
    "\n",
    "!cat ~/.wgetrcb\n",
    "\n",
    "!echo \"use_proxy=yes\\nhttp_proxy=http.proxy.fmr.com:8000\\nhttps_proxy=http.proxy.fmr.com:8000\" > ~/.wgetrc\n",
    "\n",
    " \n",
    "\n",
    "#cat ~/.wgetrc\n",
    "\n",
    "!echo $HTTP_PROXY\n",
    "\n",
    "!echo $HTTPS_PROXY"
   ]
  },
  {
   "cell_type": "code",
   "execution_count": 6,
   "id": "2ff0bcf5",
   "metadata": {},
   "outputs": [],
   "source": [
    "import sys\n",
    "sys.path.append(\"/home/jovyan/TF_NEW/tf-transformers/src/\")\n"
   ]
  },
  {
   "cell_type": "code",
   "execution_count": 7,
   "id": "c4da69bd",
   "metadata": {},
   "outputs": [],
   "source": [
    "import os\n",
    "import tempfile\n",
    "import json\n",
    "import glob\n",
    "import datasets\n",
    "import shutil\n",
    "import tensorflow as tf\n",
    "\n",
    "from tf_transformers.data import TFReader, TFWriter\n",
    "from tf_transformers.models import RobertaModel, EncoderDecoder\n",
    "from tf_transformers.losses import cross_entropy_loss, cross_entropy_loss_label_smoothing\n",
    "\n",
    "from transformers import RobertaTokenizer"
   ]
  },
  {
   "cell_type": "code",
   "execution_count": null,
   "id": "9e6aaa69",
   "metadata": {},
   "outputs": [],
   "source": []
  },
  {
   "cell_type": "code",
   "execution_count": 8,
   "id": "f23b0913",
   "metadata": {},
   "outputs": [],
   "source": [
    "# Convert data to features using specific length\n",
    "# into a temp dir (and log it as well for monitoring)\n",
    "\n",
    "def get_dataset(data, batch_size, tokenizer, encoder_max_length, decoder_max_length, mode, tfrecord_dir, take_sample=False):\n",
    "    \n",
    "    if mode not in [\"train\", \"eval\"]:\n",
    "        raise ValueError(\"Inavlid mode `{}` specified. Available mode is ['train', 'eval']\".format(mode))\n",
    "    \n",
    "    def get_tfrecord_example(data):\n",
    "        result = {}\n",
    "        for f in data:\n",
    "            input_ids = [tokenizer.cls_token] + tokenizer.tokenize(f['article'])[: encoder_max_length-2] + [tokenizer.sep_token] # -2 to add CLS and SEP\n",
    "            input_ids = tokenizer.convert_tokens_to_ids(input_ids)\n",
    "            input_mask = [1] * len(input_ids)\n",
    "            input_type_ids = [0] * len(input_ids)\n",
    "\n",
    "            decoder_input_ids = [tokenizer.cls_token] + tokenizer.tokenize(f['abstract'])[: decoder_max_length-2] + [tokenizer.sep_token]\n",
    "            decoder_input_ids = tokenizer.convert_tokens_to_ids(decoder_input_ids)\n",
    "            decoder_input_type_ids = [0] * len(decoder_input_ids)\n",
    "\n",
    "            result = {}\n",
    "            result['encoder_input_ids'] = input_ids\n",
    "            result['encoder_input_mask'] = input_mask\n",
    "            result['encoder_input_type_ids'] = input_type_ids\n",
    "            result['decoder_input_ids'] = decoder_input_ids[:-1] # except last word\n",
    "            result['decoder_input_type_ids'] = decoder_input_type_ids[:-1] # except last word\n",
    "\n",
    "            result['labels'] = decoder_input_ids[1:] # not including first word\n",
    "            result['labels_mask'] = [1] * len(decoder_input_ids[1:])\n",
    "\n",
    "            # Decoder doesnt need input_mask because by default decoder has causal mask mode\n",
    "\n",
    "            yield result\n",
    "\n",
    "    schema = {\n",
    "        \"encoder_input_ids\": (\"var_len\", \"int\"),\n",
    "        \"encoder_input_mask\": (\"var_len\", \"int\"),\n",
    "        \"encoder_input_type_ids\": (\"var_len\", \"int\"),\n",
    "        \"decoder_input_ids\": (\"var_len\", \"int\"),\n",
    "        \"decoder_input_type_ids\": (\"var_len\", \"int\"),\n",
    "        \"labels\": (\"var_len\", \"int\"),\n",
    "        \"labels_mask\": (\"var_len\", \"int\"),\n",
    "    }\n",
    "    \n",
    "    # Create a temp dir\n",
    "    if mode == \"train\":\n",
    "        # Write tf records\n",
    "        train_data_dir = os.path.join(tfrecord_dir,\"train\")        \n",
    "        tfrecord_filename = 'pubmed'\n",
    "        tfwriter = TFWriter(schema=schema, \n",
    "                            file_name=tfrecord_filename, \n",
    "                            model_dir=train_data_dir,\n",
    "                            tag='train',\n",
    "                            overwrite=False\n",
    "                     )\n",
    "        data_train = data['train']\n",
    "        # Take sample\n",
    "        if take_sample:\n",
    "            data_train = data_train.select(range(500))\n",
    "            \n",
    "        tfwriter.process(parse_fn=get_tfrecord_example(data_train))\n",
    "        \n",
    "        # Read tfrecord to dataset\n",
    "        schema = json.load(open(\"{}/schema.json\".format(train_data_dir)))\n",
    "        stats  = json.load(open('{}/stats.json'.format(train_data_dir)))\n",
    "        all_files = glob.glob(\"{}/*.tfrecord\".format(train_data_dir))\n",
    "        tf_reader = TFReader(schema=schema, \n",
    "                            tfrecord_files=all_files)\n",
    "\n",
    "        x_keys = ['encoder_input_ids', 'encoder_input_type_ids', 'encoder_input_mask', 'decoder_input_ids', 'decoder_input_type_ids']\n",
    "        y_keys = ['labels', 'labels_mask']\n",
    "        train_dataset = tf_reader.read_record(auto_batch=True, \n",
    "                                           keys=x_keys,\n",
    "                                           batch_size=batch_size, \n",
    "                                           x_keys = x_keys, \n",
    "                                           y_keys = y_keys,\n",
    "                                           shuffle=True, \n",
    "                                           drop_remainder=True\n",
    "                                          )\n",
    "        return train_dataset, stats['total_records']\n",
    "    if mode == \"eval\":\n",
    "        # Write tfrecords\n",
    "        eval_data_dir = os.path.join(tfrecord_dir,\"eval\")\n",
    "        tfrecord_filename = 'pubmed'\n",
    "        tfwriter = TFWriter(schema=schema, \n",
    "                            file_name=tfrecord_filename, \n",
    "                            model_dir=eval_data_dir,\n",
    "                            tag='dev',\n",
    "                            overwrite=False\n",
    "                            )\n",
    "        data_eval = data['validation']\n",
    "        # Take sample\n",
    "        if take_sample:\n",
    "            data_eval = data_eval.select(range(500))\n",
    "        tfwriter.process(parse_fn=get_tfrecord_example(data_eval))\n",
    "        \n",
    "        \n",
    "        # Read tfrecord to dataset\n",
    "        schema = json.load(open(\"{}/schema.json\".format(eval_data_dir)))\n",
    "        stats  = json.load(open('{}/stats.json'.format(eval_data_dir)))\n",
    "        all_files = glob.glob(\"{}/*.tfrecord\".format(eval_data_dir))\n",
    "        tf_reader = TFReader(schema=schema, \n",
    "                            tfrecord_files=all_files)\n",
    "\n",
    "        x_keys = ['encoder_input_ids', 'encoder_input_type_ids', 'encoder_input_mask', 'decoder_input_ids', 'decoder_input_type_ids']\n",
    "        y_keys = ['labels', 'labels_mask']\n",
    "        eval_dataset = tf_reader.read_record(auto_batch=True, \n",
    "                                           keys=x_keys,\n",
    "                                           batch_size=batch_size, \n",
    "                                           x_keys = x_keys, \n",
    "                                           y_keys = y_keys,\n",
    "                                           shuffle=False, \n",
    "                                           drop_remainder=False\n",
    "                                          )\n",
    "        return eval_dataset, stats['total_records']"
   ]
  },
  {
   "cell_type": "code",
   "execution_count": null,
   "id": "ff819a40",
   "metadata": {},
   "outputs": [],
   "source": []
  },
  {
   "cell_type": "code",
   "execution_count": 9,
   "id": "50cdf6a6",
   "metadata": {},
   "outputs": [],
   "source": [
    "# Load model\n",
    "\n",
    "def get_model():\n",
    "    encoder = RobertaModel.from_pretrained(\"roberta-base\", return_layer=True)\n",
    "    decoder = RobertaModel.from_pretrained(\"roberta-base\",use_decoder=True, return_layer=True, mask_mode='causal')\n",
    "\n",
    "    # Assign all possible encoder variables to decoder\n",
    "    encoder_dict = {var.name: var for var in encoder.variables}\n",
    "    assigned_counter = 0\n",
    "    for var in decoder.variables:\n",
    "        if var.name in encoder_dict:\n",
    "            var.assign(encoder_dict[var.name])\n",
    "            assigned_counter += 1\n",
    "    print(\"Assigned {} variables from encoder to decoder .\".format(assigned_counter))\n",
    "    del encoder_dict\n",
    "    print(\"ENncoder variables {} and Decoder variables {}\".format(len(encoder.variables), len(decoder.variables)))\n",
    "    model = EncoderDecoder(encoder=encoder, decoder=decoder, share_embeddings=True) \n",
    "    model = model.get_model()\n",
    "    print(\"Model variables {}\".format(len(model.variables)))\n",
    "\n",
    "    del encoder\n",
    "    del decoder\n",
    "    \n",
    "    return model\n",
    "\n",
    "# Load Tokenizer\n",
    "tokenizer = RobertaTokenizer.from_pretrained(\"roberta-base\")"
   ]
  },
  {
   "cell_type": "code",
   "execution_count": null,
   "id": "2011350d",
   "metadata": {},
   "outputs": [],
   "source": []
  },
  {
   "cell_type": "code",
   "execution_count": null,
   "id": "5c645645",
   "metadata": {},
   "outputs": [],
   "source": []
  },
  {
   "cell_type": "code",
   "execution_count": 10,
   "id": "4dd0d146",
   "metadata": {},
   "outputs": [],
   "source": [
    "\n",
    "# Data specific configuration\n",
    "encoder_max_seq_length = 512\n",
    "decoder_max_seq_length = 64\n",
    "\n",
    "take_sample = False\n",
    "train_batch_size = 64\n",
    "eval_batch_size  = 32\n",
    "\n",
    "# Trainer specifics\n",
    "device = \"gpu\"\n",
    "num_gpus = 2\n",
    "tpu_address = None\n",
    "dtype = \"fp32\"\n",
    "epochs = 3\n",
    "strategy = \"mirrored\"\n",
    "\n",
    "# Optimizer\n",
    "learning_rate = 1e-5\n",
    "loss_type = None\n",
    "return_all_layer_outputs = False\n",
    "if loss_type and loss_type == 'joint':\n",
    "    return_all_layer_outputs = True\n",
    "\n",
    "# Core data specifics\n",
    "data_name = \"scientific_papers\"\n",
    "#num_classes = cfg.glue.data.num_classes\n",
    "\n",
    "# Model specific\n",
    "is_training = True\n",
    "use_dropout = True"
   ]
  },
  {
   "cell_type": "code",
   "execution_count": null,
   "id": "f6558755",
   "metadata": {},
   "outputs": [],
   "source": []
  },
  {
   "cell_type": "code",
   "execution_count": 11,
   "id": "4bde4075",
   "metadata": {},
   "outputs": [
    {
     "name": "stderr",
     "output_type": "stream",
     "text": [
      "You are using a model of type roberta to instantiate a model of type . This is not supported for all configurations of models and can yield errors.\n",
      "INFO:absl:Successful: Model checkpoints matched and loaded from /tmp/tf_transformers_cache/roberta-base/ckpt-1\n",
      "You are using a model of type roberta to instantiate a model of type . This is not supported for all configurations of models and can yield errors.\n"
     ]
    },
    {
     "name": "stdout",
     "output_type": "stream",
     "text": [
      "WARNING:tensorflow:Inconsistent references when loading the checkpoint into this object graph. Either the Trackable object references in the Python program have changed in an incompatible way, or the checkpoint was generated in an incompatible program.\n",
      "\n",
      "Two checkpoint references resolved to different objects (<tf_transformers.models.roberta.roberta.RobertaEncoder object at 0x7f2646e94250> and <tensorflow.python.keras.engine.input_layer.InputLayer object at 0x7f259c198d30>).\n"
     ]
    },
    {
     "name": "stderr",
     "output_type": "stream",
     "text": [
      "WARNING:tensorflow:Inconsistent references when loading the checkpoint into this object graph. Either the Trackable object references in the Python program have changed in an incompatible way, or the checkpoint was generated in an incompatible program.\n",
      "\n",
      "Two checkpoint references resolved to different objects (<tf_transformers.models.roberta.roberta.RobertaEncoder object at 0x7f2646e94250> and <tensorflow.python.keras.engine.input_layer.InputLayer object at 0x7f259c198d30>).\n",
      "INFO:absl:Successful: Model checkpoints matched and loaded from /tmp/tf_transformers_cache/roberta-base/ckpt-1\n"
     ]
    },
    {
     "name": "stdout",
     "output_type": "stream",
     "text": [
      "Assigned 132 variables from encoder to decoder .\n",
      "ENncoder variables 204 and Decoder variables 324\n",
      "Model variables 525\n"
     ]
    }
   ],
   "source": [
    "# Autoregressive model\n",
    "\n",
    "encoder = RobertaModel.from_pretrained(\"roberta-base\", return_layer=True)\n",
    "decoder = RobertaModel.from_pretrained(\"roberta-base\", mask_mode='causal', use_decoder=True, use_auto_regressive=True, return_layer=True)\n",
    "# Assign all possible encoder variables to decoder\n",
    "encoder_dict = {var.name: var for var in encoder.variables}\n",
    "assigned_counter = 0\n",
    "for var in decoder.variables:\n",
    "    if var.name in encoder_dict:\n",
    "        var.assign(encoder_dict[var.name])\n",
    "        assigned_counter += 1\n",
    "print(\"Assigned {} variables from encoder to decoder .\".format(assigned_counter))\n",
    "del encoder_dict\n",
    "print(\"ENncoder variables {} and Decoder variables {}\".format(len(encoder.variables), len(decoder.variables)))\n",
    "model_ar = EncoderDecoder(encoder=encoder, decoder=decoder, share_embeddings=True) \n",
    "print(\"Model variables {}\".format(len(model_ar.variables)))\n",
    "\n",
    "del encoder\n",
    "del decoder\n",
    "\n",
    "# Important\n",
    "model_ar = model_ar.get_model()"
   ]
  },
  {
   "cell_type": "code",
   "execution_count": 13,
   "id": "cd27c788",
   "metadata": {},
   "outputs": [],
   "source": []
  },
  {
   "cell_type": "code",
   "execution_count": 12,
   "id": "119836cc",
   "metadata": {},
   "outputs": [],
   "source": [
    "import datasets\n",
    "import tqdm\n",
    "from tf_transformers.text import TextDecoder\n",
    "\n",
    "class RougeCallback():\n",
    "    \n",
    "    def __init__(self, model, eval_dataset, original_summaries, tokenizer, eos_id, decoder_start_id, max_iterations):\n",
    "        \n",
    "        self.model = model\n",
    "        self.eval_dataset = eval_dataset\n",
    "        self.original_summaries = original_summaries\n",
    "        self.tokenizer = tokenizer\n",
    "        self.eos_id = eos_id\n",
    "        self.decoder_start_id = decoder_start_id\n",
    "        self.max_iterations = max_iterations\n",
    "        \n",
    "    def __call__(self, train_kwargs):\n",
    "        \n",
    "        self.model.set_weights(train_kwargs['model'].get_weights())\n",
    "        decoder = TextDecoder(self.model, decoder_start_token_id=self.decoder_start_id, input_type_ids=0)\n",
    "        \n",
    "        # Predictions\n",
    "        predicted_summaries = []\n",
    "        for (batch_inputs, batch_labels) in tqdm.tqdm(eval_dataset):\n",
    "            del batch_inputs['decoder_input_ids']\n",
    "            decoder_outputs = decoder.decode(batch_inputs, mode='greedy', max_iterations=self.max_iterations, eos_id=self.eos_id)\n",
    "            predicted_ids = [item[0] for item in decoder_outputs['predicted_ids'].numpy().tolist()]\n",
    "\n",
    "            predicted_ids_sliced = []\n",
    "            for p_id in predicted_ids:\n",
    "                if self.eos_id in p_id:\n",
    "                    index = p_id.index(eos_token)\n",
    "                    p_id = p_id[:index]\n",
    "                predicted_ids_sliced.append(p_id)\n",
    "                predicted_summaries.append(self.tokenizer.decode(p_id))\n",
    "                \n",
    "        rouge = datasets.load_metric(\"rouge\")\n",
    "        rouge_output2 = rouge.compute(predictions=predicted_summaries, references=self.original_summaries, rouge_types=[\"rouge2\"])[\"rouge2\"].mid\n",
    "        rouge_output1 = rouge.compute(predictions=predicted_summaries, references=self.original_summaries, rouge_types=[\"rouge1\"])[\"rouge1\"].mid\n",
    "        rouge_outputL = rouge.compute(predictions=predicted_summaries, references=self.original_summaries, rouge_types=[\"rougeL\"])[\"rougeL\"].mid\n",
    "\n",
    "        rouge2 = {'rouge2_precision': rouge_output2.precision,\n",
    "                  'rouge2_recall': rouge_output2.recall,\n",
    "                  'rouge2_f1': rouge_output2.fmeasure}\n",
    "        rouge2['rouge1_precision'] = rouge_output1.precision\n",
    "        rouge2['rouge1_recall'] = rouge_output1.recall\n",
    "        rouge2['rouge1_f1'] = rouge_output1.fmeasure\n",
    "\n",
    "        rouge2['rougeL_precision'] = rouge_outputL.precision\n",
    "        rouge2['rougeL_recall'] = rouge_outputL.recall\n",
    "        rouge2['rougeL_f1'] = rouge_outputL.fmeasure\n",
    "        return rouge2\n"
   ]
  },
  {
   "cell_type": "code",
   "execution_count": 29,
   "id": "9d29ffb1",
   "metadata": {},
   "outputs": [],
   "source": []
  },
  {
   "cell_type": "code",
   "execution_count": null,
   "id": "bf8da964",
   "metadata": {},
   "outputs": [],
   "source": []
  },
  {
   "cell_type": "code",
   "execution_count": 13,
   "id": "257f2fbd",
   "metadata": {},
   "outputs": [
    {
     "name": "stderr",
     "output_type": "stream",
     "text": [
      "WARNING:datasets.builder:Reusing dataset scientific_papers (/home/jovyan/.cache/huggingface/datasets/scientific_papers/pubmed/1.1.1/306757013fb6f37089b6a75469e6638a553bd9f009484938d8f75a4c5e84206f)\n"
     ]
    }
   ],
   "source": [
    "# Load dataset\n",
    "from datasets import load_dataset\n",
    "dataset = load_dataset(\"scientific_papers\", \"pubmed\")"
   ]
  },
  {
   "cell_type": "code",
   "execution_count": 15,
   "id": "cd04e65c",
   "metadata": {},
   "outputs": [
    {
     "name": "stderr",
     "output_type": "stream",
     "text": [
      "INFO:absl:Total individual observations/examples written is 119924 in 1213.9509325027466 seconds\n",
      "INFO:absl:All writer objects closed\n",
      "INFO:absl:Total individual observations/examples written is 6633 in 68.34936857223511 seconds\n",
      "INFO:absl:All writer objects closed\n"
     ]
    }
   ],
   "source": [
    "# Load TFrecords\n",
    "tfrecord_dir = tempfile.mkdtemp()\n",
    "\n",
    "train_dataset, total_train_examples = get_dataset(dataset, train_batch_size,tokenizer, encoder_max_seq_length, decoder_max_seq_length, \"train\", tfrecord_dir, take_sample)\n",
    "eval_dataset, total_eval_examples  = get_dataset(dataset, eval_batch_size,tokenizer, encoder_max_seq_length, decoder_max_seq_length, \"eval\", tfrecord_dir, take_sample)\n",
    "\n",
    "original_summaries = [item['abstract'] for item in dataset['validation']]\n",
    "callback = RougeCallback( model_ar, eval_dataset, original_summaries,\n",
    "                         tokenizer, tokenizer.sep_token_id, tokenizer.cls_token_id, decoder_max_seq_length)"
   ]
  },
  {
   "cell_type": "code",
   "execution_count": 34,
   "id": "da4308df",
   "metadata": {},
   "outputs": [],
   "source": []
  },
  {
   "cell_type": "code",
   "execution_count": 16,
   "id": "565e23b0",
   "metadata": {},
   "outputs": [],
   "source": [
    "# Load optimizer fn\n",
    "\n",
    "from tf_transformers.optimization import create_optimizer\n",
    "def get_optimizer(learning_rate, examples, batch_size, epochs, learning_rate_type=\"polynomial\"):\n",
    "    steps_per_epoch = int(examples / batch_size)\n",
    "    num_train_steps = steps_per_epoch * epochs\n",
    "    warmup_steps = int(0.1 * num_train_steps)\n",
    "    \n",
    "    def optimizer_fn():\n",
    "        optimizer, learning_rate_fn = create_optimizer(learning_rate,\n",
    "                                                   num_train_steps,\n",
    "                                                   num_train_steps, \n",
    "                                                      learning_rate_type=learning_rate_type)\n",
    "        return optimizer\n",
    "    return optimizer_fn\n",
    "\n",
    "optimizer_fn = get_optimizer(learning_rate, total_train_examples, train_batch_size, epochs)"
   ]
  },
  {
   "cell_type": "code",
   "execution_count": 17,
   "id": "332b2390",
   "metadata": {},
   "outputs": [],
   "source": [
    "# Loss fn\n",
    "\n",
    "def get_loss(y_true_dict, y_pred_dict):\n",
    "    \n",
    "    loss = cross_entropy_loss(labels=y_true_dict['labels'], \n",
    "                                   logits=y_pred_dict['token_logits'], \n",
    "                                      label_weights=y_true_dict['labels_mask'])\n",
    "    return {'loss': loss}"
   ]
  },
  {
   "cell_type": "code",
   "execution_count": 21,
   "id": "f6cfe483",
   "metadata": {},
   "outputs": [],
   "source": []
  },
  {
   "cell_type": "code",
   "execution_count": 18,
   "id": "a1e5035f",
   "metadata": {},
   "outputs": [
    {
     "name": "stdout",
     "output_type": "stream",
     "text": [
      "INFO:tensorflow:Using MirroredStrategy with devices ('/job:localhost/replica:0/task:0/device:GPU:0', '/job:localhost/replica:0/task:0/device:GPU:1')\n"
     ]
    },
    {
     "name": "stderr",
     "output_type": "stream",
     "text": [
      "INFO:tensorflow:Using MirroredStrategy with devices ('/job:localhost/replica:0/task:0/device:GPU:0', '/job:localhost/replica:0/task:0/device:GPU:1')\n"
     ]
    }
   ],
   "source": [
    "# Load trainer\n",
    "from tf_transformers.core import GPUTrainer\n",
    "trainer = GPUTrainer(distribution_strategy=strategy, \n",
    "                    num_gpus=num_gpus, \n",
    "                    dtype=dtype)"
   ]
  },
  {
   "cell_type": "code",
   "execution_count": 22,
   "id": "610b3fd0",
   "metadata": {},
   "outputs": [],
   "source": []
  },
  {
   "cell_type": "code",
   "execution_count": 19,
   "id": "2a59dc5d",
   "metadata": {},
   "outputs": [],
   "source": [
    "model_fn = get_model\n",
    "train_loss_fn = get_loss"
   ]
  },
  {
   "cell_type": "code",
   "execution_count": null,
   "id": "17a4c52b",
   "metadata": {},
   "outputs": [
    {
     "name": "stderr",
     "output_type": "stream",
     "text": [
      "INFO:absl:Make sure `steps_per_epoch` should be less than or equal to number of batches in dataset.\n",
      "INFO:absl:Policy: ----> float32\n",
      "INFO:absl:Strategy: ---> <tensorflow.python.distribute.mirrored_strategy.MirroredStrategy object at 0x7f26478ade80>\n",
      "INFO:absl:Num GPU Devices: ---> 2\n",
      "You are using a model of type roberta to instantiate a model of type . This is not supported for all configurations of models and can yield errors.\n",
      "INFO:absl:Successful: Model checkpoints matched and loaded from /tmp/tf_transformers_cache/roberta-base/ckpt-1\n",
      "You are using a model of type roberta to instantiate a model of type . This is not supported for all configurations of models and can yield errors.\n",
      "INFO:absl:Successful: Model checkpoints matched and loaded from /tmp/tf_transformers_cache/roberta-base/ckpt-1\n"
     ]
    },
    {
     "name": "stdout",
     "output_type": "stream",
     "text": [
      "Assigned 204 variables from encoder to decoder .\n",
      "ENncoder variables 204 and Decoder variables 324\n"
     ]
    },
    {
     "name": "stderr",
     "output_type": "stream",
     "text": [
      "INFO:absl:Using Adamw optimizer\n",
      "INFO:absl:No checkpoint found in /tmp/roberta2robera_pubmed_short/\n",
      "Epoch 1/3 --- Step 100/100000 --- :   0%|          | 0/1000 [00:00<?, ?batch /s]"
     ]
    },
    {
     "name": "stdout",
     "output_type": "stream",
     "text": [
      "Model variables 525\n",
      "WARNING:tensorflow:Gradients do not exist for variables ['tf_transformers/roberta/pooler_transform/kernel:0', 'tf_transformers/roberta/pooler_transform/bias:0', 'tf_transformers/roberta/mlm/transform/dense/kernel:0', 'tf_transformers/roberta/mlm/transform/dense/bias:0', 'tf_transformers/roberta/mlm/transform/LayerNorm/gamma:0', 'tf_transformers/roberta/mlm/transform/LayerNorm/beta:0', 'tf_transformers/roberta/mlm/transform/bias:0', 'tf_transformers/roberta/pooler_transform/kernel:0', 'tf_transformers/roberta/pooler_transform/bias:0'] when minimizing the loss.\n"
     ]
    },
    {
     "name": "stderr",
     "output_type": "stream",
     "text": [
      "WARNING:tensorflow:Gradients do not exist for variables ['tf_transformers/roberta/pooler_transform/kernel:0', 'tf_transformers/roberta/pooler_transform/bias:0', 'tf_transformers/roberta/mlm/transform/dense/kernel:0', 'tf_transformers/roberta/mlm/transform/dense/bias:0', 'tf_transformers/roberta/mlm/transform/LayerNorm/gamma:0', 'tf_transformers/roberta/mlm/transform/LayerNorm/beta:0', 'tf_transformers/roberta/mlm/transform/bias:0', 'tf_transformers/roberta/pooler_transform/kernel:0', 'tf_transformers/roberta/pooler_transform/bias:0'] when minimizing the loss.\n"
     ]
    },
    {
     "name": "stdout",
     "output_type": "stream",
     "text": [
      "WARNING:tensorflow:Gradients do not exist for variables ['tf_transformers/roberta/pooler_transform/kernel:0', 'tf_transformers/roberta/pooler_transform/bias:0', 'tf_transformers/roberta/mlm/transform/dense/kernel:0', 'tf_transformers/roberta/mlm/transform/dense/bias:0', 'tf_transformers/roberta/mlm/transform/LayerNorm/gamma:0', 'tf_transformers/roberta/mlm/transform/LayerNorm/beta:0', 'tf_transformers/roberta/mlm/transform/bias:0', 'tf_transformers/roberta/pooler_transform/kernel:0', 'tf_transformers/roberta/pooler_transform/bias:0'] when minimizing the loss.\n"
     ]
    },
    {
     "name": "stderr",
     "output_type": "stream",
     "text": [
      "WARNING:tensorflow:Gradients do not exist for variables ['tf_transformers/roberta/pooler_transform/kernel:0', 'tf_transformers/roberta/pooler_transform/bias:0', 'tf_transformers/roberta/mlm/transform/dense/kernel:0', 'tf_transformers/roberta/mlm/transform/dense/bias:0', 'tf_transformers/roberta/mlm/transform/LayerNorm/gamma:0', 'tf_transformers/roberta/mlm/transform/LayerNorm/beta:0', 'tf_transformers/roberta/mlm/transform/bias:0', 'tf_transformers/roberta/pooler_transform/kernel:0', 'tf_transformers/roberta/pooler_transform/bias:0'] when minimizing the loss.\n"
     ]
    },
    {
     "name": "stdout",
     "output_type": "stream",
     "text": [
      "INFO:tensorflow:batch_all_reduce: 515 all-reduces with algorithm = nccl, num_packs = 1\n"
     ]
    },
    {
     "name": "stderr",
     "output_type": "stream",
     "text": [
      "INFO:tensorflow:batch_all_reduce: 515 all-reduces with algorithm = nccl, num_packs = 1\n"
     ]
    },
    {
     "name": "stdout",
     "output_type": "stream",
     "text": [
      "WARNING:tensorflow:Efficient allreduce is not supported for 1 IndexedSlices\n"
     ]
    },
    {
     "name": "stderr",
     "output_type": "stream",
     "text": [
      "WARNING:tensorflow:Efficient allreduce is not supported for 1 IndexedSlices\n"
     ]
    },
    {
     "name": "stdout",
     "output_type": "stream",
     "text": [
      "INFO:tensorflow:Reduce to /job:localhost/replica:0/task:0/device:GPU:0 then broadcast to ('/job:localhost/replica:0/task:0/device:GPU:0', '/job:localhost/replica:0/task:0/device:GPU:1').\n"
     ]
    },
    {
     "name": "stderr",
     "output_type": "stream",
     "text": [
      "INFO:tensorflow:Reduce to /job:localhost/replica:0/task:0/device:GPU:0 then broadcast to ('/job:localhost/replica:0/task:0/device:GPU:0', '/job:localhost/replica:0/task:0/device:GPU:1').\n"
     ]
    },
    {
     "name": "stdout",
     "output_type": "stream",
     "text": [
      "INFO:tensorflow:Reduce to /job:localhost/replica:0/task:0/device:CPU:0 then broadcast to ('/job:localhost/replica:0/task:0/device:CPU:0',).\n"
     ]
    },
    {
     "name": "stderr",
     "output_type": "stream",
     "text": [
      "INFO:tensorflow:Reduce to /job:localhost/replica:0/task:0/device:CPU:0 then broadcast to ('/job:localhost/replica:0/task:0/device:CPU:0',).\n"
     ]
    },
    {
     "name": "stdout",
     "output_type": "stream",
     "text": [
      "WARNING:tensorflow:Gradients do not exist for variables ['tf_transformers/roberta/pooler_transform/kernel:0', 'tf_transformers/roberta/pooler_transform/bias:0', 'tf_transformers/roberta/mlm/transform/dense/kernel:0', 'tf_transformers/roberta/mlm/transform/dense/bias:0', 'tf_transformers/roberta/mlm/transform/LayerNorm/gamma:0', 'tf_transformers/roberta/mlm/transform/LayerNorm/beta:0', 'tf_transformers/roberta/mlm/transform/bias:0', 'tf_transformers/roberta/pooler_transform/kernel:0', 'tf_transformers/roberta/pooler_transform/bias:0'] when minimizing the loss.\n"
     ]
    },
    {
     "name": "stderr",
     "output_type": "stream",
     "text": [
      "WARNING:tensorflow:Gradients do not exist for variables ['tf_transformers/roberta/pooler_transform/kernel:0', 'tf_transformers/roberta/pooler_transform/bias:0', 'tf_transformers/roberta/mlm/transform/dense/kernel:0', 'tf_transformers/roberta/mlm/transform/dense/bias:0', 'tf_transformers/roberta/mlm/transform/LayerNorm/gamma:0', 'tf_transformers/roberta/mlm/transform/LayerNorm/beta:0', 'tf_transformers/roberta/mlm/transform/bias:0', 'tf_transformers/roberta/pooler_transform/kernel:0', 'tf_transformers/roberta/pooler_transform/bias:0'] when minimizing the loss.\n"
     ]
    },
    {
     "name": "stdout",
     "output_type": "stream",
     "text": [
      "WARNING:tensorflow:Gradients do not exist for variables ['tf_transformers/roberta/pooler_transform/kernel:0', 'tf_transformers/roberta/pooler_transform/bias:0', 'tf_transformers/roberta/mlm/transform/dense/kernel:0', 'tf_transformers/roberta/mlm/transform/dense/bias:0', 'tf_transformers/roberta/mlm/transform/LayerNorm/gamma:0', 'tf_transformers/roberta/mlm/transform/LayerNorm/beta:0', 'tf_transformers/roberta/mlm/transform/bias:0', 'tf_transformers/roberta/pooler_transform/kernel:0', 'tf_transformers/roberta/pooler_transform/bias:0'] when minimizing the loss.\n"
     ]
    },
    {
     "name": "stderr",
     "output_type": "stream",
     "text": [
      "WARNING:tensorflow:Gradients do not exist for variables ['tf_transformers/roberta/pooler_transform/kernel:0', 'tf_transformers/roberta/pooler_transform/bias:0', 'tf_transformers/roberta/mlm/transform/dense/kernel:0', 'tf_transformers/roberta/mlm/transform/dense/bias:0', 'tf_transformers/roberta/mlm/transform/LayerNorm/gamma:0', 'tf_transformers/roberta/mlm/transform/LayerNorm/beta:0', 'tf_transformers/roberta/mlm/transform/bias:0', 'tf_transformers/roberta/pooler_transform/kernel:0', 'tf_transformers/roberta/pooler_transform/bias:0'] when minimizing the loss.\n"
     ]
    },
    {
     "name": "stdout",
     "output_type": "stream",
     "text": [
      "INFO:tensorflow:batch_all_reduce: 515 all-reduces with algorithm = nccl, num_packs = 1\n"
     ]
    },
    {
     "name": "stderr",
     "output_type": "stream",
     "text": [
      "INFO:tensorflow:batch_all_reduce: 515 all-reduces with algorithm = nccl, num_packs = 1\n"
     ]
    },
    {
     "name": "stdout",
     "output_type": "stream",
     "text": [
      "INFO:tensorflow:Reduce to /job:localhost/replica:0/task:0/device:CPU:0 then broadcast to ('/job:localhost/replica:0/task:0/device:CPU:0',).\n"
     ]
    },
    {
     "name": "stderr",
     "output_type": "stream",
     "text": [
      "INFO:tensorflow:Reduce to /job:localhost/replica:0/task:0/device:CPU:0 then broadcast to ('/job:localhost/replica:0/task:0/device:CPU:0',).\n",
      "INFO:absl:Callbacks in progress at step 100 . . . .\n",
      "Epoch 1/3 --- Step 200/100000 --- :   0%|          | 1/1000 [02:31<42:05:50, 151.70s/batch , learning_rate=8.99e-8, loss=6.14]INFO:absl:Callbacks in progress at step 200 . . . .\n",
      "Epoch 1/3 --- Step 300/100000 --- :   0%|          | 2/1000 [03:34<34:40:17, 125.07s/batch , learning_rate=2.68e-7, loss=4.74]INFO:absl:Callbacks in progress at step 300 . . . .\n",
      "Epoch 1/3 --- Step 400/100000 --- :   0%|          | 3/1000 [04:37<29:29:05, 106.46s/batch , learning_rate=4.46e-7, loss=4.24]INFO:absl:Callbacks in progress at step 400 . . . .\n",
      "Epoch 1/3 --- Step 500/100000 --- :   0%|          | 4/1000 [05:40<25:50:39, 93.41s/batch , learning_rate=6.24e-7, loss=4.02] INFO:absl:Callbacks in progress at step 500 . . . .\n",
      "Epoch 1/3 --- Step 600/100000 --- :   0%|          | 5/1000 [06:43<23:17:57, 84.30s/batch , learning_rate=8.02e-7, loss=3.91]INFO:absl:Callbacks in progress at step 600 . . . .\n",
      "Epoch 1/3 --- Step 700/100000 --- :   1%|          | 6/1000 [07:46<21:30:32, 77.90s/batch , learning_rate=9.8e-7, loss=3.84] INFO:absl:Callbacks in progress at step 700 . . . .\n",
      "Epoch 1/3 --- Step 800/100000 --- :   1%|          | 7/1000 [08:49<20:14:35, 73.39s/batch , learning_rate=1.16e-6, loss=3.76]INFO:absl:Callbacks in progress at step 800 . . . .\n",
      "Epoch 1/3 --- Step 900/100000 --- :   1%|          | 8/1000 [09:52<19:21:40, 70.26s/batch , learning_rate=1.34e-6, loss=3.7] INFO:absl:Callbacks in progress at step 900 . . . .\n",
      "Epoch 1/3 --- Step 1000/100000 --- :   1%|          | 9/1000 [10:55<18:44:24, 68.08s/batch , learning_rate=1.51e-6, loss=3.57]INFO:absl:Callbacks in progress at step 1000 . . . .\n",
      "Epoch 1/3 --- Step 1100/100000 --- :   1%|          | 10/1000 [11:58<18:18:05, 66.55s/batch , learning_rate=1.69e-6, loss=3.49]INFO:absl:Callbacks in progress at step 1100 . . . .\n",
      "Epoch 1/3 --- Step 1200/100000 --- :   1%|          | 11/1000 [13:01<18:00:34, 65.56s/batch , learning_rate=1.87e-6, loss=3.43]INFO:absl:Callbacks in progress at step 1200 . . . .\n",
      "Epoch 1/3 --- Step 1300/100000 --- :   1%|          | 12/1000 [14:04<17:45:47, 64.72s/batch , learning_rate=2.05e-6, loss=3.36]INFO:absl:Callbacks in progress at step 1300 . . . .\n",
      "Epoch 1/3 --- Step 1400/100000 --- :   1%|▏         | 13/1000 [15:07<17:35:37, 64.17s/batch , learning_rate=2.23e-6, loss=3.32]INFO:absl:Callbacks in progress at step 1400 . . . .\n",
      "Epoch 1/3 --- Step 1500/100000 --- :   1%|▏         | 14/1000 [16:10<17:27:33, 63.75s/batch , learning_rate=2.4e-6, loss=3.27] INFO:absl:Callbacks in progress at step 1500 . . . .\n",
      "Epoch 1/3 --- Step 1600/100000 --- :   2%|▏         | 15/1000 [17:13<17:23:29, 63.56s/batch , learning_rate=2.58e-6, loss=3.21]INFO:absl:Callbacks in progress at step 1600 . . . .\n",
      "Epoch 1/3 --- Step 1700/100000 --- :   2%|▏         | 16/1000 [18:16<17:19:02, 63.36s/batch , learning_rate=2.76e-6, loss=3.17]INFO:absl:Callbacks in progress at step 1700 . . . .\n",
      "Epoch 1/3 --- Step 1800/100000 --- :   2%|▏         | 17/1000 [19:18<17:14:59, 63.17s/batch , learning_rate=2.94e-6, loss=3.13]INFO:absl:Callbacks in progress at step 1800 . . . .\n",
      "Epoch 1/3 --- Step 1900/100000 --- :   2%|▏         | 18/1000 [20:21<17:13:30, 63.15s/batch , learning_rate=3.12e-6, loss=3.11]INFO:absl:Callbacks in progress at step 1900 . . . .\n",
      "Epoch 1/3 --- Step 2000/100000 --- :   2%|▏         | 19/1000 [21:24<17:11:34, 63.09s/batch , learning_rate=3.29e-6, loss=3.08]INFO:absl:Callbacks in progress at step 2000 . . . .\n",
      "Epoch 1/3 --- Step 2100/100000 --- :   2%|▏         | 20/1000 [22:27<17:09:21, 63.02s/batch , learning_rate=3.47e-6, loss=3.02]INFO:absl:Callbacks in progress at step 2100 . . . .\n",
      "Epoch 1/3 --- Step 2200/100000 --- :   2%|▏         | 21/1000 [23:30<17:08:19, 63.02s/batch , learning_rate=3.65e-6, loss=3.02]INFO:absl:Callbacks in progress at step 2200 . . . .\n",
      "Epoch 1/3 --- Step 2300/100000 --- :   2%|▏         | 22/1000 [24:33<17:07:24, 63.03s/batch , learning_rate=3.83e-6, loss=2.97]INFO:absl:Callbacks in progress at step 2300 . . . .\n",
      "Epoch 1/3 --- Step 2400/100000 --- :   2%|▏         | 23/1000 [25:36<17:05:26, 62.98s/batch , learning_rate=4.01e-6, loss=2.96]INFO:absl:Callbacks in progress at step 2400 . . . .\n",
      "Epoch 1/3 --- Step 2500/100000 --- :   2%|▏         | 24/1000 [26:39<17:03:33, 62.92s/batch , learning_rate=4.18e-6, loss=2.92]INFO:absl:Callbacks in progress at step 2500 . . . .\n",
      "Epoch 1/3 --- Step 2600/100000 --- :   2%|▎         | 25/1000 [27:42<17:02:56, 62.95s/batch , learning_rate=4.36e-6, loss=2.89]INFO:absl:Callbacks in progress at step 2600 . . . .\n",
      "Epoch 1/3 --- Step 2700/100000 --- :   3%|▎         | 26/1000 [28:45<17:01:49, 62.95s/batch , learning_rate=4.54e-6, loss=2.86]INFO:absl:Callbacks in progress at step 2700 . . . .\n",
      "Epoch 1/3 --- Step 2800/100000 --- :   3%|▎         | 27/1000 [29:48<17:01:36, 63.00s/batch , learning_rate=4.72e-6, loss=2.84]INFO:absl:Callbacks in progress at step 2800 . . . .\n",
      "Epoch 1/3 --- Step 2900/100000 --- :   3%|▎         | 28/1000 [30:51<17:00:39, 63.00s/batch , learning_rate=4.89e-6, loss=2.8] INFO:absl:Callbacks in progress at step 2900 . . . .\n",
      "Epoch 1/3 --- Step 3000/100000 --- :   3%|▎         | 29/1000 [31:54<16:59:20, 62.99s/batch , learning_rate=5.07e-6, loss=2.77]INFO:absl:Callbacks in progress at step 3000 . . . .\n",
      "Epoch 1/3 --- Step 3100/100000 --- :   3%|▎         | 30/1000 [32:57<16:59:23, 63.05s/batch , learning_rate=5.25e-6, loss=2.75]INFO:absl:Callbacks in progress at step 3100 . . . .\n",
      "Epoch 1/3 --- Step 3200/100000 --- :   3%|▎         | 31/1000 [34:00<16:57:34, 63.01s/batch , learning_rate=5.43e-6, loss=2.73]INFO:absl:Callbacks in progress at step 3200 . . . .\n",
      "Epoch 1/3 --- Step 3300/100000 --- :   3%|▎         | 32/1000 [35:03<16:55:56, 62.97s/batch , learning_rate=5.61e-6, loss=2.71]INFO:absl:Callbacks in progress at step 3300 . . . .\n",
      "Epoch 1/3 --- Step 3400/100000 --- :   3%|▎         | 33/1000 [36:06<16:54:12, 62.93s/batch , learning_rate=5.78e-6, loss=2.68]INFO:absl:Callbacks in progress at step 3400 . . . .\n",
      "Epoch 1/3 --- Step 3500/100000 --- :   3%|▎         | 34/1000 [37:09<16:53:55, 62.98s/batch , learning_rate=5.96e-6, loss=2.66]INFO:absl:Callbacks in progress at step 3500 . . . .\n",
      "Epoch 1/3 --- Step 3600/100000 --- :   4%|▎         | 35/1000 [38:12<16:53:13, 63.00s/batch , learning_rate=6.14e-6, loss=2.64]INFO:absl:Callbacks in progress at step 3600 . . . .\n",
      "Epoch 1/3 --- Step 3700/100000 --- :   4%|▎         | 36/1000 [39:15<16:52:42, 63.03s/batch , learning_rate=6.32e-6, loss=2.61]INFO:absl:Callbacks in progress at step 3700 . . . .\n",
      "Epoch 1/3 --- Step 3800/100000 --- :   4%|▎         | 37/1000 [40:18<16:51:14, 63.01s/batch , learning_rate=6.5e-6, loss=2.58] INFO:absl:Callbacks in progress at step 3800 . . . .\n",
      "Epoch 1/3 --- Step 3900/100000 --- :   4%|▍         | 38/1000 [41:21<16:48:41, 62.91s/batch , learning_rate=6.67e-6, loss=2.56]INFO:absl:Callbacks in progress at step 3900 . . . .\n",
      "Epoch 1/3 --- Step 4000/100000 --- :   4%|▍         | 39/1000 [42:24<16:47:44, 62.92s/batch , learning_rate=6.85e-6, loss=2.53]INFO:absl:Callbacks in progress at step 4000 . . . .\n",
      "Epoch 1/3 --- Step 4100/100000 --- :   4%|▍         | 40/1000 [43:26<16:45:33, 62.85s/batch , learning_rate=7.03e-6, loss=2.5] INFO:absl:Callbacks in progress at step 4100 . . . .\n",
      "Epoch 1/3 --- Step 4200/100000 --- :   4%|▍         | 41/1000 [44:29<16:45:26, 62.91s/batch , learning_rate=7.21e-6, loss=2.5]INFO:absl:Callbacks in progress at step 4200 . . . .\n",
      "Epoch 1/3 --- Step 4300/100000 --- :   4%|▍         | 42/1000 [45:32<16:43:44, 62.86s/batch , learning_rate=7.39e-6, loss=2.48]INFO:absl:Callbacks in progress at step 4300 . . . .\n",
      "Epoch 1/3 --- Step 4400/100000 --- :   4%|▍         | 43/1000 [46:35<16:43:28, 62.91s/batch , learning_rate=7.56e-6, loss=2.46]INFO:absl:Callbacks in progress at step 4400 . . . .\n",
      "Epoch 1/3 --- Step 4500/100000 --- :   4%|▍         | 44/1000 [47:38<16:43:58, 63.01s/batch , learning_rate=7.74e-6, loss=2.41]INFO:absl:Callbacks in progress at step 4500 . . . .\n"
     ]
    },
    {
     "name": "stderr",
     "output_type": "stream",
     "text": [
      "Epoch 1/3 --- Step 4600/100000 --- :   4%|▍         | 45/1000 [48:41<16:42:26, 62.98s/batch , learning_rate=7.92e-6, loss=2.42]INFO:absl:Callbacks in progress at step 4600 . . . .\n",
      "Epoch 1/3 --- Step 4700/100000 --- :   5%|▍         | 46/1000 [49:44<16:41:57, 63.02s/batch , learning_rate=8.1e-6, loss=2.4]  INFO:absl:Callbacks in progress at step 4700 . . . .\n",
      "Epoch 1/3 --- Step 4800/100000 --- :   5%|▍         | 47/1000 [50:48<16:41:32, 63.06s/batch , learning_rate=8.28e-6, loss=2.37]INFO:absl:Callbacks in progress at step 4800 . . . .\n",
      "Epoch 1/3 --- Step 4900/100000 --- :   5%|▍         | 48/1000 [51:51<16:40:06, 63.03s/batch , learning_rate=8.45e-6, loss=2.35]INFO:absl:Callbacks in progress at step 4900 . . . .\n",
      "Epoch 1/3 --- Step 5000/100000 --- :   5%|▍         | 49/1000 [52:54<16:39:36, 63.07s/batch , learning_rate=8.63e-6, loss=2.36]INFO:absl:Callbacks in progress at step 5000 . . . .\n",
      "Epoch 1/3 --- Step 5100/100000 --- :   5%|▌         | 50/1000 [53:57<16:37:39, 63.01s/batch , learning_rate=8.81e-6, loss=2.33]INFO:absl:Callbacks in progress at step 5100 . . . .\n",
      "Epoch 1/3 --- Step 5200/100000 --- :   5%|▌         | 51/1000 [54:59<16:35:55, 62.97s/batch , learning_rate=8.99e-6, loss=2.31]INFO:absl:Callbacks in progress at step 5200 . . . .\n",
      "Epoch 1/3 --- Step 5300/100000 --- :   5%|▌         | 52/1000 [56:02<16:34:17, 62.93s/batch , learning_rate=9.17e-6, loss=2.28]INFO:absl:Callbacks in progress at step 5300 . . . .\n",
      "Epoch 1/3 --- Step 5400/100000 --- :   5%|▌         | 53/1000 [57:05<16:32:49, 62.90s/batch , learning_rate=9.34e-6, loss=2.27]INFO:absl:Callbacks in progress at step 5400 . . . .\n",
      "Epoch 1/3 --- Step 5500/100000 --- :   5%|▌         | 54/1000 [58:08<16:32:39, 62.96s/batch , learning_rate=9.52e-6, loss=2.27]INFO:absl:Callbacks in progress at step 5500 . . . .\n",
      "Epoch 1/3 --- Step 5600/100000 --- :   6%|▌         | 55/1000 [59:11<16:30:57, 62.92s/batch , learning_rate=9.7e-6, loss=2.26] INFO:absl:Callbacks in progress at step 5600 . . . .\n",
      "Epoch 1/3 --- Step 5700/100000 --- :   6%|▌         | 56/1000 [1:00:14<16:30:36, 62.96s/batch , learning_rate=9.88e-6, loss=2.23]INFO:absl:Callbacks in progress at step 5700 . . . .\n",
      "Epoch 1/3 --- Step 5800/100000 --- :   6%|▌         | 57/1000 [1:01:17<16:29:10, 62.94s/batch , learning_rate=1.8e-6, loss=2.22] INFO:absl:Callbacks in progress at step 5800 . . . .\n",
      "Epoch 1/3 --- Step 5900/100000 --- :   6%|▌         | 58/1000 [1:02:20<16:28:54, 62.99s/batch , learning_rate=0, loss=2.22]     INFO:absl:Callbacks in progress at step 5900 . . . .\n",
      "Epoch 1/3 --- Step 6000/100000 --- :   6%|▌         | 59/1000 [1:03:23<16:26:55, 62.93s/batch , learning_rate=0, loss=2.24]INFO:absl:Callbacks in progress at step 6000 . . . .\n",
      "Epoch 1/3 --- Step 6100/100000 --- :   6%|▌         | 60/1000 [1:04:26<16:25:35, 62.91s/batch , learning_rate=0, loss=2.23]INFO:absl:Callbacks in progress at step 6100 . . . .\n",
      "Epoch 1/3 --- Step 6200/100000 --- :   6%|▌         | 61/1000 [1:05:29<16:24:51, 62.93s/batch , learning_rate=0, loss=2.23]INFO:absl:Callbacks in progress at step 6200 . . . .\n",
      "Epoch 1/3 --- Step 6300/100000 --- :   6%|▌         | 62/1000 [1:06:32<16:24:00, 62.94s/batch , learning_rate=0, loss=2.23]INFO:absl:Callbacks in progress at step 6300 . . . .\n",
      "Epoch 1/3 --- Step 6400/100000 --- :   6%|▋         | 63/1000 [1:07:35<16:23:44, 62.99s/batch , learning_rate=0, loss=2.24]INFO:absl:Callbacks in progress at step 6400 . . . .\n",
      "Epoch 1/3 --- Step 6500/100000 --- :   6%|▋         | 64/1000 [1:08:38<16:22:28, 62.98s/batch , learning_rate=0, loss=2.24]INFO:absl:Callbacks in progress at step 6500 . . . .\n",
      "Epoch 1/3 --- Step 6600/100000 --- :   6%|▋         | 65/1000 [1:09:41<16:21:43, 63.00s/batch , learning_rate=0, loss=2.22]INFO:absl:Callbacks in progress at step 6600 . . . .\n",
      "Epoch 1/3 --- Step 6700/100000 --- :   7%|▋         | 66/1000 [1:10:44<16:21:25, 63.05s/batch , learning_rate=0, loss=2.22]INFO:absl:Callbacks in progress at step 6700 . . . .\n",
      "Epoch 1/3 --- Step 6800/100000 --- :   7%|▋         | 67/1000 [1:11:47<16:20:25, 63.05s/batch , learning_rate=0, loss=2.25]INFO:absl:Callbacks in progress at step 6800 . . . .\n",
      "Epoch 1/3 --- Step 6900/100000 --- :   7%|▋         | 68/1000 [1:12:50<16:19:23, 63.05s/batch , learning_rate=0, loss=2.22]INFO:absl:Callbacks in progress at step 6900 . . . .\n",
      "Epoch 1/3 --- Step 7000/100000 --- :   7%|▋         | 69/1000 [1:13:53<16:18:07, 63.04s/batch , learning_rate=0, loss=2.24]INFO:absl:Callbacks in progress at step 7000 . . . .\n",
      "Epoch 1/3 --- Step 7100/100000 --- :   7%|▋         | 70/1000 [1:14:56<16:17:10, 63.04s/batch , learning_rate=0, loss=2.22]INFO:absl:Callbacks in progress at step 7100 . . . .\n",
      "Epoch 1/3 --- Step 7200/100000 --- :   7%|▋         | 71/1000 [1:15:59<16:15:39, 63.01s/batch , learning_rate=0, loss=2.23]INFO:absl:Callbacks in progress at step 7200 . . . .\n",
      "Epoch 1/3 --- Step 7300/100000 --- :   7%|▋         | 72/1000 [1:17:02<16:14:39, 63.02s/batch , learning_rate=0, loss=2.23]INFO:absl:Callbacks in progress at step 7300 . . . .\n",
      "Epoch 1/3 --- Step 7400/100000 --- :   7%|▋         | 73/1000 [1:18:05<16:12:43, 62.96s/batch , learning_rate=0, loss=2.22]INFO:absl:Callbacks in progress at step 7400 . . . .\n",
      "Epoch 1/3 --- Step 7500/100000 --- :   7%|▋         | 74/1000 [1:19:08<16:11:41, 62.96s/batch , learning_rate=0, loss=2.23]INFO:absl:Callbacks in progress at step 7500 . . . .\n",
      "Epoch 1/3 --- Step 7600/100000 --- :   8%|▊         | 75/1000 [1:20:11<16:11:17, 63.00s/batch , learning_rate=0, loss=2.23]INFO:absl:Callbacks in progress at step 7600 . . . .\n",
      "Epoch 1/3 --- Step 7700/100000 --- :   8%|▊         | 76/1000 [1:21:14<16:09:27, 62.95s/batch , learning_rate=0, loss=2.22]INFO:absl:Callbacks in progress at step 7700 . . . .\n",
      "Epoch 1/3 --- Step 7800/100000 --- :   8%|▊         | 77/1000 [1:22:17<16:08:53, 62.98s/batch , learning_rate=0, loss=2.22]INFO:absl:Callbacks in progress at step 7800 . . . .\n",
      "Epoch 1/3 --- Step 7900/100000 --- :   8%|▊         | 78/1000 [1:23:20<16:07:54, 62.99s/batch , learning_rate=0, loss=2.21]INFO:absl:Callbacks in progress at step 7900 . . . .\n",
      "Epoch 1/3 --- Step 8000/100000 --- :   8%|▊         | 79/1000 [1:24:23<16:06:30, 62.96s/batch , learning_rate=0, loss=2.23]INFO:absl:Callbacks in progress at step 8000 . . . .\n",
      "Epoch 1/3 --- Step 8100/100000 --- :   8%|▊         | 80/1000 [1:25:26<16:05:11, 62.95s/batch , learning_rate=0, loss=2.22]INFO:absl:Callbacks in progress at step 8100 . . . .\n",
      "Epoch 1/3 --- Step 8200/100000 --- :   8%|▊         | 81/1000 [1:26:29<16:04:25, 62.97s/batch , learning_rate=0, loss=2.24]INFO:absl:Callbacks in progress at step 8200 . . . .\n",
      "Epoch 1/3 --- Step 8300/100000 --- :   8%|▊         | 82/1000 [1:27:32<16:04:40, 63.05s/batch , learning_rate=0, loss=2.22]INFO:absl:Callbacks in progress at step 8300 . . . .\n",
      "Epoch 1/3 --- Step 8400/100000 --- :   8%|▊         | 83/1000 [1:28:35<16:03:32, 63.05s/batch , learning_rate=0, loss=2.23]INFO:absl:Callbacks in progress at step 8400 . . . .\n",
      "Epoch 1/3 --- Step 8500/100000 --- :   8%|▊         | 84/1000 [1:29:38<16:02:07, 63.02s/batch , learning_rate=0, loss=2.25]INFO:absl:Callbacks in progress at step 8500 . . . .\n",
      "Epoch 1/3 --- Step 8600/100000 --- :   8%|▊         | 85/1000 [1:30:41<16:00:08, 62.96s/batch , learning_rate=0, loss=2.23]INFO:absl:Callbacks in progress at step 8600 . . . .\n",
      "Epoch 1/3 --- Step 8700/100000 --- :   9%|▊         | 86/1000 [1:31:44<15:59:50, 63.01s/batch , learning_rate=0, loss=2.22]INFO:absl:Callbacks in progress at step 8700 . . . .\n",
      "Epoch 1/3 --- Step 8800/100000 --- :   9%|▊         | 87/1000 [1:32:47<15:59:03, 63.03s/batch , learning_rate=0, loss=2.23]INFO:absl:Callbacks in progress at step 8800 . . . .\n",
      "Epoch 1/3 --- Step 8900/100000 --- :   9%|▉         | 88/1000 [1:33:50<15:58:46, 63.08s/batch , learning_rate=0, loss=2.23]INFO:absl:Callbacks in progress at step 8900 . . . .\n",
      "Epoch 1/3 --- Step 9000/100000 --- :   9%|▉         | 89/1000 [1:34:53<15:57:23, 63.06s/batch , learning_rate=0, loss=2.24]INFO:absl:Callbacks in progress at step 9000 . . . .\n",
      "Epoch 1/3 --- Step 9100/100000 --- :   9%|▉         | 90/1000 [1:35:56<15:56:05, 63.04s/batch , learning_rate=0, loss=2.23]INFO:absl:Callbacks in progress at step 9100 . . . .\n"
     ]
    },
    {
     "name": "stderr",
     "output_type": "stream",
     "text": [
      "Epoch 1/3 --- Step 9200/100000 --- :   9%|▉         | 91/1000 [1:36:59<15:55:10, 63.05s/batch , learning_rate=0, loss=2.21]INFO:absl:Callbacks in progress at step 9200 . . . .\n",
      "Epoch 1/3 --- Step 9300/100000 --- :   9%|▉         | 92/1000 [1:38:02<15:54:42, 63.09s/batch , learning_rate=0, loss=2.21]INFO:absl:Callbacks in progress at step 9300 . . . .\n",
      "Epoch 1/3 --- Step 9400/100000 --- :   9%|▉         | 93/1000 [1:39:06<15:54:25, 63.14s/batch , learning_rate=0, loss=2.24]INFO:absl:Callbacks in progress at step 9400 . . . .\n",
      "Epoch 1/3 --- Step 9500/100000 --- :   9%|▉         | 94/1000 [1:40:09<15:53:23, 63.14s/batch , learning_rate=0, loss=2.22]INFO:absl:Callbacks in progress at step 9500 . . . .\n",
      "Epoch 1/3 --- Step 9600/100000 --- :  10%|▉         | 95/1000 [1:41:12<15:52:36, 63.16s/batch , learning_rate=0, loss=2.22]INFO:absl:Callbacks in progress at step 9600 . . . .\n",
      "Epoch 1/3 --- Step 9700/100000 --- :  10%|▉         | 96/1000 [1:42:15<15:50:07, 63.06s/batch , learning_rate=0, loss=2.23]INFO:absl:Callbacks in progress at step 9700 . . . .\n",
      "Epoch 1/3 --- Step 9800/100000 --- :  10%|▉         | 97/1000 [1:43:18<15:48:32, 63.03s/batch , learning_rate=0, loss=2.23]INFO:absl:Callbacks in progress at step 9800 . . . .\n",
      "Epoch 1/3 --- Step 9900/100000 --- :  10%|▉         | 98/1000 [1:44:21<15:47:48, 63.05s/batch , learning_rate=0, loss=2.25]INFO:absl:Callbacks in progress at step 9900 . . . .\n",
      "Epoch 1/3 --- Step 10000/100000 --- :  10%|▉         | 99/1000 [1:45:24<15:46:03, 63.00s/batch , learning_rate=0, loss=2.22]INFO:absl:Callbacks in progress at step 10000 . . . .\n",
      "Epoch 1/3 --- Step 10100/100000 --- :  10%|█         | 100/1000 [1:46:27<15:45:32, 63.04s/batch , learning_rate=0, loss=2.22]INFO:absl:Callbacks in progress at step 10100 . . . .\n",
      "Epoch 1/3 --- Step 10200/100000 --- :  10%|█         | 101/1000 [1:47:30<15:44:17, 63.02s/batch , learning_rate=0, loss=2.23]INFO:absl:Callbacks in progress at step 10200 . . . .\n",
      "Epoch 1/3 --- Step 10300/100000 --- :  10%|█         | 102/1000 [1:48:33<15:43:26, 63.04s/batch , learning_rate=0, loss=2.22]INFO:absl:Callbacks in progress at step 10300 . . . .\n",
      "Epoch 1/3 --- Step 10400/100000 --- :  10%|█         | 103/1000 [1:49:36<15:42:57, 63.07s/batch , learning_rate=0, loss=2.22]INFO:absl:Callbacks in progress at step 10400 . . . .\n",
      "Epoch 1/3 --- Step 10500/100000 --- :  10%|█         | 104/1000 [1:50:39<15:41:48, 63.07s/batch , learning_rate=0, loss=2.22]INFO:absl:Callbacks in progress at step 10500 . . . .\n",
      "Epoch 1/3 --- Step 10600/100000 --- :  10%|█         | 105/1000 [1:51:42<15:40:30, 63.05s/batch , learning_rate=0, loss=2.21]INFO:absl:Callbacks in progress at step 10600 . . . .\n",
      "Epoch 1/3 --- Step 10700/100000 --- :  11%|█         | 106/1000 [1:52:45<15:39:44, 63.07s/batch , learning_rate=0, loss=2.21]INFO:absl:Callbacks in progress at step 10700 . . . .\n",
      "Epoch 1/3 --- Step 10800/100000 --- :  11%|█         | 107/1000 [1:53:48<15:37:01, 62.96s/batch , learning_rate=0, loss=2.2] INFO:absl:Callbacks in progress at step 10800 . . . .\n",
      "Epoch 1/3 --- Step 10900/100000 --- :  11%|█         | 108/1000 [1:54:51<15:35:10, 62.90s/batch , learning_rate=0, loss=2.22]INFO:absl:Callbacks in progress at step 10900 . . . .\n",
      "Epoch 1/3 --- Step 11000/100000 --- :  11%|█         | 109/1000 [1:55:54<15:34:33, 62.93s/batch , learning_rate=0, loss=2.23]INFO:absl:Callbacks in progress at step 11000 . . . .\n",
      "Epoch 1/3 --- Step 11100/100000 --- :  11%|█         | 110/1000 [1:56:57<15:34:03, 62.97s/batch , learning_rate=0, loss=2.22]INFO:absl:Callbacks in progress at step 11100 . . . .\n",
      "Epoch 1/3 --- Step 11200/100000 --- :  11%|█         | 111/1000 [1:58:00<15:33:08, 62.98s/batch , learning_rate=0, loss=2.22]INFO:absl:Callbacks in progress at step 11200 . . . .\n",
      "Epoch 1/3 --- Step 11300/100000 --- :  11%|█         | 112/1000 [1:59:03<15:31:32, 62.94s/batch , learning_rate=0, loss=2.21]INFO:absl:Callbacks in progress at step 11300 . . . .\n",
      "Epoch 1/3 --- Step 11400/100000 --- :  11%|█▏        | 113/1000 [2:00:06<15:31:51, 63.03s/batch , learning_rate=0, loss=2.22]INFO:absl:Callbacks in progress at step 11400 . . . .\n",
      "Epoch 1/3 --- Step 11500/100000 --- :  11%|█▏        | 114/1000 [2:01:09<15:31:10, 63.06s/batch , learning_rate=0, loss=2.19]INFO:absl:Callbacks in progress at step 11500 . . . .\n",
      "Epoch 1/3 --- Step 11600/100000 --- :  12%|█▏        | 115/1000 [2:02:12<15:29:45, 63.03s/batch , learning_rate=0, loss=2.22]INFO:absl:Callbacks in progress at step 11600 . . . .\n",
      "Epoch 1/3 --- Step 11700/100000 --- :  12%|█▏        | 116/1000 [2:03:15<15:28:34, 63.03s/batch , learning_rate=0, loss=2.21]INFO:absl:Callbacks in progress at step 11700 . . . .\n",
      "Epoch 1/3 --- Step 11800/100000 --- :  12%|█▏        | 117/1000 [2:04:18<15:27:25, 63.02s/batch , learning_rate=0, loss=2.2] INFO:absl:Callbacks in progress at step 11800 . . . .\n",
      "Epoch 1/3 --- Step 11900/100000 --- :  12%|█▏        | 118/1000 [2:05:21<15:25:45, 62.98s/batch , learning_rate=0, loss=2.2]INFO:absl:Callbacks in progress at step 11900 . . . .\n",
      "Epoch 1/3 --- Step 12000/100000 --- :  12%|█▏        | 119/1000 [2:06:24<15:25:34, 63.04s/batch , learning_rate=0, loss=2.19]INFO:absl:Callbacks in progress at step 12000 . . . .\n",
      "Epoch 1/3 --- Step 12100/100000 --- :  12%|█▏        | 120/1000 [2:07:27<15:24:44, 63.05s/batch , learning_rate=0, loss=2.21]INFO:absl:Callbacks in progress at step 12100 . . . .\n",
      "Epoch 1/3 --- Step 12200/100000 --- :  12%|█▏        | 121/1000 [2:08:30<15:23:51, 63.06s/batch , learning_rate=0, loss=2.19]INFO:absl:Callbacks in progress at step 12200 . . . .\n",
      "Epoch 1/3 --- Step 12300/100000 --- :  12%|█▏        | 122/1000 [2:09:33<15:22:51, 63.07s/batch , learning_rate=0, loss=2.19]INFO:absl:Callbacks in progress at step 12300 . . . .\n",
      "Epoch 1/3 --- Step 12400/100000 --- :  12%|█▏        | 123/1000 [2:10:36<15:22:09, 63.09s/batch , learning_rate=0, loss=2.2] INFO:absl:Callbacks in progress at step 12400 . . . .\n",
      "Epoch 1/3 --- Step 12500/100000 --- :  12%|█▏        | 124/1000 [2:11:40<15:21:08, 63.09s/batch , learning_rate=0, loss=2.2]INFO:absl:Callbacks in progress at step 12500 . . . .\n",
      "Epoch 1/3 --- Step 12600/100000 --- :  12%|█▎        | 125/1000 [2:12:43<15:19:42, 63.07s/batch , learning_rate=0, loss=2.2]INFO:absl:Callbacks in progress at step 12600 . . . .\n",
      "Epoch 1/3 --- Step 12700/100000 --- :  13%|█▎        | 126/1000 [2:13:46<15:18:18, 63.04s/batch , learning_rate=0, loss=2.18]INFO:absl:Callbacks in progress at step 12700 . . . .\n",
      "Epoch 1/3 --- Step 12800/100000 --- :  13%|█▎        | 127/1000 [2:14:49<15:17:19, 63.05s/batch , learning_rate=0, loss=2.18]INFO:absl:Callbacks in progress at step 12800 . . . .\n",
      "Epoch 1/3 --- Step 12900/100000 --- :  13%|█▎        | 128/1000 [2:15:52<15:16:31, 63.06s/batch , learning_rate=0, loss=2.16]INFO:absl:Callbacks in progress at step 12900 . . . .\n",
      "Epoch 1/3 --- Step 13000/100000 --- :  13%|█▎        | 129/1000 [2:16:55<15:16:00, 63.10s/batch , learning_rate=0, loss=2.17]INFO:absl:Callbacks in progress at step 13000 . . . .\n",
      "Epoch 1/3 --- Step 13100/100000 --- :  13%|█▎        | 130/1000 [2:17:58<15:14:30, 63.07s/batch , learning_rate=0, loss=2.16]INFO:absl:Callbacks in progress at step 13100 . . . .\n",
      "Epoch 1/3 --- Step 13200/100000 --- :  13%|█▎        | 131/1000 [2:19:01<15:12:39, 63.01s/batch , learning_rate=0, loss=2.17]INFO:absl:Callbacks in progress at step 13200 . . . .\n",
      "Epoch 1/3 --- Step 13300/100000 --- :  13%|█▎        | 132/1000 [2:20:04<15:11:22, 63.00s/batch , learning_rate=0, loss=2.2] INFO:absl:Callbacks in progress at step 13300 . . . .\n",
      "Epoch 1/3 --- Step 13400/100000 --- :  13%|█▎        | 133/1000 [2:21:07<15:10:39, 63.02s/batch , learning_rate=0, loss=2.22]INFO:absl:Callbacks in progress at step 13400 . . . .\n",
      "Epoch 1/3 --- Step 13500/100000 --- :  13%|█▎        | 134/1000 [2:22:10<15:09:56, 63.04s/batch , learning_rate=0, loss=2.23]INFO:absl:Callbacks in progress at step 13500 . . . .\n",
      "Epoch 1/3 --- Step 13600/100000 --- :  14%|█▎        | 135/1000 [2:23:13<15:07:56, 62.98s/batch , learning_rate=0, loss=2.22]INFO:absl:Callbacks in progress at step 13600 . . . .\n",
      "Epoch 1/3 --- Step 13700/100000 --- :  14%|█▎        | 136/1000 [2:24:16<15:07:13, 63.00s/batch , learning_rate=0, loss=2.23]INFO:absl:Callbacks in progress at step 13700 . . . .\n"
     ]
    },
    {
     "name": "stderr",
     "output_type": "stream",
     "text": [
      "Epoch 1/3 --- Step 13800/100000 --- :  14%|█▎        | 137/1000 [2:25:19<15:06:14, 63.01s/batch , learning_rate=0, loss=2.24]INFO:absl:Callbacks in progress at step 13800 . . . .\n",
      "Epoch 1/3 --- Step 13900/100000 --- :  14%|█▍        | 138/1000 [2:26:22<15:05:35, 63.03s/batch , learning_rate=0, loss=2.24]INFO:absl:Callbacks in progress at step 13900 . . . .\n",
      "Epoch 1/3 --- Step 14000/100000 --- :  14%|█▍        | 139/1000 [2:27:25<15:05:00, 63.07s/batch , learning_rate=0, loss=2.24]INFO:absl:Callbacks in progress at step 14000 . . . .\n",
      "Epoch 1/3 --- Step 14100/100000 --- :  14%|█▍        | 140/1000 [2:28:28<15:03:20, 63.02s/batch , learning_rate=0, loss=2.23]INFO:absl:Callbacks in progress at step 14100 . . . .\n",
      "Epoch 1/3 --- Step 14200/100000 --- :  14%|█▍        | 141/1000 [2:29:31<15:01:39, 62.98s/batch , learning_rate=0, loss=2.23]INFO:absl:Callbacks in progress at step 14200 . . . .\n",
      "Epoch 1/3 --- Step 14300/100000 --- :  14%|█▍        | 142/1000 [2:30:34<15:01:09, 63.02s/batch , learning_rate=0, loss=2.23]INFO:absl:Callbacks in progress at step 14300 . . . .\n",
      "Epoch 1/3 --- Step 14400/100000 --- :  14%|█▍        | 143/1000 [2:31:37<15:00:28, 63.04s/batch , learning_rate=0, loss=2.23]INFO:absl:Callbacks in progress at step 14400 . . . .\n",
      "Epoch 1/3 --- Step 14500/100000 --- :  14%|█▍        | 144/1000 [2:32:40<14:59:48, 63.07s/batch , learning_rate=0, loss=2.22]INFO:absl:Callbacks in progress at step 14500 . . . .\n",
      "Epoch 1/3 --- Step 14600/100000 --- :  14%|█▍        | 145/1000 [2:33:43<14:58:26, 63.05s/batch , learning_rate=0, loss=2.23]INFO:absl:Callbacks in progress at step 14600 . . . .\n",
      "Epoch 1/3 --- Step 14700/100000 --- :  15%|█▍        | 146/1000 [2:34:46<14:57:25, 63.05s/batch , learning_rate=0, loss=2.23]INFO:absl:Callbacks in progress at step 14700 . . . .\n",
      "Epoch 1/3 --- Step 14800/100000 --- :  15%|█▍        | 147/1000 [2:35:50<14:57:15, 63.11s/batch , learning_rate=0, loss=2.23]INFO:absl:Callbacks in progress at step 14800 . . . .\n",
      "Epoch 1/3 --- Step 14900/100000 --- :  15%|█▍        | 148/1000 [2:36:53<14:56:13, 63.11s/batch , learning_rate=0, loss=2.21]INFO:absl:Callbacks in progress at step 14900 . . . .\n",
      "Epoch 1/3 --- Step 15000/100000 --- :  15%|█▍        | 149/1000 [2:37:56<14:56:25, 63.20s/batch , learning_rate=0, loss=2.24]INFO:absl:Callbacks in progress at step 15000 . . . .\n",
      "Epoch 1/3 --- Step 15100/100000 --- :  15%|█▌        | 150/1000 [2:38:59<14:54:27, 63.14s/batch , learning_rate=0, loss=2.22]INFO:absl:Callbacks in progress at step 15100 . . . .\n",
      "Epoch 1/3 --- Step 15200/100000 --- :  15%|█▌        | 151/1000 [2:40:02<14:53:27, 63.14s/batch , learning_rate=0, loss=2.23]INFO:absl:Callbacks in progress at step 15200 . . . .\n",
      "Epoch 1/3 --- Step 15300/100000 --- :  15%|█▌        | 152/1000 [2:41:05<14:51:56, 63.11s/batch , learning_rate=0, loss=2.22]INFO:absl:Callbacks in progress at step 15300 . . . .\n",
      "Epoch 1/3 --- Step 15400/100000 --- :  15%|█▌        | 153/1000 [2:42:08<14:50:56, 63.11s/batch , learning_rate=0, loss=2.21]INFO:absl:Callbacks in progress at step 15400 . . . .\n",
      "Epoch 1/3 --- Step 15500/100000 --- :  15%|█▌        | 154/1000 [2:43:11<14:49:54, 63.11s/batch , learning_rate=0, loss=2.22]INFO:absl:Callbacks in progress at step 15500 . . . .\n",
      "Epoch 1/3 --- Step 15600/100000 --- :  16%|█▌        | 155/1000 [2:44:15<14:48:48, 63.11s/batch , learning_rate=0, loss=2.24]INFO:absl:Callbacks in progress at step 15600 . . . .\n",
      "Epoch 1/3 --- Step 15700/100000 --- :  16%|█▌        | 156/1000 [2:45:18<14:47:55, 63.12s/batch , learning_rate=0, loss=2.23]INFO:absl:Callbacks in progress at step 15700 . . . .\n",
      "Epoch 1/3 --- Step 15800/100000 --- :  16%|█▌        | 157/1000 [2:46:21<14:46:50, 63.12s/batch , learning_rate=0, loss=2.23]INFO:absl:Callbacks in progress at step 15800 . . . .\n",
      "Epoch 1/3 --- Step 15900/100000 --- :  16%|█▌        | 158/1000 [2:47:24<14:45:16, 63.08s/batch , learning_rate=0, loss=2.22]INFO:absl:Callbacks in progress at step 15900 . . . .\n",
      "Epoch 1/3 --- Step 16000/100000 --- :  16%|█▌        | 159/1000 [2:48:27<14:43:50, 63.06s/batch , learning_rate=0, loss=2.23]INFO:absl:Callbacks in progress at step 16000 . . . .\n",
      "Epoch 1/3 --- Step 16100/100000 --- :  16%|█▌        | 160/1000 [2:49:30<14:43:19, 63.09s/batch , learning_rate=0, loss=2.23]INFO:absl:Callbacks in progress at step 16100 . . . .\n",
      "Epoch 1/3 --- Step 16200/100000 --- :  16%|█▌        | 161/1000 [2:50:33<14:41:20, 63.03s/batch , learning_rate=0, loss=2.24]"
     ]
    }
   ],
   "source": [
    "model_checkpoint_dir = \"/tmp/roberta2robera_pubmed_short/\"\n",
    "history = trainer.run(\n",
    "    model_fn = model_fn,\n",
    "    optimizer_fn = optimizer_fn,\n",
    "    train_dataset = train_dataset,\n",
    "    train_loss_fn = train_loss_fn,\n",
    "    epochs = epochs,\n",
    "    steps_per_epoch = 100000,\n",
    "    model_checkpoint_dir=model_checkpoint_dir,\n",
    "    batch_size=train_batch_size,\n",
    "    training_loss_names=None,\n",
    "    validation_loss_names=None,\n",
    "    validation_dataset=eval_dataset,\n",
    "    validation_loss_fn=train_loss_fn,\n",
    "    validation_interval_steps=None,\n",
    "    steps_per_call=100,\n",
    "    enable_xla=False,\n",
    "    callbacks=[callback],\n",
    "    callbacks_interval_steps=None,\n",
    "    overwrite_checkpoint_dir=True,\n",
    "    max_number_of_models=10,\n",
    "    model_save_interval_steps=None,\n",
    "    repeat_dataset=False,\n",
    "    latest_checkpoint=None,\n",
    ")"
   ]
  },
  {
   "cell_type": "code",
   "execution_count": null,
   "id": "42e6f987",
   "metadata": {},
   "outputs": [],
   "source": []
  },
  {
   "cell_type": "code",
   "execution_count": 42,
   "id": "0b2ef067",
   "metadata": {},
   "outputs": [],
   "source": [
    "import numpy as  np\n",
    "class NumpyEncoder(json.JSONEncoder):\n",
    "    def default(self, obj):\n",
    "        if isinstance(obj, np.ndarray):\n",
    "            return obj.tolist()\n",
    "        return json.JSONEncoder.default(self, obj)\n",
    "    \n",
    "with open(\"{}/history.json\".format(model_checkpoint_dir), \"w\") as f:\n",
    "    json.dump(str(history),f, indent=2)"
   ]
  },
  {
   "cell_type": "code",
   "execution_count": 43,
   "id": "91606de9",
   "metadata": {},
   "outputs": [],
   "source": [
    "import shutil\n",
    "shutil.rmtree(model_checkpoint_dir)\n",
    "shutil.rmtree(tfrecord_dir)"
   ]
  },
  {
   "cell_type": "code",
   "execution_count": null,
   "id": "e9566aeb",
   "metadata": {},
   "outputs": [],
   "source": []
  }
 ],
 "metadata": {
  "kernelspec": {
   "display_name": "Python 3",
   "language": "python",
   "name": "python3"
  },
  "language_info": {
   "codemirror_mode": {
    "name": "ipython",
    "version": 3
   },
   "file_extension": ".py",
   "mimetype": "text/x-python",
   "name": "python",
   "nbconvert_exporter": "python",
   "pygments_lexer": "ipython3",
   "version": "3.8.10"
  }
 },
 "nbformat": 4,
 "nbformat_minor": 5
}
