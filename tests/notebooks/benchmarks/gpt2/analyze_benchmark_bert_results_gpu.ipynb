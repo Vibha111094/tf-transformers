{
 "cells": [
  {
   "cell_type": "code",
   "execution_count": 5,
   "metadata": {},
   "outputs": [],
   "source": [
    "import pickle\n",
    "import pandas as pd"
   ]
  },
  {
   "cell_type": "code",
   "execution_count": null,
   "metadata": {},
   "outputs": [],
   "source": []
  },
  {
   "cell_type": "code",
   "execution_count": 6,
   "metadata": {},
   "outputs": [],
   "source": [
    "hf_pytorch = pickle.load(open(\"/mnt/home/TF_NEW/bert_sequence_length_benchmark/tf_pt_bert_benchmark_gpu.pkl\", \"rb\"))\n",
    "hf_tensorflow = pickle.load(open(\"/mnt/home/TF_NEW/bert_sequence_length_benchmark/tf_hf_bert_benchmark_gpu.pkl\", \"rb\"))\n",
    "tf_transformers_tensorflow = pickle.load(open(\"/mnt/home/TF_NEW/bert_sequence_length_benchmark/tft_bert_benchmark_gpu.pkl\", \"rb\"))"
   ]
  },
  {
   "cell_type": "code",
   "execution_count": null,
   "metadata": {},
   "outputs": [],
   "source": []
  },
  {
   "cell_type": "markdown",
   "metadata": {},
   "source": [
    "# Sequence Length"
   ]
  },
  {
   "cell_type": "code",
   "execution_count": 9,
   "metadata": {},
   "outputs": [
    {
     "data": {
      "text/plain": [
       "24"
      ]
     },
     "execution_count": 9,
     "metadata": {},
     "output_type": "execute_result"
    }
   ],
   "source": []
  },
  {
   "cell_type": "code",
   "execution_count": 11,
   "metadata": {},
   "outputs": [],
   "source": [
    "# Columns\n",
    "keys = hf_pytorch['hf_pt_forward'].keys()\n",
    "\n",
    "# results\n",
    "results = []\n",
    "results.append(list(hf_pytorch['hf_pt_forward'].values()))\n",
    "results.append(list(hf_tensorflow['hf_tf_forward'].values())[:len(keys)])\n",
    "results.append(list(tf_transformers_tensorflow['tft_forward'].values())[:len(keys)])\n",
    "\n",
    "df_sequence_length = pd.DataFrame(results)\n",
    "\n",
    "# columns and index\n",
    "df_sequence_length.columns = keys\n",
    "df_sequence_length.index   = ['hf_pytorch', 'hf_tensorflow', 'tf_transformers_tensorflow']"
   ]
  },
  {
   "cell_type": "code",
   "execution_count": 12,
   "metadata": {},
   "outputs": [
    {
     "data": {
      "text/html": [
       "<style  type=\"text/css\" >\n",
       "#T_4875002e_a24d_11eb_abc5_8a300d71569drow0_col7,#T_4875002e_a24d_11eb_abc5_8a300d71569drow0_col8,#T_4875002e_a24d_11eb_abc5_8a300d71569drow0_col9,#T_4875002e_a24d_11eb_abc5_8a300d71569drow0_col12,#T_4875002e_a24d_11eb_abc5_8a300d71569drow0_col13,#T_4875002e_a24d_11eb_abc5_8a300d71569drow0_col14,#T_4875002e_a24d_11eb_abc5_8a300d71569drow0_col16,#T_4875002e_a24d_11eb_abc5_8a300d71569drow0_col17,#T_4875002e_a24d_11eb_abc5_8a300d71569drow0_col18,#T_4875002e_a24d_11eb_abc5_8a300d71569drow0_col19,#T_4875002e_a24d_11eb_abc5_8a300d71569drow0_col21,#T_4875002e_a24d_11eb_abc5_8a300d71569drow0_col22,#T_4875002e_a24d_11eb_abc5_8a300d71569drow0_col23,#T_4875002e_a24d_11eb_abc5_8a300d71569drow2_col0,#T_4875002e_a24d_11eb_abc5_8a300d71569drow2_col1,#T_4875002e_a24d_11eb_abc5_8a300d71569drow2_col2,#T_4875002e_a24d_11eb_abc5_8a300d71569drow2_col3,#T_4875002e_a24d_11eb_abc5_8a300d71569drow2_col4,#T_4875002e_a24d_11eb_abc5_8a300d71569drow2_col5,#T_4875002e_a24d_11eb_abc5_8a300d71569drow2_col6,#T_4875002e_a24d_11eb_abc5_8a300d71569drow2_col10,#T_4875002e_a24d_11eb_abc5_8a300d71569drow2_col11,#T_4875002e_a24d_11eb_abc5_8a300d71569drow2_col15,#T_4875002e_a24d_11eb_abc5_8a300d71569drow2_col20{\n",
       "            background-color:  lightgreen;\n",
       "        }</style><table id=\"T_4875002e_a24d_11eb_abc5_8a300d71569d\" ><thead>    <tr>        <th class=\"blank level0\" ></th>        <th class=\"col_heading level0 col0\" colspan=5>1</th>        <th class=\"col_heading level0 col5\" colspan=5>4</th>        <th class=\"col_heading level0 col10\" colspan=5>8</th>        <th class=\"col_heading level0 col15\" colspan=5>16</th>        <th class=\"col_heading level0 col20\" colspan=4>32</th>    </tr>    <tr>        <th class=\"blank level1\" ></th>        <th class=\"col_heading level1 col0\" >20</th>        <th class=\"col_heading level1 col1\" >32</th>        <th class=\"col_heading level1 col2\" >128</th>        <th class=\"col_heading level1 col3\" >384</th>        <th class=\"col_heading level1 col4\" >512</th>        <th class=\"col_heading level1 col5\" >20</th>        <th class=\"col_heading level1 col6\" >32</th>        <th class=\"col_heading level1 col7\" >128</th>        <th class=\"col_heading level1 col8\" >384</th>        <th class=\"col_heading level1 col9\" >512</th>        <th class=\"col_heading level1 col10\" >20</th>        <th class=\"col_heading level1 col11\" >32</th>        <th class=\"col_heading level1 col12\" >128</th>        <th class=\"col_heading level1 col13\" >384</th>        <th class=\"col_heading level1 col14\" >512</th>        <th class=\"col_heading level1 col15\" >20</th>        <th class=\"col_heading level1 col16\" >32</th>        <th class=\"col_heading level1 col17\" >128</th>        <th class=\"col_heading level1 col18\" >384</th>        <th class=\"col_heading level1 col19\" >512</th>        <th class=\"col_heading level1 col20\" >20</th>        <th class=\"col_heading level1 col21\" >32</th>        <th class=\"col_heading level1 col22\" >128</th>        <th class=\"col_heading level1 col23\" >384</th>    </tr></thead><tbody>\n",
       "                <tr>\n",
       "                        <th id=\"T_4875002e_a24d_11eb_abc5_8a300d71569dlevel0_row0\" class=\"row_heading level0 row0\" >hf_pytorch</th>\n",
       "                        <td id=\"T_4875002e_a24d_11eb_abc5_8a300d71569drow0_col0\" class=\"data row0 col0\" >0.019506</td>\n",
       "                        <td id=\"T_4875002e_a24d_11eb_abc5_8a300d71569drow0_col1\" class=\"data row0 col1\" >0.019629</td>\n",
       "                        <td id=\"T_4875002e_a24d_11eb_abc5_8a300d71569drow0_col2\" class=\"data row0 col2\" >0.026583</td>\n",
       "                        <td id=\"T_4875002e_a24d_11eb_abc5_8a300d71569drow0_col3\" class=\"data row0 col3\" >0.022282</td>\n",
       "                        <td id=\"T_4875002e_a24d_11eb_abc5_8a300d71569drow0_col4\" class=\"data row0 col4\" >0.025359</td>\n",
       "                        <td id=\"T_4875002e_a24d_11eb_abc5_8a300d71569drow0_col5\" class=\"data row0 col5\" >0.018343</td>\n",
       "                        <td id=\"T_4875002e_a24d_11eb_abc5_8a300d71569drow0_col6\" class=\"data row0 col6\" >0.020447</td>\n",
       "                        <td id=\"T_4875002e_a24d_11eb_abc5_8a300d71569drow0_col7\" class=\"data row0 col7\" >0.018232</td>\n",
       "                        <td id=\"T_4875002e_a24d_11eb_abc5_8a300d71569drow0_col8\" class=\"data row0 col8\" >0.036711</td>\n",
       "                        <td id=\"T_4875002e_a24d_11eb_abc5_8a300d71569drow0_col9\" class=\"data row0 col9\" >0.033628</td>\n",
       "                        <td id=\"T_4875002e_a24d_11eb_abc5_8a300d71569drow0_col10\" class=\"data row0 col10\" >0.018863</td>\n",
       "                        <td id=\"T_4875002e_a24d_11eb_abc5_8a300d71569drow0_col11\" class=\"data row0 col11\" >0.040174</td>\n",
       "                        <td id=\"T_4875002e_a24d_11eb_abc5_8a300d71569drow0_col12\" class=\"data row0 col12\" >0.018468</td>\n",
       "                        <td id=\"T_4875002e_a24d_11eb_abc5_8a300d71569drow0_col13\" class=\"data row0 col13\" >0.031758</td>\n",
       "                        <td id=\"T_4875002e_a24d_11eb_abc5_8a300d71569drow0_col14\" class=\"data row0 col14\" >0.026535</td>\n",
       "                        <td id=\"T_4875002e_a24d_11eb_abc5_8a300d71569drow0_col15\" class=\"data row0 col15\" >0.074036</td>\n",
       "                        <td id=\"T_4875002e_a24d_11eb_abc5_8a300d71569drow0_col16\" class=\"data row0 col16\" >0.018308</td>\n",
       "                        <td id=\"T_4875002e_a24d_11eb_abc5_8a300d71569drow0_col17\" class=\"data row0 col17\" >0.018099</td>\n",
       "                        <td id=\"T_4875002e_a24d_11eb_abc5_8a300d71569drow0_col18\" class=\"data row0 col18\" >0.036442</td>\n",
       "                        <td id=\"T_4875002e_a24d_11eb_abc5_8a300d71569drow0_col19\" class=\"data row0 col19\" >0.119468</td>\n",
       "                        <td id=\"T_4875002e_a24d_11eb_abc5_8a300d71569drow0_col20\" class=\"data row0 col20\" >0.127927</td>\n",
       "                        <td id=\"T_4875002e_a24d_11eb_abc5_8a300d71569drow0_col21\" class=\"data row0 col21\" >0.019736</td>\n",
       "                        <td id=\"T_4875002e_a24d_11eb_abc5_8a300d71569drow0_col22\" class=\"data row0 col22\" >0.017809</td>\n",
       "                        <td id=\"T_4875002e_a24d_11eb_abc5_8a300d71569drow0_col23\" class=\"data row0 col23\" >0.103637</td>\n",
       "            </tr>\n",
       "            <tr>\n",
       "                        <th id=\"T_4875002e_a24d_11eb_abc5_8a300d71569dlevel0_row1\" class=\"row_heading level0 row1\" >hf_tensorflow</th>\n",
       "                        <td id=\"T_4875002e_a24d_11eb_abc5_8a300d71569drow1_col0\" class=\"data row1 col0\" >0.068123</td>\n",
       "                        <td id=\"T_4875002e_a24d_11eb_abc5_8a300d71569drow1_col1\" class=\"data row1 col1\" >0.066595</td>\n",
       "                        <td id=\"T_4875002e_a24d_11eb_abc5_8a300d71569drow1_col2\" class=\"data row1 col2\" >0.066086</td>\n",
       "                        <td id=\"T_4875002e_a24d_11eb_abc5_8a300d71569drow1_col3\" class=\"data row1 col3\" >0.069159</td>\n",
       "                        <td id=\"T_4875002e_a24d_11eb_abc5_8a300d71569drow1_col4\" class=\"data row1 col4\" >0.071382</td>\n",
       "                        <td id=\"T_4875002e_a24d_11eb_abc5_8a300d71569drow1_col5\" class=\"data row1 col5\" >0.066232</td>\n",
       "                        <td id=\"T_4875002e_a24d_11eb_abc5_8a300d71569drow1_col6\" class=\"data row1 col6\" >0.066518</td>\n",
       "                        <td id=\"T_4875002e_a24d_11eb_abc5_8a300d71569drow1_col7\" class=\"data row1 col7\" >0.066269</td>\n",
       "                        <td id=\"T_4875002e_a24d_11eb_abc5_8a300d71569drow1_col8\" class=\"data row1 col8\" >0.066810</td>\n",
       "                        <td id=\"T_4875002e_a24d_11eb_abc5_8a300d71569drow1_col9\" class=\"data row1 col9\" >0.067980</td>\n",
       "                        <td id=\"T_4875002e_a24d_11eb_abc5_8a300d71569drow1_col10\" class=\"data row1 col10\" >0.067961</td>\n",
       "                        <td id=\"T_4875002e_a24d_11eb_abc5_8a300d71569drow1_col11\" class=\"data row1 col11\" >0.066045</td>\n",
       "                        <td id=\"T_4875002e_a24d_11eb_abc5_8a300d71569drow1_col12\" class=\"data row1 col12\" >0.067540</td>\n",
       "                        <td id=\"T_4875002e_a24d_11eb_abc5_8a300d71569drow1_col13\" class=\"data row1 col13\" >0.073516</td>\n",
       "                        <td id=\"T_4875002e_a24d_11eb_abc5_8a300d71569drow1_col14\" class=\"data row1 col14\" >0.098909</td>\n",
       "                        <td id=\"T_4875002e_a24d_11eb_abc5_8a300d71569drow1_col15\" class=\"data row1 col15\" >0.068555</td>\n",
       "                        <td id=\"T_4875002e_a24d_11eb_abc5_8a300d71569drow1_col16\" class=\"data row1 col16\" >0.065359</td>\n",
       "                        <td id=\"T_4875002e_a24d_11eb_abc5_8a300d71569drow1_col17\" class=\"data row1 col17\" >0.064803</td>\n",
       "                        <td id=\"T_4875002e_a24d_11eb_abc5_8a300d71569drow1_col18\" class=\"data row1 col18\" >0.133834</td>\n",
       "                        <td id=\"T_4875002e_a24d_11eb_abc5_8a300d71569drow1_col19\" class=\"data row1 col19\" >0.188656</td>\n",
       "                        <td id=\"T_4875002e_a24d_11eb_abc5_8a300d71569drow1_col20\" class=\"data row1 col20\" >0.067175</td>\n",
       "                        <td id=\"T_4875002e_a24d_11eb_abc5_8a300d71569drow1_col21\" class=\"data row1 col21\" >0.067688</td>\n",
       "                        <td id=\"T_4875002e_a24d_11eb_abc5_8a300d71569drow1_col22\" class=\"data row1 col22\" >0.084893</td>\n",
       "                        <td id=\"T_4875002e_a24d_11eb_abc5_8a300d71569drow1_col23\" class=\"data row1 col23\" >0.269032</td>\n",
       "            </tr>\n",
       "            <tr>\n",
       "                        <th id=\"T_4875002e_a24d_11eb_abc5_8a300d71569dlevel0_row2\" class=\"row_heading level0 row2\" >tf_transformers_tensorflow</th>\n",
       "                        <td id=\"T_4875002e_a24d_11eb_abc5_8a300d71569drow2_col0\" class=\"data row2 col0\" >0.007140</td>\n",
       "                        <td id=\"T_4875002e_a24d_11eb_abc5_8a300d71569drow2_col1\" class=\"data row2 col1\" >0.007353</td>\n",
       "                        <td id=\"T_4875002e_a24d_11eb_abc5_8a300d71569drow2_col2\" class=\"data row2 col2\" >0.008757</td>\n",
       "                        <td id=\"T_4875002e_a24d_11eb_abc5_8a300d71569drow2_col3\" class=\"data row2 col3\" >0.017128</td>\n",
       "                        <td id=\"T_4875002e_a24d_11eb_abc5_8a300d71569drow2_col4\" class=\"data row2 col4\" >0.021642</td>\n",
       "                        <td id=\"T_4875002e_a24d_11eb_abc5_8a300d71569drow2_col5\" class=\"data row2 col5\" >0.007482</td>\n",
       "                        <td id=\"T_4875002e_a24d_11eb_abc5_8a300d71569drow2_col6\" class=\"data row2 col6\" >0.008241</td>\n",
       "                        <td id=\"T_4875002e_a24d_11eb_abc5_8a300d71569drow2_col7\" class=\"data row2 col7\" >0.019211</td>\n",
       "                        <td id=\"T_4875002e_a24d_11eb_abc5_8a300d71569drow2_col8\" class=\"data row2 col8\" >0.049306</td>\n",
       "                        <td id=\"T_4875002e_a24d_11eb_abc5_8a300d71569drow2_col9\" class=\"data row2 col9\" >0.067742</td>\n",
       "                        <td id=\"T_4875002e_a24d_11eb_abc5_8a300d71569drow2_col10\" class=\"data row2 col10\" >0.009968</td>\n",
       "                        <td id=\"T_4875002e_a24d_11eb_abc5_8a300d71569drow2_col11\" class=\"data row2 col11\" >0.012419</td>\n",
       "                        <td id=\"T_4875002e_a24d_11eb_abc5_8a300d71569drow2_col12\" class=\"data row2 col12\" >0.030202</td>\n",
       "                        <td id=\"T_4875002e_a24d_11eb_abc5_8a300d71569drow2_col13\" class=\"data row2 col13\" >0.097516</td>\n",
       "                        <td id=\"T_4875002e_a24d_11eb_abc5_8a300d71569drow2_col14\" class=\"data row2 col14\" >0.131381</td>\n",
       "                        <td id=\"T_4875002e_a24d_11eb_abc5_8a300d71569drow2_col15\" class=\"data row2 col15\" >0.015866</td>\n",
       "                        <td id=\"T_4875002e_a24d_11eb_abc5_8a300d71569drow2_col16\" class=\"data row2 col16\" >0.022160</td>\n",
       "                        <td id=\"T_4875002e_a24d_11eb_abc5_8a300d71569drow2_col17\" class=\"data row2 col17\" >0.059833</td>\n",
       "                        <td id=\"T_4875002e_a24d_11eb_abc5_8a300d71569drow2_col18\" class=\"data row2 col18\" >0.186643</td>\n",
       "                        <td id=\"T_4875002e_a24d_11eb_abc5_8a300d71569drow2_col19\" class=\"data row2 col19\" >0.257125</td>\n",
       "                        <td id=\"T_4875002e_a24d_11eb_abc5_8a300d71569drow2_col20\" class=\"data row2 col20\" >0.029547</td>\n",
       "                        <td id=\"T_4875002e_a24d_11eb_abc5_8a300d71569drow2_col21\" class=\"data row2 col21\" >0.038254</td>\n",
       "                        <td id=\"T_4875002e_a24d_11eb_abc5_8a300d71569drow2_col22\" class=\"data row2 col22\" >0.116173</td>\n",
       "                        <td id=\"T_4875002e_a24d_11eb_abc5_8a300d71569drow2_col23\" class=\"data row2 col23\" >0.376592</td>\n",
       "            </tr>\n",
       "    </tbody></table>"
      ],
      "text/plain": [
       "<pandas.io.formats.style.Styler at 0x7f12348f8760>"
      ]
     },
     "execution_count": 12,
     "metadata": {},
     "output_type": "execute_result"
    }
   ],
   "source": [
    "# Highlight\n",
    "df_sequence_length.style.highlight_min(color = 'lightgreen', axis = 0)\n"
   ]
  },
  {
   "cell_type": "code",
   "execution_count": null,
   "metadata": {},
   "outputs": [],
   "source": []
  },
  {
   "cell_type": "code",
   "execution_count": 13,
   "metadata": {},
   "outputs": [
    {
     "data": {
      "text/html": [
       "<style  type=\"text/css\" >\n",
       "#T_55e8e8ba_a24d_11eb_abc5_8a300d71569drow0_col2,#T_55e8e8ba_a24d_11eb_abc5_8a300d71569drow0_col3,#T_55e8e8ba_a24d_11eb_abc5_8a300d71569drow0_col4,#T_55e8e8ba_a24d_11eb_abc5_8a300d71569drow0_col5,#T_55e8e8ba_a24d_11eb_abc5_8a300d71569drow0_col9,#T_55e8e8ba_a24d_11eb_abc5_8a300d71569drow2_col0,#T_55e8e8ba_a24d_11eb_abc5_8a300d71569drow2_col1,#T_55e8e8ba_a24d_11eb_abc5_8a300d71569drow2_col6,#T_55e8e8ba_a24d_11eb_abc5_8a300d71569drow2_col7,#T_55e8e8ba_a24d_11eb_abc5_8a300d71569drow2_col8{\n",
       "            background-color:  lightgreen;\n",
       "        }</style><table id=\"T_55e8e8ba_a24d_11eb_abc5_8a300d71569d\" ><thead>    <tr>        <th class=\"blank level0\" ></th>        <th class=\"col_heading level0 col0\" >16</th>        <th class=\"col_heading level0 col1\" >1</th>        <th class=\"col_heading level0 col2\" >4</th>        <th class=\"col_heading level0 col3\" >16</th>        <th class=\"col_heading level0 col4\" >8</th>        <th class=\"col_heading level0 col5\" >16</th>        <th class=\"col_heading level0 col6\" >8</th>        <th class=\"col_heading level0 col7\" >4</th>        <th class=\"col_heading level0 col8\" >1</th>        <th class=\"col_heading level0 col9\" >8</th>    </tr>    <tr>        <th class=\"blank level1\" ></th>        <th class=\"col_heading level1 col0\" >20</th>        <th class=\"col_heading level1 col1\" >20</th>        <th class=\"col_heading level1 col2\" >512</th>        <th class=\"col_heading level1 col3\" >128</th>        <th class=\"col_heading level1 col4\" >512</th>        <th class=\"col_heading level1 col5\" >512</th>        <th class=\"col_heading level1 col6\" >20</th>        <th class=\"col_heading level1 col7\" >20</th>        <th class=\"col_heading level1 col8\" >512</th>        <th class=\"col_heading level1 col9\" >128</th>    </tr></thead><tbody>\n",
       "                <tr>\n",
       "                        <th id=\"T_55e8e8ba_a24d_11eb_abc5_8a300d71569dlevel0_row0\" class=\"row_heading level0 row0\" >hf_pytorch</th>\n",
       "                        <td id=\"T_55e8e8ba_a24d_11eb_abc5_8a300d71569drow0_col0\" class=\"data row0 col0\" >0.074036</td>\n",
       "                        <td id=\"T_55e8e8ba_a24d_11eb_abc5_8a300d71569drow0_col1\" class=\"data row0 col1\" >0.019506</td>\n",
       "                        <td id=\"T_55e8e8ba_a24d_11eb_abc5_8a300d71569drow0_col2\" class=\"data row0 col2\" >0.033628</td>\n",
       "                        <td id=\"T_55e8e8ba_a24d_11eb_abc5_8a300d71569drow0_col3\" class=\"data row0 col3\" >0.018099</td>\n",
       "                        <td id=\"T_55e8e8ba_a24d_11eb_abc5_8a300d71569drow0_col4\" class=\"data row0 col4\" >0.026535</td>\n",
       "                        <td id=\"T_55e8e8ba_a24d_11eb_abc5_8a300d71569drow0_col5\" class=\"data row0 col5\" >0.119468</td>\n",
       "                        <td id=\"T_55e8e8ba_a24d_11eb_abc5_8a300d71569drow0_col6\" class=\"data row0 col6\" >0.018863</td>\n",
       "                        <td id=\"T_55e8e8ba_a24d_11eb_abc5_8a300d71569drow0_col7\" class=\"data row0 col7\" >0.018343</td>\n",
       "                        <td id=\"T_55e8e8ba_a24d_11eb_abc5_8a300d71569drow0_col8\" class=\"data row0 col8\" >0.025359</td>\n",
       "                        <td id=\"T_55e8e8ba_a24d_11eb_abc5_8a300d71569drow0_col9\" class=\"data row0 col9\" >0.018468</td>\n",
       "            </tr>\n",
       "            <tr>\n",
       "                        <th id=\"T_55e8e8ba_a24d_11eb_abc5_8a300d71569dlevel0_row1\" class=\"row_heading level0 row1\" >hf_tensorflow</th>\n",
       "                        <td id=\"T_55e8e8ba_a24d_11eb_abc5_8a300d71569drow1_col0\" class=\"data row1 col0\" >0.068555</td>\n",
       "                        <td id=\"T_55e8e8ba_a24d_11eb_abc5_8a300d71569drow1_col1\" class=\"data row1 col1\" >0.068123</td>\n",
       "                        <td id=\"T_55e8e8ba_a24d_11eb_abc5_8a300d71569drow1_col2\" class=\"data row1 col2\" >0.067980</td>\n",
       "                        <td id=\"T_55e8e8ba_a24d_11eb_abc5_8a300d71569drow1_col3\" class=\"data row1 col3\" >0.064803</td>\n",
       "                        <td id=\"T_55e8e8ba_a24d_11eb_abc5_8a300d71569drow1_col4\" class=\"data row1 col4\" >0.098909</td>\n",
       "                        <td id=\"T_55e8e8ba_a24d_11eb_abc5_8a300d71569drow1_col5\" class=\"data row1 col5\" >0.188656</td>\n",
       "                        <td id=\"T_55e8e8ba_a24d_11eb_abc5_8a300d71569drow1_col6\" class=\"data row1 col6\" >0.067961</td>\n",
       "                        <td id=\"T_55e8e8ba_a24d_11eb_abc5_8a300d71569drow1_col7\" class=\"data row1 col7\" >0.066232</td>\n",
       "                        <td id=\"T_55e8e8ba_a24d_11eb_abc5_8a300d71569drow1_col8\" class=\"data row1 col8\" >0.071382</td>\n",
       "                        <td id=\"T_55e8e8ba_a24d_11eb_abc5_8a300d71569drow1_col9\" class=\"data row1 col9\" >0.067540</td>\n",
       "            </tr>\n",
       "            <tr>\n",
       "                        <th id=\"T_55e8e8ba_a24d_11eb_abc5_8a300d71569dlevel0_row2\" class=\"row_heading level0 row2\" >tf_transformers_tensorflow</th>\n",
       "                        <td id=\"T_55e8e8ba_a24d_11eb_abc5_8a300d71569drow2_col0\" class=\"data row2 col0\" >0.015866</td>\n",
       "                        <td id=\"T_55e8e8ba_a24d_11eb_abc5_8a300d71569drow2_col1\" class=\"data row2 col1\" >0.007140</td>\n",
       "                        <td id=\"T_55e8e8ba_a24d_11eb_abc5_8a300d71569drow2_col2\" class=\"data row2 col2\" >0.067742</td>\n",
       "                        <td id=\"T_55e8e8ba_a24d_11eb_abc5_8a300d71569drow2_col3\" class=\"data row2 col3\" >0.059833</td>\n",
       "                        <td id=\"T_55e8e8ba_a24d_11eb_abc5_8a300d71569drow2_col4\" class=\"data row2 col4\" >0.131381</td>\n",
       "                        <td id=\"T_55e8e8ba_a24d_11eb_abc5_8a300d71569drow2_col5\" class=\"data row2 col5\" >0.257125</td>\n",
       "                        <td id=\"T_55e8e8ba_a24d_11eb_abc5_8a300d71569drow2_col6\" class=\"data row2 col6\" >0.009968</td>\n",
       "                        <td id=\"T_55e8e8ba_a24d_11eb_abc5_8a300d71569drow2_col7\" class=\"data row2 col7\" >0.007482</td>\n",
       "                        <td id=\"T_55e8e8ba_a24d_11eb_abc5_8a300d71569drow2_col8\" class=\"data row2 col8\" >0.021642</td>\n",
       "                        <td id=\"T_55e8e8ba_a24d_11eb_abc5_8a300d71569drow2_col9\" class=\"data row2 col9\" >0.030202</td>\n",
       "            </tr>\n",
       "    </tbody></table>"
      ],
      "text/plain": [
       "<pandas.io.formats.style.Styler at 0x7f12348a8dc0>"
      ]
     },
     "execution_count": 13,
     "metadata": {},
     "output_type": "execute_result"
    }
   ],
   "source": [
    "df_sequence_length.sample(n = 10, axis='columns').style.highlight_min(color = 'lightgreen', axis = 0)\n"
   ]
  },
  {
   "cell_type": "code",
   "execution_count": null,
   "metadata": {},
   "outputs": [],
   "source": []
  },
  {
   "cell_type": "markdown",
   "metadata": {},
   "source": [
    "# Find the count of index based on speed\n"
   ]
  },
  {
   "cell_type": "code",
   "execution_count": 14,
   "metadata": {},
   "outputs": [
    {
     "data": {
      "text/plain": [
       "hf_pytorch                    13\n",
       "tf_transformers_tensorflow    11\n",
       "dtype: int64"
      ]
     },
     "execution_count": 14,
     "metadata": {},
     "output_type": "execute_result"
    }
   ],
   "source": [
    "df_sequence_length.idxmin(axis=0).value_counts()"
   ]
  },
  {
   "cell_type": "markdown",
   "metadata": {},
   "source": [
    "# Greedy Visualize"
   ]
  },
  {
   "cell_type": "code",
   "execution_count": 15,
   "metadata": {},
   "outputs": [
    {
     "data": {
      "text/plain": [
       "Text(0, 0.5, 'Time in Seconds')"
      ]
     },
     "execution_count": 15,
     "metadata": {},
     "output_type": "execute_result"
    },
    {
     "data": {
      "image/png": "[encoded data removed]",
      "text/plain": [
       "<Figure size 1800x720 with 1 Axes>"
      ]
     },
     "metadata": {
      "needs_background": "light"
     },
     "output_type": "display_data"
    }
   ],
   "source": [
    "ax = df_sequence_length.transpose().plot.bar(rot=1, figsize=(25,10))\n",
    "ax.set_xlabel(\"Batch - Sequence_Length\")\n",
    "ax.set_ylabel(\"Time in Seconds\")"
   ]
  },
  {
   "cell_type": "code",
   "execution_count": null,
   "metadata": {},
   "outputs": [],
   "source": []
  },
  {
   "cell_type": "code",
   "execution_count": null,
   "metadata": {},
   "outputs": [],
   "source": []
  }
 ],
 "metadata": {
  "kernelspec": {
   "display_name": "Python 3",
   "language": "python",
   "name": "python3"
  },
  "language_info": {
   "codemirror_mode": {
    "name": "ipython",
    "version": 3
   },
   "file_extension": ".py",
   "mimetype": "text/x-python",
   "name": "python",
   "nbconvert_exporter": "python",
   "pygments_lexer": "ipython3",
   "version": "3.8.6"
  }
 },
 "nbformat": 4,
 "nbformat_minor": 4
}
