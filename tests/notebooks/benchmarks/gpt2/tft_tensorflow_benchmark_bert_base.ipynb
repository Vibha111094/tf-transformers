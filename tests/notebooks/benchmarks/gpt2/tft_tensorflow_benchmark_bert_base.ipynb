{
 "cells": [
  {
   "cell_type": "code",
   "execution_count": null,
   "metadata": {
    "colab": {
     "base_uri": "https://localhost:8080/"
    },
    "id": "6rWvi3WhdQob",
    "outputId": "826b55c1-a654-4908-f9d1-b897285a782e"
   },
   "outputs": [],
   "source": []
  },
  {
   "cell_type": "markdown",
   "metadata": {
    "id": "wtjmOfq0d6db"
   },
   "source": [
    "# Benchmarking with tft"
   ]
  },
  {
   "cell_type": "code",
   "execution_count": 1,
   "metadata": {
    "id": "hpFRjm90dv77"
   },
   "outputs": [
    {
     "name": "stderr",
     "output_type": "stream",
     "text": [
      "Some layers from the model checkpoint at bert-base-cased were not used when initializing TFBertModel: ['mlm___cls', 'nsp___cls']\n",
      "- This IS expected if you are initializing TFBertModel from the checkpoint of a model trained on another task or with another architecture (e.g. initializing a BertForSequenceClassification model from a BertForPreTraining model).\n",
      "- This IS NOT expected if you are initializing TFBertModel from the checkpoint of a model that you expect to be exactly identical (initializing a BertForSequenceClassification model from a BertForSequenceClassification model).\n",
      "All the layers of TFBertModel were initialized from the model checkpoint at bert-base-cased.\n",
      "If your task is similar to the task the model of the checkpoint was trained on, you can already use TFBertModel for predictions without further training.\n"
     ]
    }
   ],
   "source": [
    "\n",
    "from tf_transformers.models import BertModel\n",
    "model_name = 'bert-base-cased'\n",
    "model, config = BertModel.get_model(model_name=model_name)\n",
    "model.save_as_serialize_module(\"temp\")\n",
    "\n",
    "# Move to gpu\n",
    "import tensorflow as tf\n",
    "print(\"Num GPUs Available: \", len(tf.config.experimental.list_physical_devices('GPU')))\n",
    "\n",
    "\n",
    "loaded = tf.saved_model.load(\"temp\")\n",
    "model = loaded.signatures['serving_default']"
   ]
  },
  {
   "cell_type": "code",
   "execution_count": 2,
   "metadata": {
    "colab": {
     "base_uri": "https://localhost:8080/"
    },
    "id": "Rx8oXihpfPF4",
    "outputId": "3d25636f-db90-4871-ae6a-0d002f169e44"
   },
   "outputs": [
    {
     "name": "stdout",
     "output_type": "stream",
     "text": [
      "Num GPUs Available:  0\n"
     ]
    }
   ],
   "source": [
    "# Move to gpu\n",
    "import tensorflow as tf\n",
    "print(\"Num GPUs Available: \", len(tf.config.experimental.list_physical_devices('GPU')))\n"
   ]
  },
  {
   "cell_type": "markdown",
   "metadata": {
    "id": "xKzd2Xs2ejLM"
   },
   "source": [
    "## Greedy\n"
   ]
  },
  {
   "cell_type": "code",
   "execution_count": 3,
   "metadata": {
    "id": "eYgRqYRGltg7"
   },
   "outputs": [],
   "source": [
    "from functools import wraps\n",
    "import time\n",
    "import numpy as np\n",
    "\n",
    "average_runs = 4\n",
    "\n",
    "def timeit(my_func):\n",
    "    @wraps(my_func)\n",
    "    def timed(*args, **kw):\n",
    "        time_list = []\n",
    "        for i in range(3):\n",
    "          tstart = time.time()\n",
    "          output = my_func(*args, **kw)\n",
    "          tend = time.time()\n",
    "          time_taken = tend-tstart\n",
    "          time_list.append((tend - tstart))\n",
    "          \n",
    "        return np.mean(time_list[1:]) # return last 3\n",
    "    return timed"
   ]
  },
  {
   "cell_type": "code",
   "execution_count": null,
   "metadata": {
    "colab": {
     "base_uri": "https://localhost:8080/"
    },
    "id": "bQCN4u0eeQqo",
    "outputId": "5f72606a-d5d6-4a10-cf4e-b9a04d738b32"
   },
   "outputs": [
    {
     "name": "stdout",
     "output_type": "stream",
     "text": [
      "Done batch_size 1 sequence length 20\n",
      "Done batch_size 1 sequence length 32\n",
      "Done batch_size 1 sequence length 128\n",
      "Done batch_size 1 sequence length 384\n",
      "Done batch_size 1 sequence length 512\n",
      "Done batch_size 4 sequence length 20\n",
      "Done batch_size 4 sequence length 32\n",
      "Done batch_size 4 sequence length 128\n",
      "Done batch_size 4 sequence length 384\n",
      "Done batch_size 4 sequence length 512\n",
      "Done batch_size 8 sequence length 20\n",
      "Done batch_size 8 sequence length 32\n",
      "Done batch_size 8 sequence length 128\n",
      "Done batch_size 8 sequence length 384\n",
      "Done batch_size 8 sequence length 512\n",
      "Done batch_size 16 sequence length 20\n",
      "Done batch_size 16 sequence length 32\n",
      "Done batch_size 16 sequence length 128\n",
      "Done batch_size 16 sequence length 384\n",
      "Done batch_size 16 sequence length 512\n",
      "Done batch_size 32 sequence length 20\n",
      "Done batch_size 32 sequence length 32\n",
      "Done batch_size 32 sequence length 128\n",
      "Done batch_size 32 sequence length 384\n",
      "Done batch_size 32 sequence length 512\n",
      "Done batch_size 128 sequence length 20\n"
     ]
    }
   ],
   "source": [
    "timing_results = {}\n",
    "batch_size_list = [1, 4, 8, 16, 32, 128]\n",
    "max_seq_length_list = [20, 32, 128, 384, 512]\n",
    "\n",
    "@timeit\n",
    "def call_sequence(input_tensor):\n",
    "  result = model(**input_tensor)\n",
    "  return result\n",
    "\n",
    "minval = 1\n",
    "maxval = 28996\n",
    "\n",
    "timing_holder = {}\n",
    "for batch in batch_size_list:\n",
    "  for sequence_length in max_seq_length_list:\n",
    "    input_tensor = tf.random.uniform(minval=minval, maxval=maxval, shape=(batch,sequence_length), dtype=tf.int32)\n",
    "    inputs = {}\n",
    "    inputs['input_ids'] = input_tensor\n",
    "    inputs['input_mask'] = tf.ones_like(input_tensor)\n",
    "    inputs['input_type_ids'] = tf.ones_like(input_tensor)\n",
    "    # because we need to genrate that much tokens from input_tensor_length\n",
    "    average_time_taken = call_sequence(inputs)\n",
    "    timing_holder[(batch, sequence_length)] = average_time_taken\n",
    "    print(\"Done batch_size {} sequence length {}\".format(batch, sequence_length))\n",
    "\n",
    "    \n",
    "timing_results['tft_forward'] = timing_holder"
   ]
  },
  {
   "cell_type": "code",
   "execution_count": null,
   "metadata": {
    "id": "KPGmc21PitMu"
   },
   "outputs": [],
   "source": [
    "\n",
    "\n",
    "import pickle\n",
    "with open(\"/mnt/home/TF_NEW/bert_sequence_length_benchmark/tft_bert_benchmark_gpu.pkl\", \"wb\") as f:\n",
    "    pickle.dump(timing_results, f)"
   ]
  },
  {
   "cell_type": "code",
   "execution_count": null,
   "metadata": {
    "id": "ANmPzVqciu_E"
   },
   "outputs": [],
   "source": []
  },
  {
   "cell_type": "code",
   "execution_count": null,
   "metadata": {},
   "outputs": [],
   "source": [
    "input_tensor = tf.random.uniform(minval=minval, maxval=maxval, shape=(16,20), dtype=tf.int32)\n",
    "inputs = {}\n",
    "inputs['input_ids'] = input_tensor\n",
    "inputs['input_mask'] = tf.ones_like(input_tensor)\n",
    "inputs['input_type_ids'] = tf.ones_like(input_tensor)\n",
    "\n",
    "for i in range(5):\n",
    "    start_time = time.time()\n",
    "    r = model(**inputs)\n",
    "    end_time = time.time()\n",
    "    print(\"Time {} taken {}\".format(i, end_time-start_time))"
   ]
  }
 ],
 "metadata": {
  "accelerator": "GPU",
  "colab": {
   "collapsed_sections": [],
   "name": "tensorflow_benchmark.ipynb",
   "provenance": []
  },
  "kernelspec": {
   "display_name": "Python 3",
   "language": "python",
   "name": "python3"
  },
  "language_info": {
   "codemirror_mode": {
    "name": "ipython",
    "version": 3
   },
   "file_extension": ".py",
   "mimetype": "text/x-python",
   "name": "python",
   "nbconvert_exporter": "python",
   "pygments_lexer": "ipython3",
   "version": "3.8.6"
  }
 },
 "nbformat": 4,
 "nbformat_minor": 1
}
