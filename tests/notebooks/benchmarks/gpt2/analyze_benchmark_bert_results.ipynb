{
 "cells": [
  {
   "cell_type": "code",
   "execution_count": 5,
   "metadata": {},
   "outputs": [],
   "source": [
    "import pickle\n",
    "import pandas as pd"
   ]
  },
  {
   "cell_type": "code",
   "execution_count": null,
   "metadata": {},
   "outputs": [],
   "source": []
  },
  {
   "cell_type": "code",
   "execution_count": 11,
   "metadata": {},
   "outputs": [],
   "source": [
    "hf_pytorch = pickle.load(open(\"/mnt/home/TF_NEW/bert_sequence_length_benchmark/tf_pt_bert_benchmark.pkl\", \"rb\"))\n",
    "hf_tensorflow = pickle.load(open(\"/mnt/home/TF_NEW/bert_sequence_length_benchmark/tf_hf_bert_benchmark.pkl\", \"rb\"))\n",
    "tf_transformers_tensorflow = pickle.load(open(\"/mnt/home/TF_NEW/bert_sequence_length_benchmark/tft_bert_benchmark.pkl\", \"rb\"))"
   ]
  },
  {
   "cell_type": "code",
   "execution_count": null,
   "metadata": {},
   "outputs": [],
   "source": []
  },
  {
   "cell_type": "markdown",
   "metadata": {},
   "source": [
    "# Sequence Length"
   ]
  },
  {
   "cell_type": "code",
   "execution_count": null,
   "metadata": {},
   "outputs": [],
   "source": []
  },
  {
   "cell_type": "code",
   "execution_count": 12,
   "metadata": {},
   "outputs": [],
   "source": [
    "# Columns\n",
    "keys = hf_pytorch['hf_pt_forward'].keys()\n",
    "\n",
    "# results\n",
    "results = []\n",
    "results.append(list(hf_pytorch['hf_pt_forward'].values()))\n",
    "results.append(list(hf_tensorflow['hf_tf_forward'].values()))\n",
    "results.append(list(tf_transformers_tensorflow['tft_forward'].values()))\n",
    "\n",
    "df_sequence_length = pd.DataFrame(results)\n",
    "\n",
    "# columns and index\n",
    "df_sequence_length.columns = keys\n",
    "df_sequence_length.index   = ['hf_pytorch', 'hf_tensorflow', 'tf_transformers_tensorflow']"
   ]
  },
  {
   "cell_type": "code",
   "execution_count": 13,
   "metadata": {},
   "outputs": [
    {
     "data": {
      "text/html": [
       "<style  type=\"text/css\" >\n",
       "#T_5da2be02_a24b_11eb_b872_8a300d71569drow0_col1,#T_5da2be02_a24b_11eb_b872_8a300d71569drow0_col2,#T_5da2be02_a24b_11eb_b872_8a300d71569drow0_col3,#T_5da2be02_a24b_11eb_b872_8a300d71569drow0_col4,#T_5da2be02_a24b_11eb_b872_8a300d71569drow0_col5,#T_5da2be02_a24b_11eb_b872_8a300d71569drow0_col6,#T_5da2be02_a24b_11eb_b872_8a300d71569drow0_col7,#T_5da2be02_a24b_11eb_b872_8a300d71569drow0_col8,#T_5da2be02_a24b_11eb_b872_8a300d71569drow0_col9,#T_5da2be02_a24b_11eb_b872_8a300d71569drow0_col10,#T_5da2be02_a24b_11eb_b872_8a300d71569drow0_col12,#T_5da2be02_a24b_11eb_b872_8a300d71569drow0_col13,#T_5da2be02_a24b_11eb_b872_8a300d71569drow0_col14,#T_5da2be02_a24b_11eb_b872_8a300d71569drow0_col15,#T_5da2be02_a24b_11eb_b872_8a300d71569drow0_col16,#T_5da2be02_a24b_11eb_b872_8a300d71569drow0_col17,#T_5da2be02_a24b_11eb_b872_8a300d71569drow0_col18,#T_5da2be02_a24b_11eb_b872_8a300d71569drow0_col19,#T_5da2be02_a24b_11eb_b872_8a300d71569drow0_col20,#T_5da2be02_a24b_11eb_b872_8a300d71569drow0_col21,#T_5da2be02_a24b_11eb_b872_8a300d71569drow0_col22,#T_5da2be02_a24b_11eb_b872_8a300d71569drow0_col23,#T_5da2be02_a24b_11eb_b872_8a300d71569drow0_col24,#T_5da2be02_a24b_11eb_b872_8a300d71569drow0_col25,#T_5da2be02_a24b_11eb_b872_8a300d71569drow0_col26,#T_5da2be02_a24b_11eb_b872_8a300d71569drow0_col27,#T_5da2be02_a24b_11eb_b872_8a300d71569drow0_col28,#T_5da2be02_a24b_11eb_b872_8a300d71569drow0_col29,#T_5da2be02_a24b_11eb_b872_8a300d71569drow2_col0,#T_5da2be02_a24b_11eb_b872_8a300d71569drow2_col11{\n",
       "            background-color:  lightgreen;\n",
       "        }</style><table id=\"T_5da2be02_a24b_11eb_b872_8a300d71569d\" ><thead>    <tr>        <th class=\"blank level0\" ></th>        <th class=\"col_heading level0 col0\" colspan=5>1</th>        <th class=\"col_heading level0 col5\" colspan=5>4</th>        <th class=\"col_heading level0 col10\" colspan=5>8</th>        <th class=\"col_heading level0 col15\" colspan=5>16</th>        <th class=\"col_heading level0 col20\" colspan=5>32</th>        <th class=\"col_heading level0 col25\" colspan=5>128</th>    </tr>    <tr>        <th class=\"blank level1\" ></th>        <th class=\"col_heading level1 col0\" >20</th>        <th class=\"col_heading level1 col1\" >32</th>        <th class=\"col_heading level1 col2\" >128</th>        <th class=\"col_heading level1 col3\" >384</th>        <th class=\"col_heading level1 col4\" >512</th>        <th class=\"col_heading level1 col5\" >20</th>        <th class=\"col_heading level1 col6\" >32</th>        <th class=\"col_heading level1 col7\" >128</th>        <th class=\"col_heading level1 col8\" >384</th>        <th class=\"col_heading level1 col9\" >512</th>        <th class=\"col_heading level1 col10\" >20</th>        <th class=\"col_heading level1 col11\" >32</th>        <th class=\"col_heading level1 col12\" >128</th>        <th class=\"col_heading level1 col13\" >384</th>        <th class=\"col_heading level1 col14\" >512</th>        <th class=\"col_heading level1 col15\" >20</th>        <th class=\"col_heading level1 col16\" >32</th>        <th class=\"col_heading level1 col17\" >128</th>        <th class=\"col_heading level1 col18\" >384</th>        <th class=\"col_heading level1 col19\" >512</th>        <th class=\"col_heading level1 col20\" >20</th>        <th class=\"col_heading level1 col21\" >32</th>        <th class=\"col_heading level1 col22\" >128</th>        <th class=\"col_heading level1 col23\" >384</th>        <th class=\"col_heading level1 col24\" >512</th>        <th class=\"col_heading level1 col25\" >20</th>        <th class=\"col_heading level1 col26\" >32</th>        <th class=\"col_heading level1 col27\" >128</th>        <th class=\"col_heading level1 col28\" >384</th>        <th class=\"col_heading level1 col29\" >512</th>    </tr></thead><tbody>\n",
       "                <tr>\n",
       "                        <th id=\"T_5da2be02_a24b_11eb_b872_8a300d71569dlevel0_row0\" class=\"row_heading level0 row0\" >hf_pytorch</th>\n",
       "                        <td id=\"T_5da2be02_a24b_11eb_b872_8a300d71569drow0_col0\" class=\"data row0 col0\" >0.107575</td>\n",
       "                        <td id=\"T_5da2be02_a24b_11eb_b872_8a300d71569drow0_col1\" class=\"data row0 col1\" >0.053637</td>\n",
       "                        <td id=\"T_5da2be02_a24b_11eb_b872_8a300d71569drow0_col2\" class=\"data row0 col2\" >0.115527</td>\n",
       "                        <td id=\"T_5da2be02_a24b_11eb_b872_8a300d71569drow0_col3\" class=\"data row0 col3\" >0.168000</td>\n",
       "                        <td id=\"T_5da2be02_a24b_11eb_b872_8a300d71569drow0_col4\" class=\"data row0 col4\" >0.181790</td>\n",
       "                        <td id=\"T_5da2be02_a24b_11eb_b872_8a300d71569drow0_col5\" class=\"data row0 col5\" >0.078162</td>\n",
       "                        <td id=\"T_5da2be02_a24b_11eb_b872_8a300d71569drow0_col6\" class=\"data row0 col6\" >0.090086</td>\n",
       "                        <td id=\"T_5da2be02_a24b_11eb_b872_8a300d71569drow0_col7\" class=\"data row0 col7\" >0.221885</td>\n",
       "                        <td id=\"T_5da2be02_a24b_11eb_b872_8a300d71569drow0_col8\" class=\"data row0 col8\" >0.561838</td>\n",
       "                        <td id=\"T_5da2be02_a24b_11eb_b872_8a300d71569drow0_col9\" class=\"data row0 col9\" >0.782570</td>\n",
       "                        <td id=\"T_5da2be02_a24b_11eb_b872_8a300d71569drow0_col10\" class=\"data row0 col10\" >0.121862</td>\n",
       "                        <td id=\"T_5da2be02_a24b_11eb_b872_8a300d71569drow0_col11\" class=\"data row0 col11\" >0.255896</td>\n",
       "                        <td id=\"T_5da2be02_a24b_11eb_b872_8a300d71569drow0_col12\" class=\"data row0 col12\" >0.253001</td>\n",
       "                        <td id=\"T_5da2be02_a24b_11eb_b872_8a300d71569drow0_col13\" class=\"data row0 col13\" >1.020192</td>\n",
       "                        <td id=\"T_5da2be02_a24b_11eb_b872_8a300d71569drow0_col14\" class=\"data row0 col14\" >1.339330</td>\n",
       "                        <td id=\"T_5da2be02_a24b_11eb_b872_8a300d71569drow0_col15\" class=\"data row0 col15\" >0.107350</td>\n",
       "                        <td id=\"T_5da2be02_a24b_11eb_b872_8a300d71569drow0_col16\" class=\"data row0 col16\" >0.218834</td>\n",
       "                        <td id=\"T_5da2be02_a24b_11eb_b872_8a300d71569drow0_col17\" class=\"data row0 col17\" >0.430035</td>\n",
       "                        <td id=\"T_5da2be02_a24b_11eb_b872_8a300d71569drow0_col18\" class=\"data row0 col18\" >2.114828</td>\n",
       "                        <td id=\"T_5da2be02_a24b_11eb_b872_8a300d71569drow0_col19\" class=\"data row0 col19\" >2.717851</td>\n",
       "                        <td id=\"T_5da2be02_a24b_11eb_b872_8a300d71569drow0_col20\" class=\"data row0 col20\" >0.292307</td>\n",
       "                        <td id=\"T_5da2be02_a24b_11eb_b872_8a300d71569drow0_col21\" class=\"data row0 col21\" >0.225337</td>\n",
       "                        <td id=\"T_5da2be02_a24b_11eb_b872_8a300d71569drow0_col22\" class=\"data row0 col22\" >0.780320</td>\n",
       "                        <td id=\"T_5da2be02_a24b_11eb_b872_8a300d71569drow0_col23\" class=\"data row0 col23\" >4.147360</td>\n",
       "                        <td id=\"T_5da2be02_a24b_11eb_b872_8a300d71569drow0_col24\" class=\"data row0 col24\" >6.458357</td>\n",
       "                        <td id=\"T_5da2be02_a24b_11eb_b872_8a300d71569drow0_col25\" class=\"data row0 col25\" >0.615894</td>\n",
       "                        <td id=\"T_5da2be02_a24b_11eb_b872_8a300d71569drow0_col26\" class=\"data row0 col26\" >0.918154</td>\n",
       "                        <td id=\"T_5da2be02_a24b_11eb_b872_8a300d71569drow0_col27\" class=\"data row0 col27\" >4.671114</td>\n",
       "                        <td id=\"T_5da2be02_a24b_11eb_b872_8a300d71569drow0_col28\" class=\"data row0 col28\" >17.052306</td>\n",
       "                        <td id=\"T_5da2be02_a24b_11eb_b872_8a300d71569drow0_col29\" class=\"data row0 col29\" >25.852242</td>\n",
       "            </tr>\n",
       "            <tr>\n",
       "                        <th id=\"T_5da2be02_a24b_11eb_b872_8a300d71569dlevel0_row1\" class=\"row_heading level0 row1\" >hf_tensorflow</th>\n",
       "                        <td id=\"T_5da2be02_a24b_11eb_b872_8a300d71569drow1_col0\" class=\"data row1 col0\" >0.139089</td>\n",
       "                        <td id=\"T_5da2be02_a24b_11eb_b872_8a300d71569drow1_col1\" class=\"data row1 col1\" >0.152301</td>\n",
       "                        <td id=\"T_5da2be02_a24b_11eb_b872_8a300d71569drow1_col2\" class=\"data row1 col2\" >0.232298</td>\n",
       "                        <td id=\"T_5da2be02_a24b_11eb_b872_8a300d71569drow1_col3\" class=\"data row1 col3\" >0.313180</td>\n",
       "                        <td id=\"T_5da2be02_a24b_11eb_b872_8a300d71569drow1_col4\" class=\"data row1 col4\" >0.600395</td>\n",
       "                        <td id=\"T_5da2be02_a24b_11eb_b872_8a300d71569drow1_col5\" class=\"data row1 col5\" >0.192795</td>\n",
       "                        <td id=\"T_5da2be02_a24b_11eb_b872_8a300d71569drow1_col6\" class=\"data row1 col6\" >0.218258</td>\n",
       "                        <td id=\"T_5da2be02_a24b_11eb_b872_8a300d71569drow1_col7\" class=\"data row1 col7\" >0.329903</td>\n",
       "                        <td id=\"T_5da2be02_a24b_11eb_b872_8a300d71569drow1_col8\" class=\"data row1 col8\" >0.825850</td>\n",
       "                        <td id=\"T_5da2be02_a24b_11eb_b872_8a300d71569drow1_col9\" class=\"data row1 col9\" >1.751349</td>\n",
       "                        <td id=\"T_5da2be02_a24b_11eb_b872_8a300d71569drow1_col10\" class=\"data row1 col10\" >0.224387</td>\n",
       "                        <td id=\"T_5da2be02_a24b_11eb_b872_8a300d71569drow1_col11\" class=\"data row1 col11\" >0.241601</td>\n",
       "                        <td id=\"T_5da2be02_a24b_11eb_b872_8a300d71569drow1_col12\" class=\"data row1 col12\" >0.477707</td>\n",
       "                        <td id=\"T_5da2be02_a24b_11eb_b872_8a300d71569drow1_col13\" class=\"data row1 col13\" >2.217094</td>\n",
       "                        <td id=\"T_5da2be02_a24b_11eb_b872_8a300d71569drow1_col14\" class=\"data row1 col14\" >2.962817</td>\n",
       "                        <td id=\"T_5da2be02_a24b_11eb_b872_8a300d71569drow1_col15\" class=\"data row1 col15\" >0.260541</td>\n",
       "                        <td id=\"T_5da2be02_a24b_11eb_b872_8a300d71569drow1_col16\" class=\"data row1 col16\" >0.300799</td>\n",
       "                        <td id=\"T_5da2be02_a24b_11eb_b872_8a300d71569drow1_col17\" class=\"data row1 col17\" >0.909299</td>\n",
       "                        <td id=\"T_5da2be02_a24b_11eb_b872_8a300d71569drow1_col18\" class=\"data row1 col18\" >3.783278</td>\n",
       "                        <td id=\"T_5da2be02_a24b_11eb_b872_8a300d71569drow1_col19\" class=\"data row1 col19\" >5.361637</td>\n",
       "                        <td id=\"T_5da2be02_a24b_11eb_b872_8a300d71569drow1_col20\" class=\"data row1 col20\" >0.320799</td>\n",
       "                        <td id=\"T_5da2be02_a24b_11eb_b872_8a300d71569drow1_col21\" class=\"data row1 col21\" >0.415937</td>\n",
       "                        <td id=\"T_5da2be02_a24b_11eb_b872_8a300d71569drow1_col22\" class=\"data row1 col22\" >1.665048</td>\n",
       "                        <td id=\"T_5da2be02_a24b_11eb_b872_8a300d71569drow1_col23\" class=\"data row1 col23\" >8.419396</td>\n",
       "                        <td id=\"T_5da2be02_a24b_11eb_b872_8a300d71569drow1_col24\" class=\"data row1 col24\" >11.775493</td>\n",
       "                        <td id=\"T_5da2be02_a24b_11eb_b872_8a300d71569drow1_col25\" class=\"data row1 col25\" >0.820220</td>\n",
       "                        <td id=\"T_5da2be02_a24b_11eb_b872_8a300d71569drow1_col26\" class=\"data row1 col26\" >1.558766</td>\n",
       "                        <td id=\"T_5da2be02_a24b_11eb_b872_8a300d71569drow1_col27\" class=\"data row1 col27\" >8.847269</td>\n",
       "                        <td id=\"T_5da2be02_a24b_11eb_b872_8a300d71569drow1_col28\" class=\"data row1 col28\" >33.953956</td>\n",
       "                        <td id=\"T_5da2be02_a24b_11eb_b872_8a300d71569drow1_col29\" class=\"data row1 col29\" >46.961272</td>\n",
       "            </tr>\n",
       "            <tr>\n",
       "                        <th id=\"T_5da2be02_a24b_11eb_b872_8a300d71569dlevel0_row2\" class=\"row_heading level0 row2\" >tf_transformers_tensorflow</th>\n",
       "                        <td id=\"T_5da2be02_a24b_11eb_b872_8a300d71569drow2_col0\" class=\"data row2 col0\" >0.049194</td>\n",
       "                        <td id=\"T_5da2be02_a24b_11eb_b872_8a300d71569drow2_col1\" class=\"data row2 col1\" >0.061234</td>\n",
       "                        <td id=\"T_5da2be02_a24b_11eb_b872_8a300d71569drow2_col2\" class=\"data row2 col2\" >0.126178</td>\n",
       "                        <td id=\"T_5da2be02_a24b_11eb_b872_8a300d71569drow2_col3\" class=\"data row2 col3\" >0.224392</td>\n",
       "                        <td id=\"T_5da2be02_a24b_11eb_b872_8a300d71569drow2_col4\" class=\"data row2 col4\" >0.290567</td>\n",
       "                        <td id=\"T_5da2be02_a24b_11eb_b872_8a300d71569drow2_col5\" class=\"data row2 col5\" >0.098569</td>\n",
       "                        <td id=\"T_5da2be02_a24b_11eb_b872_8a300d71569drow2_col6\" class=\"data row2 col6\" >0.121231</td>\n",
       "                        <td id=\"T_5da2be02_a24b_11eb_b872_8a300d71569drow2_col7\" class=\"data row2 col7\" >0.261355</td>\n",
       "                        <td id=\"T_5da2be02_a24b_11eb_b872_8a300d71569drow2_col8\" class=\"data row2 col8\" >0.667748</td>\n",
       "                        <td id=\"T_5da2be02_a24b_11eb_b872_8a300d71569drow2_col9\" class=\"data row2 col9\" >1.018326</td>\n",
       "                        <td id=\"T_5da2be02_a24b_11eb_b872_8a300d71569drow2_col10\" class=\"data row2 col10\" >0.141226</td>\n",
       "                        <td id=\"T_5da2be02_a24b_11eb_b872_8a300d71569drow2_col11\" class=\"data row2 col11\" >0.164247</td>\n",
       "                        <td id=\"T_5da2be02_a24b_11eb_b872_8a300d71569drow2_col12\" class=\"data row2 col12\" >0.455687</td>\n",
       "                        <td id=\"T_5da2be02_a24b_11eb_b872_8a300d71569drow2_col13\" class=\"data row2 col13\" >1.560666</td>\n",
       "                        <td id=\"T_5da2be02_a24b_11eb_b872_8a300d71569drow2_col14\" class=\"data row2 col14\" >2.379352</td>\n",
       "                        <td id=\"T_5da2be02_a24b_11eb_b872_8a300d71569drow2_col15\" class=\"data row2 col15\" >0.197712</td>\n",
       "                        <td id=\"T_5da2be02_a24b_11eb_b872_8a300d71569drow2_col16\" class=\"data row2 col16\" >0.273673</td>\n",
       "                        <td id=\"T_5da2be02_a24b_11eb_b872_8a300d71569drow2_col17\" class=\"data row2 col17\" >0.801086</td>\n",
       "                        <td id=\"T_5da2be02_a24b_11eb_b872_8a300d71569drow2_col18\" class=\"data row2 col18\" >3.409225</td>\n",
       "                        <td id=\"T_5da2be02_a24b_11eb_b872_8a300d71569drow2_col19\" class=\"data row2 col19\" >4.664023</td>\n",
       "                        <td id=\"T_5da2be02_a24b_11eb_b872_8a300d71569drow2_col20\" class=\"data row2 col20\" >0.332767</td>\n",
       "                        <td id=\"T_5da2be02_a24b_11eb_b872_8a300d71569drow2_col21\" class=\"data row2 col21\" >0.437150</td>\n",
       "                        <td id=\"T_5da2be02_a24b_11eb_b872_8a300d71569drow2_col22\" class=\"data row2 col22\" >1.662633</td>\n",
       "                        <td id=\"T_5da2be02_a24b_11eb_b872_8a300d71569drow2_col23\" class=\"data row2 col23\" >7.334406</td>\n",
       "                        <td id=\"T_5da2be02_a24b_11eb_b872_8a300d71569drow2_col24\" class=\"data row2 col24\" >9.769959</td>\n",
       "                        <td id=\"T_5da2be02_a24b_11eb_b872_8a300d71569drow2_col25\" class=\"data row2 col25\" >1.123052</td>\n",
       "                        <td id=\"T_5da2be02_a24b_11eb_b872_8a300d71569drow2_col26\" class=\"data row2 col26\" >1.701756</td>\n",
       "                        <td id=\"T_5da2be02_a24b_11eb_b872_8a300d71569drow2_col27\" class=\"data row2 col27\" >8.070428</td>\n",
       "                        <td id=\"T_5da2be02_a24b_11eb_b872_8a300d71569drow2_col28\" class=\"data row2 col28\" >29.769670</td>\n",
       "                        <td id=\"T_5da2be02_a24b_11eb_b872_8a300d71569drow2_col29\" class=\"data row2 col29\" >39.108263</td>\n",
       "            </tr>\n",
       "    </tbody></table>"
      ],
      "text/plain": [
       "<pandas.io.formats.style.Styler at 0x7ff546aba5e0>"
      ]
     },
     "execution_count": 13,
     "metadata": {},
     "output_type": "execute_result"
    }
   ],
   "source": [
    "# Highlight\n",
    "df_sequence_length.style.highlight_min(color = 'lightgreen', axis = 0)\n"
   ]
  },
  {
   "cell_type": "code",
   "execution_count": null,
   "metadata": {},
   "outputs": [],
   "source": []
  },
  {
   "cell_type": "code",
   "execution_count": 10,
   "metadata": {},
   "outputs": [
    {
     "data": {
      "text/html": [
       "<style  type=\"text/css\" >\n",
       "#T_90636898_a249_11eb_b872_8a300d71569drow0_col0,#T_90636898_a249_11eb_b872_8a300d71569drow0_col1,#T_90636898_a249_11eb_b872_8a300d71569drow0_col2,#T_90636898_a249_11eb_b872_8a300d71569drow0_col3,#T_90636898_a249_11eb_b872_8a300d71569drow0_col4,#T_90636898_a249_11eb_b872_8a300d71569drow0_col5,#T_90636898_a249_11eb_b872_8a300d71569drow0_col6,#T_90636898_a249_11eb_b872_8a300d71569drow0_col7,#T_90636898_a249_11eb_b872_8a300d71569drow0_col8,#T_90636898_a249_11eb_b872_8a300d71569drow0_col9{\n",
       "            background-color:  lightgreen;\n",
       "        }</style><table id=\"T_90636898_a249_11eb_b872_8a300d71569d\" ><thead>    <tr>        <th class=\"blank level0\" ></th>        <th class=\"col_heading level0 col0\" >4</th>        <th class=\"col_heading level0 col1\" colspan=2>16</th>        <th class=\"col_heading level0 col3\" colspan=2>32</th>        <th class=\"col_heading level0 col5\" >4</th>        <th class=\"col_heading level0 col6\" >8</th>        <th class=\"col_heading level0 col7\" >128</th>        <th class=\"col_heading level0 col8\" >4</th>        <th class=\"col_heading level0 col9\" >1</th>    </tr>    <tr>        <th class=\"blank level1\" ></th>        <th class=\"col_heading level1 col0\" >384</th>        <th class=\"col_heading level1 col1\" >512</th>        <th class=\"col_heading level1 col2\" >128</th>        <th class=\"col_heading level1 col3\" >32</th>        <th class=\"col_heading level1 col4\" >128</th>        <th class=\"col_heading level1 col5\" >32</th>        <th class=\"col_heading level1 col6\" >512</th>        <th class=\"col_heading level1 col7\" >384</th>        <th class=\"col_heading level1 col8\" >128</th>        <th class=\"col_heading level1 col9\" >128</th>    </tr></thead><tbody>\n",
       "                <tr>\n",
       "                        <th id=\"T_90636898_a249_11eb_b872_8a300d71569dlevel0_row0\" class=\"row_heading level0 row0\" >hf_pytorch</th>\n",
       "                        <td id=\"T_90636898_a249_11eb_b872_8a300d71569drow0_col0\" class=\"data row0 col0\" >0.561838</td>\n",
       "                        <td id=\"T_90636898_a249_11eb_b872_8a300d71569drow0_col1\" class=\"data row0 col1\" >2.717851</td>\n",
       "                        <td id=\"T_90636898_a249_11eb_b872_8a300d71569drow0_col2\" class=\"data row0 col2\" >0.430035</td>\n",
       "                        <td id=\"T_90636898_a249_11eb_b872_8a300d71569drow0_col3\" class=\"data row0 col3\" >0.225337</td>\n",
       "                        <td id=\"T_90636898_a249_11eb_b872_8a300d71569drow0_col4\" class=\"data row0 col4\" >0.780320</td>\n",
       "                        <td id=\"T_90636898_a249_11eb_b872_8a300d71569drow0_col5\" class=\"data row0 col5\" >0.090086</td>\n",
       "                        <td id=\"T_90636898_a249_11eb_b872_8a300d71569drow0_col6\" class=\"data row0 col6\" >1.339330</td>\n",
       "                        <td id=\"T_90636898_a249_11eb_b872_8a300d71569drow0_col7\" class=\"data row0 col7\" >17.052306</td>\n",
       "                        <td id=\"T_90636898_a249_11eb_b872_8a300d71569drow0_col8\" class=\"data row0 col8\" >0.221885</td>\n",
       "                        <td id=\"T_90636898_a249_11eb_b872_8a300d71569drow0_col9\" class=\"data row0 col9\" >0.115527</td>\n",
       "            </tr>\n",
       "            <tr>\n",
       "                        <th id=\"T_90636898_a249_11eb_b872_8a300d71569dlevel0_row1\" class=\"row_heading level0 row1\" >hf_tensorflow</th>\n",
       "                        <td id=\"T_90636898_a249_11eb_b872_8a300d71569drow1_col0\" class=\"data row1 col0\" >0.825850</td>\n",
       "                        <td id=\"T_90636898_a249_11eb_b872_8a300d71569drow1_col1\" class=\"data row1 col1\" >5.361637</td>\n",
       "                        <td id=\"T_90636898_a249_11eb_b872_8a300d71569drow1_col2\" class=\"data row1 col2\" >0.909299</td>\n",
       "                        <td id=\"T_90636898_a249_11eb_b872_8a300d71569drow1_col3\" class=\"data row1 col3\" >0.415937</td>\n",
       "                        <td id=\"T_90636898_a249_11eb_b872_8a300d71569drow1_col4\" class=\"data row1 col4\" >1.665048</td>\n",
       "                        <td id=\"T_90636898_a249_11eb_b872_8a300d71569drow1_col5\" class=\"data row1 col5\" >0.218258</td>\n",
       "                        <td id=\"T_90636898_a249_11eb_b872_8a300d71569drow1_col6\" class=\"data row1 col6\" >2.962817</td>\n",
       "                        <td id=\"T_90636898_a249_11eb_b872_8a300d71569drow1_col7\" class=\"data row1 col7\" >33.953956</td>\n",
       "                        <td id=\"T_90636898_a249_11eb_b872_8a300d71569drow1_col8\" class=\"data row1 col8\" >0.329903</td>\n",
       "                        <td id=\"T_90636898_a249_11eb_b872_8a300d71569drow1_col9\" class=\"data row1 col9\" >0.232298</td>\n",
       "            </tr>\n",
       "            <tr>\n",
       "                        <th id=\"T_90636898_a249_11eb_b872_8a300d71569dlevel0_row2\" class=\"row_heading level0 row2\" >tf_transformers_tensorflow</th>\n",
       "                        <td id=\"T_90636898_a249_11eb_b872_8a300d71569drow2_col0\" class=\"data row2 col0\" >0.675974</td>\n",
       "                        <td id=\"T_90636898_a249_11eb_b872_8a300d71569drow2_col1\" class=\"data row2 col1\" >4.667486</td>\n",
       "                        <td id=\"T_90636898_a249_11eb_b872_8a300d71569drow2_col2\" class=\"data row2 col2\" >0.800592</td>\n",
       "                        <td id=\"T_90636898_a249_11eb_b872_8a300d71569drow2_col3\" class=\"data row2 col3\" >0.438696</td>\n",
       "                        <td id=\"T_90636898_a249_11eb_b872_8a300d71569drow2_col4\" class=\"data row2 col4\" >1.851395</td>\n",
       "                        <td id=\"T_90636898_a249_11eb_b872_8a300d71569drow2_col5\" class=\"data row2 col5\" >0.131377</td>\n",
       "                        <td id=\"T_90636898_a249_11eb_b872_8a300d71569drow2_col6\" class=\"data row2 col6\" >2.457327</td>\n",
       "                        <td id=\"T_90636898_a249_11eb_b872_8a300d71569drow2_col7\" class=\"data row2 col7\" >30.076910</td>\n",
       "                        <td id=\"T_90636898_a249_11eb_b872_8a300d71569drow2_col8\" class=\"data row2 col8\" >0.470067</td>\n",
       "                        <td id=\"T_90636898_a249_11eb_b872_8a300d71569drow2_col9\" class=\"data row2 col9\" >0.129425</td>\n",
       "            </tr>\n",
       "    </tbody></table>"
      ],
      "text/plain": [
       "<pandas.io.formats.style.Styler at 0x7ff543af3580>"
      ]
     },
     "execution_count": 10,
     "metadata": {},
     "output_type": "execute_result"
    }
   ],
   "source": [
    "df_sequence_length.sample(n = 10, axis='columns').style.highlight_min(color = 'lightgreen', axis = 0)\n"
   ]
  },
  {
   "cell_type": "code",
   "execution_count": null,
   "metadata": {},
   "outputs": [],
   "source": []
  },
  {
   "cell_type": "markdown",
   "metadata": {},
   "source": [
    "# Find the count of index based on speed\n"
   ]
  },
  {
   "cell_type": "code",
   "execution_count": 14,
   "metadata": {},
   "outputs": [
    {
     "data": {
      "text/plain": [
       "hf_pytorch                    28\n",
       "tf_transformers_tensorflow     2\n",
       "dtype: int64"
      ]
     },
     "execution_count": 14,
     "metadata": {},
     "output_type": "execute_result"
    }
   ],
   "source": [
    "df_sequence_length.idxmin(axis=0).value_counts()"
   ]
  },
  {
   "cell_type": "code",
   "execution_count": 24,
   "metadata": {},
   "outputs": [],
   "source": [
    "df_smaller_batch_size = df_sequence_length[df_sequence_length.columns[:15]]"
   ]
  },
  {
   "cell_type": "markdown",
   "metadata": {},
   "source": [
    "# Greedy Visualize"
   ]
  },
  {
   "cell_type": "code",
   "execution_count": 25,
   "metadata": {},
   "outputs": [
    {
     "data": {
      "text/plain": [
       "Text(0, 0.5, 'Time in Seconds')"
      ]
     },
     "execution_count": 25,
     "metadata": {},
     "output_type": "execute_result"
    },
    {
     "data": {
      "image/png": "[encoded data removed]",
      "text/plain": [
       "<Figure size 1800x720 with 1 Axes>"
      ]
     },
     "metadata": {
      "needs_background": "light"
     },
     "output_type": "display_data"
    }
   ],
   "source": [
    "ax = df_smaller_batch_size.transpose().plot.bar(rot=1, figsize=(25,10))\n",
    "ax.set_xlabel(\"Batch - Sequence_Length\")\n",
    "ax.set_ylabel(\"Time in Seconds\")"
   ]
  },
  {
   "cell_type": "code",
   "execution_count": null,
   "metadata": {},
   "outputs": [],
   "source": []
  },
  {
   "cell_type": "code",
   "execution_count": 27,
   "metadata": {},
   "outputs": [
    {
     "data": {
      "text/plain": [
       "Text(0, 0.5, 'Time in Seconds')"
      ]
     },
     "execution_count": 27,
     "metadata": {},
     "output_type": "execute_result"
    },
    {
     "data": {
      "image/png": "[encoded data removed]",
      "text/plain": [
       "<Figure size 1800x720 with 1 Axes>"
      ]
     },
     "metadata": {
      "needs_background": "light"
     },
     "output_type": "display_data"
    }
   ],
   "source": [
    "df_larger_batch_size = df_sequence_length[df_sequence_length.columns[15:]]\n",
    "ax = df_larger_batch_size.transpose().plot.bar(rot=1, figsize=(25,10))\n",
    "ax.set_xlabel(\"Batch - Sequence_Length\")\n",
    "ax.set_ylabel(\"Time in Seconds\")"
   ]
  },
  {
   "cell_type": "code",
   "execution_count": null,
   "metadata": {},
   "outputs": [],
   "source": []
  }
 ],
 "metadata": {
  "kernelspec": {
   "display_name": "Python 3",
   "language": "python",
   "name": "python3"
  },
  "language_info": {
   "codemirror_mode": {
    "name": "ipython",
    "version": 3
   },
   "file_extension": ".py",
   "mimetype": "text/x-python",
   "name": "python",
   "nbconvert_exporter": "python",
   "pygments_lexer": "ipython3",
   "version": "3.8.6"
  }
 },
 "nbformat": 4,
 "nbformat_minor": 4
}
