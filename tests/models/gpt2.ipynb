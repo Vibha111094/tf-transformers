{
 "cells": [
  {
   "cell_type": "code",
   "execution_count": 1,
   "id": "7700d4b3",
   "metadata": {},
   "outputs": [],
   "source": [
    "# This notebook is intented to test, some of the\n",
    "# results validation of GPT2 model "
   ]
  },
  {
   "cell_type": "code",
   "execution_count": 2,
   "id": "d49e67ad",
   "metadata": {},
   "outputs": [],
   "source": [
    "import tensorflow as tf\n",
    "from tf_transformers.models.gpt2.gpt2_model import GPT2Model\n",
    "from transformers import GPT2Tokenizer\n"
   ]
  },
  {
   "cell_type": "code",
   "execution_count": 3,
   "id": "0aab8993",
   "metadata": {},
   "outputs": [],
   "source": []
  },
  {
   "cell_type": "code",
   "execution_count": 4,
   "id": "91b2afae",
   "metadata": {},
   "outputs": [],
   "source": [
    "model_name = 'gpt2'\n",
    "tokenizer = GPT2Tokenizer.from_pretrained(model_name)"
   ]
  },
  {
   "cell_type": "code",
   "execution_count": 5,
   "id": "0e95831e",
   "metadata": {},
   "outputs": [
    {
     "name": "stderr",
     "output_type": "stream",
     "text": [
      "INFO:absl:Successful: Converted model using PT HF\n",
      "INFO:absl:Successful: Saved model at /tmp/tf_transformers_cache/gpt2/ckpt-1\n",
      "INFO:absl:Successful: Asserted and Converted `gpt2` from HF and saved it in cache folder /tmp/tf_transformers_cache/gpt2\n"
     ]
    }
   ],
   "source": [
    "# Check PT HF conversion\n",
    "!rm -rf /tmp/tf_transformers_cache/gpt2/\n",
    "model_name = 'gpt2'\n",
    "model, conifg = GPT2Model.get_model(model_name=model_name, convert_fn_type='pt')"
   ]
  },
  {
   "cell_type": "code",
   "execution_count": null,
   "id": "86721bd4",
   "metadata": {},
   "outputs": [],
   "source": []
  },
  {
   "cell_type": "code",
   "execution_count": 5,
   "id": "aa1f9b7d",
   "metadata": {},
   "outputs": [
    {
     "name": "stderr",
     "output_type": "stream",
     "text": [
      "INFO:absl:Successful: Converted model using TF HF\n",
      "INFO:absl:Successful: Saved model at /tmp/tf_transformers_cache/gpt2/ckpt-1\n",
      "INFO:absl:Successful: Asserted and Converted `gpt2` from HF and saved it in cache folder /tmp/tf_transformers_cache/gpt2\n"
     ]
    }
   ],
   "source": [
    "# Check TF HF conversion\n",
    "!rm -rf /tmp/tf_transformers_cache/gpt2/\n",
    "model_name = 'gpt2'\n",
    "model, conifg = GPT2Model.get_model(model_name=model_name, convert_fn_type='tf')"
   ]
  },
  {
   "cell_type": "code",
   "execution_count": null,
   "id": "59c958c3",
   "metadata": {},
   "outputs": [],
   "source": []
  },
  {
   "cell_type": "code",
   "execution_count": 6,
   "id": "6c676bd4",
   "metadata": {},
   "outputs": [],
   "source": []
  },
  {
   "cell_type": "code",
   "execution_count": 9,
   "id": "09eb4986",
   "metadata": {},
   "outputs": [],
   "source": [
    "# Text generation without caching\n",
    "\n",
    "text = 'Sachin Tendulkar is one of the finest'\n",
    "inputs_tf = tokenizer(text, return_tensors='tf')\n",
    "inputs = {}\n",
    "inputs['input_ids'] = inputs_tf['input_ids']\n",
    "\n",
    "predictions_non_auto_regressive = []\n",
    "predictions_prob_non_auto_regressive = []\n",
    "\n",
    "for i in range(10):\n",
    "    outputs = model(inputs)\n",
    "    predicted_ids = tf.cast(tf.expand_dims(tf.argmax(outputs[\"last_token_logits\"], axis=1), 1), tf.int32)\n",
    "    inputs[\"input_ids\"] = tf.concat([inputs[\"input_ids\"], predicted_ids], axis=1)\n",
    "    predictions_non_auto_regressive.append(predicted_ids)\n",
    "    predictions_prob_non_auto_regressive.append(\n",
    "        tf.expand_dims(tf.reduce_max(outputs[\"last_token_logits\"], axis=1), 1)\n",
    "    )\n",
    "predictions_non_auto_regressive = tf.concat(predictions_non_auto_regressive, axis=1)\n",
    "predictions_prob_non_auto_regressive = tf.concat(predictions_prob_non_auto_regressive, axis=1)\n",
    "\n",
    "\n",
    "# Text generation with caching\n",
    "\n",
    "model, conifg = GPT2Model.get_model(model_name=model_name, use_auto_regressive=True)\n",
    "inputs_tf = tokenizer(text, return_tensors='tf')\n",
    "inputs = {}\n",
    "inputs['input_ids'] = inputs_tf['input_ids']\n",
    "\n",
    "seq_length = tf.shape(input_ids)[1]\n",
    "batch_size = tf.shape(input_ids)[0]\n",
    "\n",
    "inputs[\"all_cache_key\"] = tf.zeros((12, batch_size, 12, seq_length, 64))\n",
    "inputs[\"all_cache_value\"] = tf.zeros((12, batch_size, 12, seq_length, 64))\n",
    "inputs[\"past_length\"] = tf.zeros(shape=(1, batch_size), dtype=tf.int32)\n",
    "predictions_auto_regressive = []\n",
    "predictions_prob_auto_regressive = []\n",
    "\n",
    "past_lengths = []\n",
    "for i in range(10):\n",
    "    outputs = model(inputs)\n",
    "    predicted_ids = tf.cast(tf.expand_dims(tf.argmax(outputs[\"last_token_logits\"], axis=1), 1), tf.int32)\n",
    "    inputs[\"input_ids\"] = predicted_ids\n",
    "    inputs[\"all_cache_key\"] = outputs[\"all_cache_key\"]\n",
    "    inputs[\"all_cache_value\"] = outputs[\"all_cache_value\"]\n",
    "    inputs[\"past_length\"] = outputs[\"past_length\"]\n",
    "    past_lengths.append(inputs[\"past_length\"])\n",
    "    predictions_auto_regressive.append(predicted_ids)\n",
    "    predictions_prob_auto_regressive.append(\n",
    "        tf.expand_dims(tf.reduce_max(outputs[\"last_token_logits\"], axis=1), 1)\n",
    "    )\n",
    "predictions_auto_regressive = tf.concat(predictions_auto_regressive, axis=1)\n",
    "predictions_prob_auto_regressive = tf.concat(predictions_prob_auto_regressive, axis=1)\n",
    "\n",
    "tf.assert_equal(predictions_non_auto_regressive, predictions_auto_regressive)"
   ]
  },
  {
   "cell_type": "code",
   "execution_count": 14,
   "id": "8bf5e4e5",
   "metadata": {},
   "outputs": [],
   "source": []
  },
  {
   "cell_type": "code",
   "execution_count": 39,
   "id": "c611592c",
   "metadata": {},
   "outputs": [],
   "source": [
    "# Batch predictions (var len)\n",
    "\n",
    "text = ['Sachin Tendulkar is one of the finest', \n",
    "        'I love stars because']\n",
    "# Batching using -1 is must\n",
    "input_ids = tf.ragged.constant(tokenizer(text)['input_ids']).to_tensor(-1)\n",
    "inputs = {}\n",
    "inputs['input_ids'] = input_ids\n",
    "\n",
    "seq_length = tf.shape(input_ids)[1]\n",
    "batch_size = tf.shape(input_ids)[0]\n",
    "\n",
    "inputs[\"all_cache_key\"] = tf.zeros((12, batch_size, 12, seq_length, 64))\n",
    "inputs[\"all_cache_value\"] = tf.zeros((12, batch_size, 12, seq_length, 64))\n",
    "inputs[\"past_length\"] = tf.zeros(shape=(1, batch_size), dtype=tf.int32)\n",
    "predictions_auto_regressive = []\n",
    "predictions_prob_auto_regressive = []\n",
    "\n",
    "past_lengths = []\n",
    "for i in range(10):\n",
    "    outputs = model(inputs)\n",
    "    predicted_ids = tf.cast(tf.expand_dims(tf.argmax(outputs[\"last_token_logits\"], axis=1), 1), tf.int32)\n",
    "    \n",
    "    if i == 0:\n",
    "        masks = tf.cast(tf.not_equal(input_ids, -1), tf.float32)\n",
    "        masks = tf.reshape(\n",
    "            masks,\n",
    "            (1, batch_size, 1, seq_length, 1),\n",
    "        )\n",
    "        outputs[\"all_cache_key\"]   = outputs[\"all_cache_key\"]   * masks\n",
    "        outputs[\"all_cache_value\"] = outputs[\"all_cache_value\"] * masks\n",
    "        \n",
    "    inputs[\"input_ids\"] = predicted_ids\n",
    "    inputs[\"all_cache_key\"] = outputs[\"all_cache_key\"]\n",
    "    inputs[\"all_cache_value\"] = outputs[\"all_cache_value\"]\n",
    "    inputs[\"past_length\"] = outputs[\"past_length\"]\n",
    "    past_lengths.append(inputs[\"past_length\"])\n",
    "    predictions_auto_regressive.append(predicted_ids)\n",
    "    predictions_prob_auto_regressive.append(\n",
    "        tf.expand_dims(tf.reduce_max(outputs[\"last_token_logits\"], axis=1), 1)\n",
    "    )\n",
    "    \n",
    "    \n",
    "predictions_auto_regressive = tf.concat(predictions_auto_regressive, axis=1)\n",
    "predictions_prob_auto_regressive = tf.concat(predictions_prob_auto_regressive, axis=1)\n",
    "expected_ids = [[1938, 287, 262, 995, 13, 679, 318, 257, 845, 922],\n",
    "                 [484, 821, 523, 881, 517, 621, 655, 257, 3491, 13]]\n",
    "np.allclose(predictions_auto_regressive.numpy().tolist(), expected_ids)"
   ]
  },
  {
   "cell_type": "code",
   "execution_count": null,
   "id": "aad2aa80",
   "metadata": {},
   "outputs": [],
   "source": []
  },
  {
   "cell_type": "code",
   "execution_count": null,
   "id": "b801ef6b",
   "metadata": {},
   "outputs": [],
   "source": [
    "# Text generation using saved_model with TextDecoder\n",
    "\n",
    "import tempfile\n",
    "import shutil\n",
    "from tf_transformers.text import TextDecoder\n",
    "\n",
    "text = ['Sachin Tendulkar is one of the finest', \n",
    "        'I love stars because']\n",
    "\n",
    "saved_model_dir = tempfile.mkdtemp()\n",
    "model.save_as_serialize_module(saved_model_dir, overwrite=True)\n",
    "\n",
    "loaded   = tf.saved_model.load(saved_model_dir)\n",
    "decoder  = TextDecoder(\n",
    "    model = loaded\n",
    ")\n",
    "\n",
    "# -1 batch\n",
    "input_ids = tf.ragged.constant(tokenizer(text)['input_ids']).to_tensor(-1)\n",
    "inputs = {}\n",
    "inputs['input_ids'] = input_ids\n",
    "\n",
    "decoder_results = decoder.decode(inputs, \n",
    "               mode='greedy', \n",
    "               max_iterations=10, \n",
    "               eos_id=-100)\n",
    "expected_ids = [[1938, 287, 262, 995, 13, 679, 318, 257, 845, 922],\n",
    "                 [484, 821, 523, 881, 517, 621, 655, 257, 3491, 13]]\n",
    "np.allclose(decoder_results['predicted_ids'].numpy().tolist(), \n",
    "           expected_ids)"
   ]
  },
  {
   "cell_type": "code",
   "execution_count": null,
   "id": "240d60ac",
   "metadata": {},
   "outputs": [],
   "source": []
  },
  {
   "cell_type": "code",
   "execution_count": 31,
   "id": "f63fc421",
   "metadata": {},
   "outputs": [],
   "source": [
    "# Text generation using saved_model with TextDecoderSerializable\n",
    "\n",
    "import tempfile\n",
    "import shutil\n",
    "from tf_transformers.text import TextDecoderSerializable\n",
    "\n",
    "text = ['Sachin Tendulkar is one of the finest', \n",
    "        'I love stars because']\n",
    "\n",
    "saved_model_dir = tempfile.mkdtemp()\n",
    "model.save_as_serialize_module(saved_model_dir, overwrite=True)\n",
    "\n",
    "loaded   = tf.saved_model.load(saved_model_dir)\n",
    "decoder  = TextDecoderSerializable(\n",
    "    model = model,\n",
    "    max_iterations=10,\n",
    "    mode=\"greedy\",\n",
    "    do_sample=False,\n",
    "    eos_id=-100\n",
    ")\n",
    "\n",
    "# Save\n",
    "decoder_model = decoder.get_model()\n",
    "decoder_model.save_serialized(saved_model_dir, overwrite=True)\n",
    "\n",
    "# Load\n",
    "loaded_decoder   = tf.saved_model.load(saved_model_dir)\n",
    "model_pb_decoder = loaded_decoder.signatures['serving_default']\n",
    "\n",
    "# -1 batch\n",
    "input_ids = tf.ragged.constant(tokenizer(text)['input_ids']).to_tensor(-1)\n",
    "inputs = {}\n",
    "inputs['input_ids'] = input_ids\n",
    "\n",
    "decoder_results_serialized = model_pb_decoder(**inputs)\n",
    "expected_ids = [[[1938, 287, 262, 995, 13, 679, 318, 257, 845, 922]],\n",
    "               [[484, 821, 523, 881, 517, 621, 655, 257, 3491, 13]]]\n",
    "np.allclose(decoder_results_serialized['predicted_ids'].numpy().tolist(), \n",
    "           expected_ids)"
   ]
  },
  {
   "cell_type": "code",
   "execution_count": null,
   "id": "2486ad49",
   "metadata": {},
   "outputs": [],
   "source": []
  }
 ],
 "metadata": {
  "kernelspec": {
   "display_name": "Python 3",
   "language": "python",
   "name": "python3"
  },
  "language_info": {
   "codemirror_mode": {
    "name": "ipython",
    "version": 3
   },
   "file_extension": ".py",
   "mimetype": "text/x-python",
   "name": "python",
   "nbconvert_exporter": "python",
   "pygments_lexer": "ipython3",
   "version": "3.8.8"
  }
 },
 "nbformat": 4,
 "nbformat_minor": 5
}
