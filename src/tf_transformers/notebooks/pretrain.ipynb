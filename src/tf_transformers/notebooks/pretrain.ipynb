{
 "cells": [
  {
   "cell_type": "code",
   "execution_count": null,
   "id": "f454a047",
   "metadata": {},
   "outputs": [],
   "source": []
  },
  {
   "cell_type": "code",
   "execution_count": null,
   "id": "86807b41",
   "metadata": {},
   "outputs": [],
   "source": [
    "# Collect dataset \n",
    "\n",
    "from datasets import load_dataset\n",
    "\n",
    "dataset = load_dataset(\"wikipedia\", \"20200501.en\")\n",
    "\n"
   ]
  },
  {
   "cell_type": "code",
   "execution_count": null,
   "id": "5645a822",
   "metadata": {},
   "outputs": [],
   "source": [
    "import tqdm\n",
    "def hf_dump_chars_to_textfile(\n",
    "                           file,\n",
    "                           dataset,\n",
    "                           data_keys,\n",
    "                           max_char=-1):\n",
    "  \"\"\"Write part of a TFDS sentence dataset to lines in a text file.\n",
    "\n",
    "  Args:\n",
    "    dataset: tf.dataset containing string-data.\n",
    "    data_keys: what keys in dataset to dump from.\n",
    "    max_char: max character to dump to text file.\n",
    "\n",
    "  Returns:\n",
    "    name of temp file with dataset bytes, exact number of characters dumped.\n",
    "  \"\"\"\n",
    "  line_count = 0\n",
    "  with open(file, \"a+\") as outfp:\n",
    "    char_count = 0\n",
    "    for example in tqdm.tqdm(dataset):\n",
    "      for k in data_keys:\n",
    "        line = example[k] + \"\\n\"\n",
    "        char_count += len(line)\n",
    "        line_count += 1\n",
    "        outfp.write(line)\n",
    "    if line_count % 100000 == 0:\n",
    "        print(\"Done {} / {}\".format(line_count, total_count)) # wiki count\n",
    "  print(\"Total lines {}, chars {}\".format(line_count, char_count))\n",
    "\n",
    "total_count = 6078422\n",
    "hf_dump_chars_to_textfile(\n",
    "    \"DATA/wikipedia.txt\",\n",
    "    dataset[\"train\"],\n",
    "    (\"text\",))"
   ]
  },
  {
   "cell_type": "code",
   "execution_count": null,
   "id": "9398aee9",
   "metadata": {},
   "outputs": [],
   "source": []
  },
  {
   "cell_type": "code",
   "execution_count": null,
   "id": "d8d4edba",
   "metadata": {},
   "outputs": [],
   "source": [
    "### Train Sentencepiece tokenizer (Albert)\n",
    "\n",
    "import sentencepiece as spm\n",
    "spm.SentencePieceTrainer.train(input='DATA/wikipedia.txt',\n",
    "                               model_prefix='bert-joint',\n",
    "                               vocab_size=32000,\n",
    "                               pad_id=0,\n",
    "                               unk_id=1,\n",
    "                               bos_id=-1,\n",
    "                               user_defined_symbols=['(', ')', '\"', '-', '.', '–', '£', '€'],\n",
    "                               control_symbols=['[CLS]','[SEP]','[MASK]'],\n",
    "                               shuffle_input_sentence=True,\n",
    "                               input_sentence_size=10000000,\n",
    "                               character_coverage=0.99995,\n",
    "                               model_type='unigram')"
   ]
  },
  {
   "cell_type": "code",
   "execution_count": null,
   "id": "72feb99f",
   "metadata": {},
   "outputs": [],
   "source": []
  }
 ],
 "metadata": {
  "kernelspec": {
   "display_name": "Python 3",
   "language": "python",
   "name": "python3"
  },
  "language_info": {
   "codemirror_mode": {
    "name": "ipython",
    "version": 3
   },
   "file_extension": ".py",
   "mimetype": "text/x-python",
   "name": "python",
   "nbconvert_exporter": "python",
   "pygments_lexer": "ipython3",
   "version": "3.8.8"
  }
 },
 "nbformat": 4,
 "nbformat_minor": 5
}
