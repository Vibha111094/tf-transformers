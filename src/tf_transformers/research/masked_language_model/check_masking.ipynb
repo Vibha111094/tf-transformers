{
 "cells": [
  {
   "cell_type": "code",
   "execution_count": 1,
   "id": "ead32fe9",
   "metadata": {},
   "outputs": [],
   "source": [
    "import sys\n",
    "sys.path.append(\"/home/sidhu/Projects/tf-transformers/src/\")"
   ]
  },
  {
   "cell_type": "code",
   "execution_count": 2,
   "id": "34dbf339",
   "metadata": {},
   "outputs": [],
   "source": [
    "from tf_transformers.data import TFWriter, TFReader, TFProcessor"
   ]
  },
  {
   "cell_type": "code",
   "execution_count": 3,
   "id": "0ac3dbd5",
   "metadata": {},
   "outputs": [],
   "source": [
    "import tensorflow as tf\n",
    "from tf_transformers.layers.mask import SelfAttentionMask"
   ]
  },
  {
   "cell_type": "code",
   "execution_count": null,
   "id": "3b51a0d0",
   "metadata": {},
   "outputs": [],
   "source": []
  },
  {
   "cell_type": "code",
   "execution_count": 4,
   "id": "17f65c6d",
   "metadata": {},
   "outputs": [
    {
     "name": "stderr",
     "output_type": "stream",
     "text": [
      "INFO:absl:Total individual observations/examples written is 1000 in 0.7124912738800049 seconds\n",
      "INFO:absl:All writer objects closed\n"
     ]
    }
   ],
   "source": [
    "# Create dummy tfrecord\n",
    "\n",
    "def parse_train():\n",
    "    for i in range(1000):\n",
    "        random_length = tf.random.uniform(minval=10, maxval=128, shape=(1,), dtype=tf.int32)[0]\n",
    "        vector = tf.random.uniform(minval=0, maxval=10000,shape=(random_length,), dtype=tf.int32)\n",
    "        vector = vector.numpy().tolist()\n",
    "        yield {\"input_ids\": vector}\n",
    "    \n",
    "    \n",
    "schema = {\n",
    "    \"input_ids\": (\"var_len\", \"int\"),\n",
    "}\n",
    "\n",
    "tfrecord_train_dir = 'tfrecord_dummy'\n",
    "tfrecord_filename = 'dummy'\n",
    "tfwriter = TFWriter(schema=schema, \n",
    "                    file_name=tfrecord_filename, \n",
    "                    model_dir=tfrecord_train_dir,\n",
    "                    tag='train',\n",
    "                    n_files=1,\n",
    "                    overwrite=True\n",
    "                    )\n",
    "# Process\n",
    "tfwriter.process(parse_fn=parse_train())\n"
   ]
  },
  {
   "cell_type": "code",
   "execution_count": null,
   "id": "d58dc237",
   "metadata": {},
   "outputs": [],
   "source": []
  },
  {
   "cell_type": "code",
   "execution_count": 5,
   "id": "0c3ed11f",
   "metadata": {},
   "outputs": [],
   "source": [
    "# Read tfrecord\n",
    "import glob\n",
    "def get_tfdataset_from_tfrecords(tfrecord_path_list):\n",
    "    \"\"\"Get tf dataset from tfrecords\"\"\"\n",
    "    all_files = []\n",
    "    for tfrecord_path in tfrecord_path_list:\n",
    "        all_files.extend(glob.glob(\"{}/*.tfrecord\".format(tfrecord_path)))\n",
    "    schema    = json.load(open(\"{}/schema.json\".format(tfrecord_path)))\n",
    "    tf_reader = TFReader(schema=schema, \n",
    "                        tfrecord_files=all_files)\n",
    "    train_dataset = tf_reader.read_record(\n",
    "                                      )\n",
    "    return train_dataset\n",
    "\n",
    "dataset = get_tfdataset_from_tfrecords([tfrecord_train_dir])"
   ]
  },
  {
   "cell_type": "code",
   "execution_count": null,
   "id": "6d8c22d5",
   "metadata": {},
   "outputs": [],
   "source": []
  },
  {
   "cell_type": "code",
   "execution_count": 6,
   "id": "66aeaa1d",
   "metadata": {},
   "outputs": [
    {
     "name": "stdout",
     "output_type": "stream",
     "text": [
      "{'input_ids': <tf.Tensor: shape=(22,), dtype=int32, numpy=\n",
      "array([2292, 9249, 1818, 8795, 1841, 2282, 1352, 8085, 9466, 7381, 7992,\n",
      "       5334, 9255, 8633,   25, 1242, 7332, 3498, 3038, 4843, 3807, 9422],\n",
      "      dtype=int32)>}\n"
     ]
    }
   ],
   "source": [
    "for item in dataset:\n",
    "    print(item)\n",
    "    break"
   ]
  },
  {
   "cell_type": "code",
   "execution_count": 7,
   "id": "ee5cea15",
   "metadata": {},
   "outputs": [],
   "source": [
    "from tf_transformers.layers.mask import prefix_mask\n",
    "from tf_transformers.data.utils import auto_batch"
   ]
  },
  {
   "cell_type": "code",
   "execution_count": 8,
   "id": "08b814ab",
   "metadata": {},
   "outputs": [],
   "source": [
    "MAX_SENTENCE = 128\n",
    "\n",
    "def map_prefix(item):\n",
    "    input_ids = item['input_ids']\n",
    "    input_max_length = tf.shape(input_ids)[0]\n",
    "    sentence_length = tf.random.uniform(minval=1, maxval=input_max_length, shape=(1,), dtype=tf.int32)[0]\n",
    "    remaining_length = input_max_length - sentence_length\n",
    "    input_mask = tf.concat([tf.ones(shape=(sentence_length,), dtype=tf.int32),\n",
    "               tf.zeros(shape=(remaining_length,), dtype=tf.int32)], axis=0)\n",
    "    input_type_ids = tf.zeros_like(input_ids)\n",
    "    mask = prefix_mask(input_mask)\n",
    "    result = {'input_ids': input_ids,\n",
    "              'input_mask': input_mask, \n",
    "              'input_type_ids': input_type_ids, \n",
    "              'mask': mask}\n",
    "    return result"
   ]
  },
  {
   "cell_type": "code",
   "execution_count": null,
   "id": "48e54ce4",
   "metadata": {},
   "outputs": [],
   "source": []
  },
  {
   "cell_type": "code",
   "execution_count": null,
   "id": "44579ad4",
   "metadata": {},
   "outputs": [],
   "source": []
  },
  {
   "cell_type": "code",
   "execution_count": 12,
   "id": "6db8f81d",
   "metadata": {},
   "outputs": [],
   "source": [
    "def auto_batch(\n",
    "    tf_dataset,\n",
    "    batch_size,\n",
    "    padded_values=None,\n",
    "    padded_shapes=None,\n",
    "    x_keys=None,\n",
    "    y_keys=None,\n",
    "    shuffle=False,\n",
    "    drop_remainder=True,\n",
    "    shuffle_buffer_size=100,\n",
    "    prefetch_buffer_size=100,\n",
    "):\n",
    "    \"\"\"Auto Batching\n",
    "\n",
    "    Args:\n",
    "        tf_dataset (tf.data.Dataset): TF dataset\n",
    "        batch_size (int): Batch Size\n",
    "        padded_values (dict): dict of key to padded values eg: {'key': tf.constant(0)}\n",
    "        padded_shapes (dict): dict of key to padded shapes eg: 'key': (None,)}\n",
    "        x_keys (list): List of key names. We will filter based on this.\n",
    "        y_keys (list): List of key names.\n",
    "        shuffle (bool):  Defaults to False.\n",
    "        shuffle_buffer_size (int):  Defaults to 100.\n",
    "        prefetch_buffer_size (int): Defaults to 100.\n",
    "\n",
    "    Returns:\n",
    "        tf.data.Dataset: Batched\n",
    "    \"\"\"\n",
    "    element_spec = tf_dataset.element_spec\n",
    "    _padded_values = {}\n",
    "    if not padded_values:\n",
    "        padded_values = {}\n",
    "    if not padded_shapes:\n",
    "        padded_shapes = {}\n",
    "    # sometimes we might have to have sme custom values other than 0\n",
    "    for k, v in element_spec.items():\n",
    "        if k in padded_values:\n",
    "            value = padded_values[k]\n",
    "            _padded_values[k] = tf.constant(value, dtype=value.dtype)\n",
    "        else:\n",
    "            if v.dtype == tf.string:\n",
    "                _padded_values[k] = tf.constant(\"0\", dtype=v.dtype)\n",
    "                continue\n",
    "\n",
    "            _padded_values[k] = tf.constant(0, dtype=v.dtype)\n",
    "\n",
    "    _padded_shapes = {}\n",
    "    for k, v in element_spec.items():\n",
    "        if k in padded_shapes:\n",
    "            _padded_shapes[k] = padded_shapes[k]\n",
    "        else:\n",
    "            if len(v.shape.dims) == 1:\n",
    "                _padded_shapes[k] = [None]\n",
    "            if len(v.shape.dims) == 0:\n",
    "                _padded_shapes[k] = []\n",
    "            if len(v.shape.dims) == 2:\n",
    "                _padded_shapes[k] = [None, None]\n",
    "                #raise ValueError(\"Seems like `{}` has 2 dimensional or more\".format(v))\n",
    "\n",
    "    dataset = tf_dataset.padded_batch(\n",
    "        padding_values=_padded_values,\n",
    "        padded_shapes=_padded_shapes,\n",
    "        batch_size=batch_size,\n",
    "        drop_remainder=drop_remainder,\n",
    "    )\n",
    "    # fmt: off\n",
    "    if x_keys and y_keys:\n",
    "        dataset = dataset.map(lambda x: separate_x_y(x, x_keys, y_keys), num_parallel_calls=tf.data.experimental.AUTOTUNE)  # noqa\n",
    "    # fmt: on\n",
    "    if shuffle:\n",
    "        dataset = dataset.shuffle(shuffle_buffer_size, seed=None, reshuffle_each_iteration=True)\n",
    "    dataset = dataset.prefetch(tf.data.experimental.AUTOTUNE)\n",
    "    return dataset"
   ]
  },
  {
   "cell_type": "code",
   "execution_count": 13,
   "id": "3890aff0",
   "metadata": {},
   "outputs": [],
   "source": [
    "dataset_prefix = dataset.map(map_prefix)\n",
    "#dataset_prefix = dataset_prefix.padded_batch(5)\n",
    "dataset_prefix = auto_batch(dataset_prefix, batch_size=5, shuffle=True)"
   ]
  },
  {
   "cell_type": "code",
   "execution_count": 14,
   "id": "cf473920",
   "metadata": {},
   "outputs": [
    {
     "name": "stdout",
     "output_type": "stream",
     "text": [
      "{'input_ids': <tf.Tensor: shape=(5, 120), dtype=int32, numpy=\n",
      "array([[9808, 4668, 9839, 1249, 4103, 5220, 9767, 2588, 3824, 3537, 7871,\n",
      "        7590, 2892, 6575, 8490, 9166, 2834, 1114, 9205, 4033, 8614, 7614,\n",
      "        3605, 6878,  363, 2153, 3995, 2337,  100, 3501, 9182, 9450, 2711,\n",
      "          44, 1613, 5636, 5972, 5342, 9577, 7488,    0,    0,    0,    0,\n",
      "           0,    0,    0,    0,    0,    0,    0,    0,    0,    0,    0,\n",
      "           0,    0,    0,    0,    0,    0,    0,    0,    0,    0,    0,\n",
      "           0,    0,    0,    0,    0,    0,    0,    0,    0,    0,    0,\n",
      "           0,    0,    0,    0,    0,    0,    0,    0,    0,    0,    0,\n",
      "           0,    0,    0,    0,    0,    0,    0,    0,    0,    0,    0,\n",
      "           0,    0,    0,    0,    0,    0,    0,    0,    0,    0,    0,\n",
      "           0,    0,    0,    0,    0,    0,    0,    0,    0,    0],\n",
      "       [2653, 5191, 7848, 8146, 4583,  111, 6211,  827, 4844, 1824, 2152,\n",
      "        5322, 3737, 3396, 9301, 6472, 7964, 9421, 3076, 8639, 6236, 6809,\n",
      "        3659, 1218, 9404, 3407, 6718, 1847, 9448, 7749, 3448, 5241,  133,\n",
      "        6465, 8920, 3659, 6503, 3459, 1548, 5861, 4507, 1868, 6976, 7211,\n",
      "        6975, 4661, 2074, 4208, 4175, 8419, 4335,  247, 4115, 9556, 6373,\n",
      "        2520, 2259, 5131, 4387,  562, 2655, 1781, 1870, 8188, 4387, 5081,\n",
      "        8022, 7869, 8154, 4584, 2630, 5386, 7724, 1711, 1671, 9199, 2015,\n",
      "         902, 7637, 6279, 5894, 4167, 3686, 4210, 3314, 9737, 6764, 4013,\n",
      "        3471, 4932, 7524,    0,    0,    0,    0,    0,    0,    0,    0,\n",
      "           0,    0,    0,    0,    0,    0,    0,    0,    0,    0,    0,\n",
      "           0,    0,    0,    0,    0,    0,    0,    0,    0,    0],\n",
      "       [5725, 1262, 7645, 7905, 8120, 8784, 7240, 1711, 2850, 9187, 5879,\n",
      "        1006, 5827, 5373, 8136, 6366, 2684,  664, 1179, 4389, 8506, 7733,\n",
      "        4214, 6624, 1336,  319, 6083, 3804,  246, 5179, 9366, 1625, 6476,\n",
      "        8997, 8778, 2854,  182, 5396,  660, 9491, 1580,   17, 8808, 3804,\n",
      "        6270, 8663, 4975, 2781, 5176, 5127, 3559, 4952,  753, 5189, 2459,\n",
      "        9413, 7327, 3939, 3582, 1391, 3937, 2443,  478, 7258, 1393,  410,\n",
      "        7091,  186, 6463, 4773, 9548, 1640, 5419, 9393, 3541, 1710, 9552,\n",
      "        6411, 6598, 4566, 7659, 3741,  433,    0,    0,    0,    0,    0,\n",
      "           0,    0,    0,    0,    0,    0,    0,    0,    0,    0,    0,\n",
      "           0,    0,    0,    0,    0,    0,    0,    0,    0,    0,    0,\n",
      "           0,    0,    0,    0,    0,    0,    0,    0,    0,    0],\n",
      "       [5537, 8432, 1271, 2239, 5533, 8351, 9937, 9060, 4554, 5055,  492,\n",
      "        9479, 3595,  645, 6274, 1774,  569, 5556, 9910, 4047,  952, 5187,\n",
      "        5636, 2323, 2821, 4579, 7092, 8554, 7601, 2573, 6985, 5721, 4775,\n",
      "        2230,  895, 5445, 9823,   62, 7839, 7088, 5165, 2132, 3967, 2729,\n",
      "        1876, 4265,  195, 3784, 8199, 1640, 1375, 7910,  646, 2377, 8355,\n",
      "        6235, 2402, 7203, 4296, 3025, 3964, 6076, 9941, 4169, 2559, 5049,\n",
      "        2688, 8721, 4368, 7932, 4934, 8535,  619, 8846, 1052, 2828, 1095,\n",
      "        6183,  285, 4593, 8244, 6102, 8483, 3539, 2106, 1739, 7172, 7806,\n",
      "        9706, 4917, 6393, 6902, 6179, 7552, 9786, 6365, 9666, 8152, 5120,\n",
      "        1418, 4966, 2557, 6220, 8971,  155, 8868,  193, 3427, 7917, 5722,\n",
      "        2661, 1541, 5116,  831, 8966, 9420, 7891, 8119, 2345, 2565],\n",
      "       [8042, 4094, 4490, 7603, 8551, 9851, 6699,  111, 9233, 3566, 6327,\n",
      "        1516, 9351, 2986, 1942, 2007, 1518, 2807, 1171, 5413, 7526, 2384,\n",
      "        1992, 2316, 1881, 5320, 6451, 4806, 6861, 6197, 7738, 8352, 8153,\n",
      "        9702, 1224, 2212, 4906, 8517, 6688, 1946, 7147, 3418, 5996, 5578,\n",
      "        9287, 4318, 9661, 2762, 7631,  665, 6302,    0,    0,    0,    0,\n",
      "           0,    0,    0,    0,    0,    0,    0,    0,    0,    0,    0,\n",
      "           0,    0,    0,    0,    0,    0,    0,    0,    0,    0,    0,\n",
      "           0,    0,    0,    0,    0,    0,    0,    0,    0,    0,    0,\n",
      "           0,    0,    0,    0,    0,    0,    0,    0,    0,    0,    0,\n",
      "           0,    0,    0,    0,    0,    0,    0,    0,    0,    0,    0,\n",
      "           0,    0,    0,    0,    0,    0,    0,    0,    0,    0]],\n",
      "      dtype=int32)>, 'input_mask': <tf.Tensor: shape=(5, 120), dtype=int32, numpy=\n",
      "array([[1, 1, 1, 1, 1, 1, 1, 1, 1, 1, 1, 1, 1, 1, 1, 1, 1, 1, 1, 1, 1, 1,\n",
      "        1, 1, 1, 1, 1, 1, 1, 0, 0, 0, 0, 0, 0, 0, 0, 0, 0, 0, 0, 0, 0, 0,\n",
      "        0, 0, 0, 0, 0, 0, 0, 0, 0, 0, 0, 0, 0, 0, 0, 0, 0, 0, 0, 0, 0, 0,\n",
      "        0, 0, 0, 0, 0, 0, 0, 0, 0, 0, 0, 0, 0, 0, 0, 0, 0, 0, 0, 0, 0, 0,\n",
      "        0, 0, 0, 0, 0, 0, 0, 0, 0, 0, 0, 0, 0, 0, 0, 0, 0, 0, 0, 0, 0, 0,\n",
      "        0, 0, 0, 0, 0, 0, 0, 0, 0, 0],\n",
      "       [1, 1, 1, 1, 1, 1, 1, 1, 1, 1, 1, 1, 1, 1, 0, 0, 0, 0, 0, 0, 0, 0,\n",
      "        0, 0, 0, 0, 0, 0, 0, 0, 0, 0, 0, 0, 0, 0, 0, 0, 0, 0, 0, 0, 0, 0,\n",
      "        0, 0, 0, 0, 0, 0, 0, 0, 0, 0, 0, 0, 0, 0, 0, 0, 0, 0, 0, 0, 0, 0,\n",
      "        0, 0, 0, 0, 0, 0, 0, 0, 0, 0, 0, 0, 0, 0, 0, 0, 0, 0, 0, 0, 0, 0,\n",
      "        0, 0, 0, 0, 0, 0, 0, 0, 0, 0, 0, 0, 0, 0, 0, 0, 0, 0, 0, 0, 0, 0,\n",
      "        0, 0, 0, 0, 0, 0, 0, 0, 0, 0],\n",
      "       [1, 1, 1, 1, 1, 1, 1, 1, 1, 1, 1, 1, 1, 1, 1, 1, 1, 1, 1, 1, 1, 1,\n",
      "        1, 1, 1, 1, 1, 1, 1, 1, 1, 1, 1, 1, 1, 1, 1, 1, 1, 1, 1, 1, 1, 1,\n",
      "        1, 1, 1, 1, 1, 1, 1, 1, 1, 1, 1, 1, 1, 1, 1, 1, 1, 1, 0, 0, 0, 0,\n",
      "        0, 0, 0, 0, 0, 0, 0, 0, 0, 0, 0, 0, 0, 0, 0, 0, 0, 0, 0, 0, 0, 0,\n",
      "        0, 0, 0, 0, 0, 0, 0, 0, 0, 0, 0, 0, 0, 0, 0, 0, 0, 0, 0, 0, 0, 0,\n",
      "        0, 0, 0, 0, 0, 0, 0, 0, 0, 0],\n",
      "       [1, 1, 1, 1, 1, 1, 1, 1, 1, 1, 1, 1, 1, 1, 1, 1, 1, 1, 1, 1, 1, 1,\n",
      "        1, 1, 1, 1, 1, 1, 1, 1, 1, 1, 1, 1, 1, 1, 1, 1, 1, 1, 1, 1, 1, 1,\n",
      "        1, 1, 1, 1, 1, 1, 1, 1, 1, 1, 1, 1, 1, 1, 1, 1, 1, 1, 1, 1, 1, 1,\n",
      "        1, 1, 1, 1, 1, 1, 1, 1, 1, 1, 1, 1, 1, 1, 1, 1, 1, 1, 1, 1, 1, 1,\n",
      "        1, 0, 0, 0, 0, 0, 0, 0, 0, 0, 0, 0, 0, 0, 0, 0, 0, 0, 0, 0, 0, 0,\n",
      "        0, 0, 0, 0, 0, 0, 0, 0, 0, 0],\n",
      "       [1, 1, 1, 1, 1, 1, 1, 1, 1, 1, 1, 1, 1, 1, 1, 1, 1, 1, 1, 1, 1, 1,\n",
      "        1, 1, 1, 1, 1, 1, 1, 1, 0, 0, 0, 0, 0, 0, 0, 0, 0, 0, 0, 0, 0, 0,\n",
      "        0, 0, 0, 0, 0, 0, 0, 0, 0, 0, 0, 0, 0, 0, 0, 0, 0, 0, 0, 0, 0, 0,\n",
      "        0, 0, 0, 0, 0, 0, 0, 0, 0, 0, 0, 0, 0, 0, 0, 0, 0, 0, 0, 0, 0, 0,\n",
      "        0, 0, 0, 0, 0, 0, 0, 0, 0, 0, 0, 0, 0, 0, 0, 0, 0, 0, 0, 0, 0, 0,\n",
      "        0, 0, 0, 0, 0, 0, 0, 0, 0, 0]], dtype=int32)>, 'input_type_ids': <tf.Tensor: shape=(5, 120), dtype=int32, numpy=\n",
      "array([[0, 0, 0, 0, 0, 0, 0, 0, 0, 0, 0, 0, 0, 0, 0, 0, 0, 0, 0, 0, 0, 0,\n",
      "        0, 0, 0, 0, 0, 0, 0, 0, 0, 0, 0, 0, 0, 0, 0, 0, 0, 0, 0, 0, 0, 0,\n",
      "        0, 0, 0, 0, 0, 0, 0, 0, 0, 0, 0, 0, 0, 0, 0, 0, 0, 0, 0, 0, 0, 0,\n",
      "        0, 0, 0, 0, 0, 0, 0, 0, 0, 0, 0, 0, 0, 0, 0, 0, 0, 0, 0, 0, 0, 0,\n",
      "        0, 0, 0, 0, 0, 0, 0, 0, 0, 0, 0, 0, 0, 0, 0, 0, 0, 0, 0, 0, 0, 0,\n",
      "        0, 0, 0, 0, 0, 0, 0, 0, 0, 0],\n",
      "       [0, 0, 0, 0, 0, 0, 0, 0, 0, 0, 0, 0, 0, 0, 0, 0, 0, 0, 0, 0, 0, 0,\n",
      "        0, 0, 0, 0, 0, 0, 0, 0, 0, 0, 0, 0, 0, 0, 0, 0, 0, 0, 0, 0, 0, 0,\n",
      "        0, 0, 0, 0, 0, 0, 0, 0, 0, 0, 0, 0, 0, 0, 0, 0, 0, 0, 0, 0, 0, 0,\n",
      "        0, 0, 0, 0, 0, 0, 0, 0, 0, 0, 0, 0, 0, 0, 0, 0, 0, 0, 0, 0, 0, 0,\n",
      "        0, 0, 0, 0, 0, 0, 0, 0, 0, 0, 0, 0, 0, 0, 0, 0, 0, 0, 0, 0, 0, 0,\n",
      "        0, 0, 0, 0, 0, 0, 0, 0, 0, 0],\n",
      "       [0, 0, 0, 0, 0, 0, 0, 0, 0, 0, 0, 0, 0, 0, 0, 0, 0, 0, 0, 0, 0, 0,\n",
      "        0, 0, 0, 0, 0, 0, 0, 0, 0, 0, 0, 0, 0, 0, 0, 0, 0, 0, 0, 0, 0, 0,\n",
      "        0, 0, 0, 0, 0, 0, 0, 0, 0, 0, 0, 0, 0, 0, 0, 0, 0, 0, 0, 0, 0, 0,\n",
      "        0, 0, 0, 0, 0, 0, 0, 0, 0, 0, 0, 0, 0, 0, 0, 0, 0, 0, 0, 0, 0, 0,\n",
      "        0, 0, 0, 0, 0, 0, 0, 0, 0, 0, 0, 0, 0, 0, 0, 0, 0, 0, 0, 0, 0, 0,\n",
      "        0, 0, 0, 0, 0, 0, 0, 0, 0, 0],\n",
      "       [0, 0, 0, 0, 0, 0, 0, 0, 0, 0, 0, 0, 0, 0, 0, 0, 0, 0, 0, 0, 0, 0,\n",
      "        0, 0, 0, 0, 0, 0, 0, 0, 0, 0, 0, 0, 0, 0, 0, 0, 0, 0, 0, 0, 0, 0,\n",
      "        0, 0, 0, 0, 0, 0, 0, 0, 0, 0, 0, 0, 0, 0, 0, 0, 0, 0, 0, 0, 0, 0,\n",
      "        0, 0, 0, 0, 0, 0, 0, 0, 0, 0, 0, 0, 0, 0, 0, 0, 0, 0, 0, 0, 0, 0,\n",
      "        0, 0, 0, 0, 0, 0, 0, 0, 0, 0, 0, 0, 0, 0, 0, 0, 0, 0, 0, 0, 0, 0,\n",
      "        0, 0, 0, 0, 0, 0, 0, 0, 0, 0],\n",
      "       [0, 0, 0, 0, 0, 0, 0, 0, 0, 0, 0, 0, 0, 0, 0, 0, 0, 0, 0, 0, 0, 0,\n",
      "        0, 0, 0, 0, 0, 0, 0, 0, 0, 0, 0, 0, 0, 0, 0, 0, 0, 0, 0, 0, 0, 0,\n",
      "        0, 0, 0, 0, 0, 0, 0, 0, 0, 0, 0, 0, 0, 0, 0, 0, 0, 0, 0, 0, 0, 0,\n",
      "        0, 0, 0, 0, 0, 0, 0, 0, 0, 0, 0, 0, 0, 0, 0, 0, 0, 0, 0, 0, 0, 0,\n",
      "        0, 0, 0, 0, 0, 0, 0, 0, 0, 0, 0, 0, 0, 0, 0, 0, 0, 0, 0, 0, 0, 0,\n",
      "        0, 0, 0, 0, 0, 0, 0, 0, 0, 0]], dtype=int32)>, 'mask': <tf.Tensor: shape=(5, 120, 120), dtype=float32, numpy=\n",
      "array([[[1., 1., 1., ..., 0., 0., 0.],\n",
      "        [1., 1., 1., ..., 0., 0., 0.],\n",
      "        [1., 1., 1., ..., 0., 0., 0.],\n",
      "        ...,\n",
      "        [0., 0., 0., ..., 0., 0., 0.],\n",
      "        [0., 0., 0., ..., 0., 0., 0.],\n",
      "        [0., 0., 0., ..., 0., 0., 0.]],\n",
      "\n",
      "       [[1., 1., 1., ..., 0., 0., 0.],\n",
      "        [1., 1., 1., ..., 0., 0., 0.],\n",
      "        [1., 1., 1., ..., 0., 0., 0.],\n",
      "        ...,\n",
      "        [0., 0., 0., ..., 0., 0., 0.],\n",
      "        [0., 0., 0., ..., 0., 0., 0.],\n",
      "        [0., 0., 0., ..., 0., 0., 0.]],\n",
      "\n",
      "       [[1., 1., 1., ..., 0., 0., 0.],\n",
      "        [1., 1., 1., ..., 0., 0., 0.],\n",
      "        [1., 1., 1., ..., 0., 0., 0.],\n",
      "        ...,\n",
      "        [0., 0., 0., ..., 0., 0., 0.],\n",
      "        [0., 0., 0., ..., 0., 0., 0.],\n",
      "        [0., 0., 0., ..., 0., 0., 0.]],\n",
      "\n",
      "       [[1., 1., 1., ..., 0., 0., 0.],\n",
      "        [1., 1., 1., ..., 0., 0., 0.],\n",
      "        [1., 1., 1., ..., 0., 0., 0.],\n",
      "        ...,\n",
      "        [1., 1., 1., ..., 1., 0., 0.],\n",
      "        [1., 1., 1., ..., 1., 1., 0.],\n",
      "        [1., 1., 1., ..., 1., 1., 1.]],\n",
      "\n",
      "       [[1., 1., 1., ..., 0., 0., 0.],\n",
      "        [1., 1., 1., ..., 0., 0., 0.],\n",
      "        [1., 1., 1., ..., 0., 0., 0.],\n",
      "        ...,\n",
      "        [0., 0., 0., ..., 0., 0., 0.],\n",
      "        [0., 0., 0., ..., 0., 0., 0.],\n",
      "        [0., 0., 0., ..., 0., 0., 0.]]], dtype=float32)>}\n"
     ]
    }
   ],
   "source": [
    "for item in dataset_prefix:\n",
    "    print(item)\n",
    "    break"
   ]
  },
  {
   "cell_type": "code",
   "execution_count": 16,
   "id": "ac4853e1",
   "metadata": {},
   "outputs": [
    {
     "data": {
      "text/plain": [
       "[None, None, None]"
      ]
     },
     "execution_count": 16,
     "metadata": {},
     "output_type": "execute_result"
    }
   ],
   "source": [
    "[None] * 3"
   ]
  },
  {
   "cell_type": "code",
   "execution_count": 72,
   "id": "88a78446",
   "metadata": {},
   "outputs": [
    {
     "data": {
      "text/plain": [
       "<tf.Tensor: shape=(98,), dtype=float32, numpy=\n",
       "array([16., 16., 16., 16., 16., 16., 16., 16., 16., 16., 16., 16., 16.,\n",
       "       16., 16., 16., 17., 18., 19., 20., 21., 22., 23., 24., 25., 26.,\n",
       "       27., 28., 29., 30., 31., 32., 33., 34., 35., 36., 37., 38., 39.,\n",
       "       40., 41., 42., 43., 44., 45., 46., 47., 48., 49., 50., 51., 52.,\n",
       "       53., 54., 55., 56., 57., 58., 59., 60., 61., 62., 63., 64., 65.,\n",
       "       66., 67., 68., 69., 70., 71., 72., 73., 74., 75., 76., 77., 78.,\n",
       "       79., 80., 81., 82., 83., 84., 85., 86., 87., 88., 89., 90., 91.,\n",
       "       92., 93., 94., 95., 96., 97., 98.], dtype=float32)>"
      ]
     },
     "execution_count": 72,
     "metadata": {},
     "output_type": "execute_result"
    }
   ],
   "source": [
    "tf.reduce_sum(item['mask'], axis=1)"
   ]
  },
  {
   "cell_type": "code",
   "execution_count": 44,
   "id": "0473909c",
   "metadata": {},
   "outputs": [
    {
     "data": {
      "text/plain": [
       "<tf.Tensor: shape=(), dtype=int32, numpy=72>"
      ]
     },
     "execution_count": 44,
     "metadata": {},
     "output_type": "execute_result"
    }
   ],
   "source": [
    "remaining_length"
   ]
  },
  {
   "cell_type": "code",
   "execution_count": 6,
   "id": "8d8846b4",
   "metadata": {},
   "outputs": [],
   "source": [
    "# Normal attention masking\n",
    "\n",
    "input_mask = tf.constant([[1, 1, 1, 0, 0], \n",
    "              [1, 1, 1, 1, 1], \n",
    "              [1, 1, 1, 1, 1]\n",
    "             ])\n",
    "#attention_mask = SelfAttentionMask()([embeddings, input_mask])"
   ]
  },
  {
   "cell_type": "code",
   "execution_count": null,
   "id": "b154d366",
   "metadata": {},
   "outputs": [],
   "source": []
  },
  {
   "cell_type": "code",
   "execution_count": 7,
   "id": "062b2913",
   "metadata": {},
   "outputs": [],
   "source": [
    "batch_size = tf.shape(input_mask)[0]\n",
    "seq_length = tf.shape(input_mask)[1]"
   ]
  },
  {
   "cell_type": "code",
   "execution_count": null,
   "id": "5e1e8d44",
   "metadata": {},
   "outputs": [],
   "source": []
  },
  {
   "cell_type": "code",
   "execution_count": 9,
   "id": "d92dbfa6",
   "metadata": {},
   "outputs": [],
   "source": [
    "to_mask = tf.cast(tf.reshape(input_mask, [batch_size, 1, seq_length]), dtype=input_mask.dtype)\n",
    "broadcast_ones = tf.ones(shape=[batch_size, seq_length, 1], dtype=input_mask.dtype)"
   ]
  },
  {
   "cell_type": "code",
   "execution_count": 10,
   "id": "f01250c4",
   "metadata": {},
   "outputs": [
    {
     "data": {
      "text/plain": [
       "<tf.Tensor: shape=(3, 1, 5), dtype=int32, numpy=\n",
       "array([[[1, 1, 1, 0, 0]],\n",
       "\n",
       "       [[1, 1, 1, 1, 1]],\n",
       "\n",
       "       [[1, 1, 1, 1, 1]]], dtype=int32)>"
      ]
     },
     "execution_count": 10,
     "metadata": {},
     "output_type": "execute_result"
    }
   ],
   "source": [
    "to_mask"
   ]
  },
  {
   "cell_type": "code",
   "execution_count": 11,
   "id": "df8115ff",
   "metadata": {},
   "outputs": [],
   "source": []
  },
  {
   "cell_type": "code",
   "execution_count": 12,
   "id": "a588690c",
   "metadata": {},
   "outputs": [
    {
     "data": {
      "text/plain": [
       "<tf.Tensor: shape=(3, 5, 1), dtype=int32, numpy=\n",
       "array([[[1],\n",
       "        [1],\n",
       "        [1],\n",
       "        [1],\n",
       "        [1]],\n",
       "\n",
       "       [[1],\n",
       "        [1],\n",
       "        [1],\n",
       "        [1],\n",
       "        [1]],\n",
       "\n",
       "       [[1],\n",
       "        [1],\n",
       "        [1],\n",
       "        [1],\n",
       "        [1]]], dtype=int32)>"
      ]
     },
     "execution_count": 12,
     "metadata": {},
     "output_type": "execute_result"
    }
   ],
   "source": [
    "broadcast_ones"
   ]
  },
  {
   "cell_type": "code",
   "execution_count": 13,
   "id": "ae18bacf",
   "metadata": {},
   "outputs": [],
   "source": [
    "mask = broadcast_ones * to_mask"
   ]
  },
  {
   "cell_type": "code",
   "execution_count": 14,
   "id": "4884b546",
   "metadata": {},
   "outputs": [
    {
     "data": {
      "text/plain": [
       "<tf.Tensor: shape=(3, 5, 5), dtype=int32, numpy=\n",
       "array([[[1, 1, 1, 0, 0],\n",
       "        [1, 1, 1, 0, 0],\n",
       "        [1, 1, 1, 0, 0],\n",
       "        [1, 1, 1, 0, 0],\n",
       "        [1, 1, 1, 0, 0]],\n",
       "\n",
       "       [[1, 1, 1, 1, 1],\n",
       "        [1, 1, 1, 1, 1],\n",
       "        [1, 1, 1, 1, 1],\n",
       "        [1, 1, 1, 1, 1],\n",
       "        [1, 1, 1, 1, 1]],\n",
       "\n",
       "       [[1, 1, 1, 1, 1],\n",
       "        [1, 1, 1, 1, 1],\n",
       "        [1, 1, 1, 1, 1],\n",
       "        [1, 1, 1, 1, 1],\n",
       "        [1, 1, 1, 1, 1]]], dtype=int32)>"
      ]
     },
     "execution_count": 14,
     "metadata": {},
     "output_type": "execute_result"
    }
   ],
   "source": [
    "mask"
   ]
  },
  {
   "cell_type": "code",
   "execution_count": null,
   "id": "195a29cb",
   "metadata": {},
   "outputs": [],
   "source": []
  }
 ],
 "metadata": {
  "kernelspec": {
   "display_name": "Python 3.8.8 64-bit ('venv_tf2.4': conda)",
   "language": "python",
   "name": "python388jvsc74a57bd0e43aa85e0d007ca602e04b3033c86d6af4f225b69c2da0d32fa6602213775d26"
  },
  "language_info": {
   "codemirror_mode": {
    "name": "ipython",
    "version": 3
   },
   "file_extension": ".py",
   "mimetype": "text/x-python",
   "name": "python",
   "nbconvert_exporter": "python",
   "pygments_lexer": "ipython3",
   "version": "3.8.8"
  }
 },
 "nbformat": 4,
 "nbformat_minor": 5
}
